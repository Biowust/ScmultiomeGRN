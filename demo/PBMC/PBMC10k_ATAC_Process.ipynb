{
 "cells": [
  {
   "cell_type": "code",
   "execution_count": 62,
   "metadata": {
    "scrolled": true
   },
   "outputs": [
    {
     "name": "stderr",
     "output_type": "stream",
     "text": [
      "\n",
      "载入程辑包：'Matrix'\n",
      "\n",
      "\n",
      "The following object is masked from 'package:S4Vectors':\n",
      "\n",
      "    expand\n",
      "\n",
      "\n"
     ]
    }
   ],
   "source": [
    "library(Signac)\n",
    "library(Seurat)\n",
    "library(EnsDb.Hsapiens.v75)\n",
    "library(ggplot2)\n",
    "library(patchwork)\n",
    "library(Matrix)"
   ]
  },
  {
   "cell_type": "code",
   "execution_count": 2,
   "metadata": {},
   "outputs": [],
   "source": [
    "root_dir = '.'\n",
    "pbmc_scrna_data_dir = file.path(root_dir, 'pbmc8k_filtered_gene_bc_matrices', 'filtered_gene_bc_matrices', 'GRCh38')\n",
    "pbmc_atac_data_dir = file.path(root_dir, 'atac_v1_pbmc_10k_filtered_peak_bc_matrix','filtered_peak_bc_matrix')\n",
    "atac_fragment_path = file.path(root_dir, \"atac_v1_pbmc_10k_fragments.tsv.gz\")"
   ]
  },
  {
   "cell_type": "code",
   "execution_count": 3,
   "metadata": {},
   "outputs": [],
   "source": [
    "pbmc_atac_data <- ReadMtx(mtx=file.path(pbmc_atac_data_dir,'matrix.mtx'), \n",
    "                          cells=file.path(pbmc_atac_data_dir, 'barcodes.tsv'),\n",
    "                          features=file.path(pbmc_atac_data_dir, 'peaks.tsv'),\n",
    "                          feature.column=1)\n",
    "pbmc_atac_metadata <- read.table(\"pbmc_atac_metadata.tsv\", sep=',')"
   ]
  },
  {
   "cell_type": "code",
   "execution_count": 4,
   "metadata": {},
   "outputs": [],
   "source": [
    "pbmc_atac_obj <- CreateSeuratObject(counts = pbmc_atac_data, project = \"pbmc10k\", assay=\"ATAC\", meta.data=pbmc_atac_metadata)"
   ]
  },
  {
   "cell_type": "code",
   "execution_count": 5,
   "metadata": {},
   "outputs": [
    {
     "data": {
      "text/html": [
       "<table class=\"dataframe\">\n",
       "<caption>A data.frame: 8633 × 11</caption>\n",
       "<thead>\n",
       "\t<tr><th></th><th scope=col>orig.ident</th><th scope=col>nCount_ATAC</th><th scope=col>nFeature_ATAC</th><th scope=col>predicted.celltype.l1.score</th><th scope=col>predicted.celltype.l1</th><th scope=col>predicted.celltype.l2.score</th><th scope=col>predicted.celltype.l2</th><th scope=col>predicted.celltype.l3.score</th><th scope=col>predicted.celltype.l3</th><th scope=col>nCount_RNA</th><th scope=col>nFeature_RNA</th></tr>\n",
       "\t<tr><th></th><th scope=col>&lt;chr&gt;</th><th scope=col>&lt;int&gt;</th><th scope=col>&lt;int&gt;</th><th scope=col>&lt;dbl&gt;</th><th scope=col>&lt;chr&gt;</th><th scope=col>&lt;dbl&gt;</th><th scope=col>&lt;chr&gt;</th><th scope=col>&lt;dbl&gt;</th><th scope=col>&lt;chr&gt;</th><th scope=col>&lt;int&gt;</th><th scope=col>&lt;int&gt;</th></tr>\n",
       "</thead>\n",
       "<tbody>\n",
       "\t<tr><th scope=row>AAACGAAAGAGCGAAA-1</th><td>SeuratProject</td><td> 1172</td><td>1036</td><td>0.3726037</td><td>Mono   </td><td>0.3484789</td><td>CD14 Mono     </td><td>0.3484789</td><td>CD14 Mono           </td><td> 5972</td><td> 3167</td></tr>\n",
       "\t<tr><th scope=row>AAACGAAAGAGTTTGA-1</th><td>SeuratProject</td><td> 1358</td><td>1179</td><td>0.6990826</td><td>Mono   </td><td>0.6938140</td><td>CD14 Mono     </td><td>0.6938140</td><td>CD14 Mono           </td><td> 6302</td><td> 3371</td></tr>\n",
       "\t<tr><th scope=row>AAACGAAAGCGAGCTA-1</th><td>SeuratProject</td><td> 2395</td><td>1816</td><td>0.3192837</td><td>Mono   </td><td>0.2271536</td><td>CD14 Mono     </td><td>0.2271536</td><td>CD14 Mono           </td><td>12570</td><td> 5281</td></tr>\n",
       "\t<tr><th scope=row>AAACGAAAGGCTTCGC-1</th><td>SeuratProject</td><td>18295</td><td>8919</td><td>0.4638083</td><td>Mono   </td><td>0.4638083</td><td>CD14 Mono     </td><td>0.4638083</td><td>CD14 Mono           </td><td>97107</td><td>11008</td></tr>\n",
       "\t<tr><th scope=row>AAACGAAAGTGCTGAG-1</th><td>SeuratProject</td><td>  869</td><td> 781</td><td>0.8818523</td><td>Mono   </td><td>0.8603005</td><td>CD14 Mono     </td><td>0.8603005</td><td>CD14 Mono           </td><td> 4682</td><td> 2822</td></tr>\n",
       "\t<tr><th scope=row>AAACGAAGTCAGGCTC-1</th><td>SeuratProject</td><td>  523</td><td> 456</td><td>0.5460860</td><td>DC     </td><td>0.5422624</td><td>pDC           </td><td>0.5422624</td><td>pDC                 </td><td> 2839</td><td> 1843</td></tr>\n",
       "\t<tr><th scope=row>AAACGAAGTGCCCGAT-1</th><td>SeuratProject</td><td> 1759</td><td>1517</td><td>0.6674465</td><td>Mono   </td><td>0.6666571</td><td>CD14 Mono     </td><td>0.6666571</td><td>CD14 Mono           </td><td> 8824</td><td> 4391</td></tr>\n",
       "\t<tr><th scope=row>AAACGAAGTTGTATCG-1</th><td>SeuratProject</td><td> 1248</td><td>1106</td><td>0.6331085</td><td>B      </td><td>0.5799114</td><td>B naive       </td><td>0.4834936</td><td>B naive lambda      </td><td> 6546</td><td> 3537</td></tr>\n",
       "\t<tr><th scope=row>AAACGAATCAGTTGAC-1</th><td>SeuratProject</td><td>  802</td><td> 708</td><td>0.4664765</td><td>Mono   </td><td>0.3224327</td><td>NK            </td><td>0.3050318</td><td>CD14 Mono           </td><td> 4271</td><td> 2567</td></tr>\n",
       "\t<tr><th scope=row>AAACGAATCCTTACGC-1</th><td>SeuratProject</td><td> 1042</td><td> 888</td><td>0.7679072</td><td>Mono   </td><td>0.7622426</td><td>CD14 Mono     </td><td>0.7622426</td><td>CD14 Mono           </td><td> 5602</td><td> 2587</td></tr>\n",
       "\t<tr><th scope=row>AAACGAATCGTTTGAG-1</th><td>SeuratProject</td><td> 1066</td><td> 885</td><td>0.6111972</td><td>B      </td><td>0.5837836</td><td>B intermediate</td><td>0.5824208</td><td>B intermediate kappa</td><td> 5713</td><td> 3161</td></tr>\n",
       "\t<tr><th scope=row>AAACGAATCTGCCGAG-1</th><td>SeuratProject</td><td>  228</td><td> 219</td><td>0.8056106</td><td>CD4 T  </td><td>0.4026028</td><td>CD4 Naive     </td><td>0.4026028</td><td>CD4 Naive           </td><td> 1102</td><td>  923</td></tr>\n",
       "\t<tr><th scope=row>AAACTCGAGATGCGCA-1</th><td>SeuratProject</td><td> 2051</td><td>1673</td><td>0.8275840</td><td>Mono   </td><td>0.5893040</td><td>CD14 Mono     </td><td>0.5893040</td><td>CD14 Mono           </td><td>10385</td><td> 4436</td></tr>\n",
       "\t<tr><th scope=row>AAACTCGAGCATGATA-1</th><td>SeuratProject</td><td>  712</td><td> 653</td><td>0.7295676</td><td>Mono   </td><td>0.7198030</td><td>CD14 Mono     </td><td>0.7198030</td><td>CD14 Mono           </td><td> 3531</td><td> 2281</td></tr>\n",
       "\t<tr><th scope=row>AAACTCGAGCGCATTT-1</th><td>SeuratProject</td><td> 1936</td><td>1469</td><td>0.4006198</td><td>CD8 T  </td><td>0.3487601</td><td>CD8 Naive     </td><td>0.2730309</td><td>Doublet             </td><td>10170</td><td> 4372</td></tr>\n",
       "\t<tr><th scope=row>AAACTCGAGTACTCTG-1</th><td>SeuratProject</td><td> 1859</td><td>1315</td><td>0.8266520</td><td>other T</td><td>0.7805743</td><td>MAIT          </td><td>0.7805743</td><td>MAIT                </td><td> 9691</td><td> 4041</td></tr>\n",
       "\t<tr><th scope=row>AAACTCGAGTCACGCC-1</th><td>SeuratProject</td><td> 1023</td><td> 966</td><td>0.6808622</td><td>CD4 T  </td><td>0.4842155</td><td>CD4 TCM       </td><td>0.4082067</td><td>CD4 TCM_1           </td><td> 5325</td><td> 3321</td></tr>\n",
       "\t<tr><th scope=row>AAACTCGAGTCTCTAG-1</th><td>SeuratProject</td><td> 1365</td><td>1184</td><td>0.7848241</td><td>Mono   </td><td>0.7571389</td><td>CD14 Mono     </td><td>0.7571389</td><td>CD14 Mono           </td><td> 7150</td><td> 3582</td></tr>\n",
       "\t<tr><th scope=row>AAACTCGCAAAGAGAG-1</th><td>SeuratProject</td><td> 3025</td><td>2188</td><td>0.3997804</td><td>NK     </td><td>0.3924544</td><td>NK            </td><td>0.2590527</td><td>NK_4                </td><td>16013</td><td> 5662</td></tr>\n",
       "\t<tr><th scope=row>AAACTCGCAAGCGAAC-1</th><td>SeuratProject</td><td>  923</td><td> 785</td><td>0.8724407</td><td>Mono   </td><td>0.6757195</td><td>CD16 Mono     </td><td>0.6757195</td><td>CD16 Mono           </td><td> 4801</td><td> 2826</td></tr>\n",
       "\t<tr><th scope=row>AAACTCGCACTCAGCG-1</th><td>SeuratProject</td><td> 1133</td><td> 993</td><td>0.8615116</td><td>Mono   </td><td>0.8061115</td><td>CD14 Mono     </td><td>0.8061115</td><td>CD14 Mono           </td><td> 6161</td><td> 3342</td></tr>\n",
       "\t<tr><th scope=row>AAACTCGCACTTGCGG-1</th><td>SeuratProject</td><td>  698</td><td> 634</td><td>0.6850943</td><td>Mono   </td><td>0.6410747</td><td>CD14 Mono     </td><td>0.6410747</td><td>CD14 Mono           </td><td> 3509</td><td> 2202</td></tr>\n",
       "\t<tr><th scope=row>AAACTCGCAGCGTCGT-1</th><td>SeuratProject</td><td> 1042</td><td> 833</td><td>0.5226428</td><td>CD4 T  </td><td>0.4582289</td><td>CD4 TCM       </td><td>0.4167504</td><td>CD14 Mono           </td><td> 5653</td><td> 2868</td></tr>\n",
       "\t<tr><th scope=row>AAACTCGCATCACAGT-1</th><td>SeuratProject</td><td> 1108</td><td> 966</td><td>0.5600781</td><td>Mono   </td><td>0.3002542</td><td>CD14 Mono     </td><td>0.3002542</td><td>CD14 Mono           </td><td> 5864</td><td> 3229</td></tr>\n",
       "\t<tr><th scope=row>AAACTCGCATGTGGGA-1</th><td>SeuratProject</td><td> 7100</td><td>3993</td><td>0.6400018</td><td>CD4 T  </td><td>0.5466944</td><td>CD4 TCM       </td><td>0.4338967</td><td>CD4 TCM_2           </td><td>35934</td><td> 7487</td></tr>\n",
       "\t<tr><th scope=row>AAACTCGGTCAGAAGC-1</th><td>SeuratProject</td><td> 1084</td><td> 948</td><td>0.5625784</td><td>DC     </td><td>0.5493295</td><td>pDC           </td><td>0.5493295</td><td>pDC                 </td><td> 5551</td><td> 3072</td></tr>\n",
       "\t<tr><th scope=row>AAACTCGGTCATAGCT-1</th><td>SeuratProject</td><td> 1599</td><td>1387</td><td>0.4906957</td><td>Mono   </td><td>0.4887650</td><td>CD14 Mono     </td><td>0.4887650</td><td>CD14 Mono           </td><td> 8365</td><td> 4033</td></tr>\n",
       "\t<tr><th scope=row>AAACTCGGTGGATTCT-1</th><td>SeuratProject</td><td> 1248</td><td>1065</td><td>0.6912973</td><td>Mono   </td><td>0.6886764</td><td>CD14 Mono     </td><td>0.6886764</td><td>CD14 Mono           </td><td> 6520</td><td> 3508</td></tr>\n",
       "\t<tr><th scope=row>AAACTCGGTTTGATCG-1</th><td>SeuratProject</td><td> 3883</td><td>2681</td><td>0.2810680</td><td>other  </td><td>0.2515140</td><td>Doublet       </td><td>0.2515140</td><td>Doublet             </td><td>20571</td><td> 6029</td></tr>\n",
       "\t<tr><th scope=row>AAACTCGTCAGGTCTA-1</th><td>SeuratProject</td><td> 3898</td><td>2772</td><td>0.6166532</td><td>NK     </td><td>0.5978144</td><td>NK            </td><td>0.3641177</td><td>NK_4                </td><td>19860</td><td> 6184</td></tr>\n",
       "\t<tr><th scope=row>⋮</th><td>⋮</td><td>⋮</td><td>⋮</td><td>⋮</td><td>⋮</td><td>⋮</td><td>⋮</td><td>⋮</td><td>⋮</td><td>⋮</td><td>⋮</td></tr>\n",
       "\t<tr><th scope=row>TTTGGTTGTACAACGG-1</th><td>SeuratProject</td><td>  812</td><td> 729</td><td>0.6883754</td><td>Mono   </td><td>0.6759490</td><td>CD14 Mono     </td><td>0.6759490</td><td>CD14 Mono           </td><td> 4165</td><td>2585</td></tr>\n",
       "\t<tr><th scope=row>TTTGGTTGTCATAAGA-1</th><td>SeuratProject</td><td> 1760</td><td>1373</td><td>0.3907624</td><td>CD4 T  </td><td>0.2910011</td><td>CD8 Naive     </td><td>0.2868047</td><td>dnT_2               </td><td> 9371</td><td>4224</td></tr>\n",
       "\t<tr><th scope=row>TTTGGTTGTGAATCAA-1</th><td>SeuratProject</td><td> 1249</td><td> 974</td><td>0.8210386</td><td>CD4 T  </td><td>0.7150912</td><td>CD4 TCM       </td><td>0.6070211</td><td>CD4 TCM_3           </td><td> 6695</td><td>3328</td></tr>\n",
       "\t<tr><th scope=row>TTTGGTTGTGCCCGAT-1</th><td>SeuratProject</td><td>  447</td><td> 395</td><td>0.5728674</td><td>DC     </td><td>0.5670873</td><td>pDC           </td><td>0.5670873</td><td>pDC                 </td><td> 2507</td><td>1622</td></tr>\n",
       "\t<tr><th scope=row>TTTGGTTGTTAGGCTT-1</th><td>SeuratProject</td><td>  297</td><td> 274</td><td>0.6037651</td><td>DC     </td><td>0.5955341</td><td>pDC           </td><td>0.5955341</td><td>pDC                 </td><td> 1749</td><td>1275</td></tr>\n",
       "\t<tr><th scope=row>TTTGGTTGTTCTTATC-1</th><td>SeuratProject</td><td>  237</td><td> 226</td><td>0.5550490</td><td>DC     </td><td>0.5506822</td><td>pDC           </td><td>0.5506822</td><td>pDC                 </td><td> 1335</td><td>1008</td></tr>\n",
       "\t<tr><th scope=row>TTTGGTTGTTGCCGCA-1</th><td>SeuratProject</td><td>  127</td><td> 123</td><td>0.6067491</td><td>DC     </td><td>0.5982813</td><td>pDC           </td><td>0.5982813</td><td>pDC                 </td><td>  715</td><td> 598</td></tr>\n",
       "\t<tr><th scope=row>TTTGGTTTCCAATAGC-1</th><td>SeuratProject</td><td>  746</td><td> 664</td><td>0.6138298</td><td>other  </td><td>0.6111525</td><td>HSPC          </td><td>0.6111525</td><td>HSPC                </td><td> 3750</td><td>2316</td></tr>\n",
       "\t<tr><th scope=row>TTTGGTTTCCTGTGGG-1</th><td>SeuratProject</td><td> 2276</td><td>1763</td><td>0.8044324</td><td>CD4 T  </td><td>0.4008556</td><td>CD4 TCM       </td><td>0.3925689</td><td>CD4 Naive           </td><td>11812</td><td>4783</td></tr>\n",
       "\t<tr><th scope=row>TTTGGTTTCGACCCGA-1</th><td>SeuratProject</td><td> 1276</td><td>1106</td><td>0.3685401</td><td>CD4 T  </td><td>0.3082791</td><td>HSPC          </td><td>0.3082791</td><td>HSPC                </td><td> 6342</td><td>3470</td></tr>\n",
       "\t<tr><th scope=row>TTTGGTTTCGACTTAG-1</th><td>SeuratProject</td><td>10755</td><td>5259</td><td>0.2811186</td><td>CD8 T  </td><td>0.2725112</td><td>CD14 Mono     </td><td>0.2725112</td><td>CD14 Mono           </td><td>55300</td><td>8681</td></tr>\n",
       "\t<tr><th scope=row>TTTGGTTTCGAGTTAC-1</th><td>SeuratProject</td><td>  789</td><td> 688</td><td>0.6358012</td><td>B      </td><td>0.5764310</td><td>B naive       </td><td>0.4915385</td><td>B naive kappa       </td><td> 3963</td><td>2430</td></tr>\n",
       "\t<tr><th scope=row>TTTGGTTTCTCGTAGA-1</th><td>SeuratProject</td><td>  547</td><td> 481</td><td>0.5583304</td><td>Mono   </td><td>0.5436849</td><td>CD14 Mono     </td><td>0.5436849</td><td>CD14 Mono           </td><td> 2670</td><td>1589</td></tr>\n",
       "\t<tr><th scope=row>TTTGTGTAGCATACCT-1</th><td>SeuratProject</td><td> 1411</td><td>1223</td><td>0.7412927</td><td>Mono   </td><td>0.7173694</td><td>CD14 Mono     </td><td>0.7173694</td><td>CD14 Mono           </td><td> 7096</td><td>3747</td></tr>\n",
       "\t<tr><th scope=row>TTTGTGTAGCTGGAGT-1</th><td>SeuratProject</td><td>  909</td><td> 775</td><td>0.4051824</td><td>CD4 T  </td><td>0.2897354</td><td>CD4 Naive     </td><td>0.2897354</td><td>CD4 Naive           </td><td> 4724</td><td>2718</td></tr>\n",
       "\t<tr><th scope=row>TTTGTGTAGGATGCCA-1</th><td>SeuratProject</td><td>  461</td><td> 416</td><td>0.5856901</td><td>other T</td><td>0.5824501</td><td>MAIT          </td><td>0.5824501</td><td>MAIT                </td><td> 2569</td><td>1573</td></tr>\n",
       "\t<tr><th scope=row>TTTGTGTAGTCCAGAG-1</th><td>SeuratProject</td><td> 2093</td><td>1593</td><td>0.9486533</td><td>CD4 T  </td><td>0.8008653</td><td>CD4 TCM       </td><td>0.5942073</td><td>CD4 TCM_3           </td><td>11294</td><td>4447</td></tr>\n",
       "\t<tr><th scope=row>TTTGTGTCAACCTCCT-1</th><td>SeuratProject</td><td>  757</td><td> 665</td><td>0.5547427</td><td>B      </td><td>0.5483590</td><td>B memory      </td><td>0.5232199</td><td>B memory kappa      </td><td> 4084</td><td>2469</td></tr>\n",
       "\t<tr><th scope=row>TTTGTGTCAATGCATC-1</th><td>SeuratProject</td><td> 1393</td><td>1150</td><td>0.5619825</td><td>other  </td><td>0.4718030</td><td>Doublet       </td><td>0.4718030</td><td>Doublet             </td><td> 7419</td><td>3747</td></tr>\n",
       "\t<tr><th scope=row>TTTGTGTCACGGCCAT-1</th><td>SeuratProject</td><td>  723</td><td> 626</td><td>0.5352731</td><td>Mono   </td><td>0.3423738</td><td>CD14 Mono     </td><td>0.3423738</td><td>CD14 Mono           </td><td> 4077</td><td>2164</td></tr>\n",
       "\t<tr><th scope=row>TTTGTGTGTAACCCAT-1</th><td>SeuratProject</td><td>  573</td><td> 505</td><td>0.4299851</td><td>B      </td><td>0.4265019</td><td>B intermediate</td><td>0.4259227</td><td>B intermediate kappa</td><td> 3127</td><td>1963</td></tr>\n",
       "\t<tr><th scope=row>TTTGTGTGTCGGCTGT-1</th><td>SeuratProject</td><td>  946</td><td> 828</td><td>0.8372919</td><td>Mono   </td><td>0.8225464</td><td>CD14 Mono     </td><td>0.8225464</td><td>CD14 Mono           </td><td> 4499</td><td>2658</td></tr>\n",
       "\t<tr><th scope=row>TTTGTGTGTGATGCTT-1</th><td>SeuratProject</td><td>  941</td><td> 821</td><td>0.7329129</td><td>Mono   </td><td>0.6870463</td><td>CD14 Mono     </td><td>0.6870463</td><td>CD14 Mono           </td><td> 5179</td><td>2911</td></tr>\n",
       "\t<tr><th scope=row>TTTGTGTGTTTAAGGA-1</th><td>SeuratProject</td><td> 1306</td><td>1134</td><td>0.8210368</td><td>Mono   </td><td>0.8177039</td><td>CD14 Mono     </td><td>0.8177039</td><td>CD14 Mono           </td><td> 7019</td><td>3713</td></tr>\n",
       "\t<tr><th scope=row>TTTGTGTTCATCGCCT-1</th><td>SeuratProject</td><td>  939</td><td> 851</td><td>0.4608154</td><td>Mono   </td><td>0.3608403</td><td>CD14 Mono     </td><td>0.3608403</td><td>CD14 Mono           </td><td> 4601</td><td>2845</td></tr>\n",
       "\t<tr><th scope=row>TTTGTGTTCATGCTTT-1</th><td>SeuratProject</td><td> 1013</td><td> 893</td><td>0.8042235</td><td>Mono   </td><td>0.4096243</td><td>CD14 Mono     </td><td>0.4096243</td><td>CD14 Mono           </td><td> 5134</td><td>2969</td></tr>\n",
       "\t<tr><th scope=row>TTTGTGTTCCGAGAGA-1</th><td>SeuratProject</td><td> 1035</td><td> 902</td><td>0.7745420</td><td>Mono   </td><td>0.7605730</td><td>CD14 Mono     </td><td>0.7605730</td><td>CD14 Mono           </td><td> 5129</td><td>2951</td></tr>\n",
       "\t<tr><th scope=row>TTTGTGTTCGAAGCCC-1</th><td>SeuratProject</td><td> 1528</td><td>1306</td><td>0.7407096</td><td>NK     </td><td>0.7131772</td><td>NK            </td><td>0.5069815</td><td>NK_4                </td><td> 7898</td><td>4013</td></tr>\n",
       "\t<tr><th scope=row>TTTGTGTTCTACTTTG-1</th><td>SeuratProject</td><td> 2195</td><td>1654</td><td>0.8412478</td><td>CD4 T  </td><td>0.6481820</td><td>CD4 TCM       </td><td>0.3661049</td><td>CD4 TCM_1           </td><td>11742</td><td>4536</td></tr>\n",
       "\t<tr><th scope=row>TTTGTGTTCTTGTGCC-1</th><td>SeuratProject</td><td> 1346</td><td>1155</td><td>0.3901098</td><td>B      </td><td>0.2565907</td><td>B naive       </td><td>0.2564998</td><td>B naive kappa       </td><td> 7065</td><td>3600</td></tr>\n",
       "</tbody>\n",
       "</table>\n"
      ],
      "text/latex": [
       "A data.frame: 8633 × 11\n",
       "\\begin{tabular}{r|lllllllllll}\n",
       "  & orig.ident & nCount\\_ATAC & nFeature\\_ATAC & predicted.celltype.l1.score & predicted.celltype.l1 & predicted.celltype.l2.score & predicted.celltype.l2 & predicted.celltype.l3.score & predicted.celltype.l3 & nCount\\_RNA & nFeature\\_RNA\\\\\n",
       "  & <chr> & <int> & <int> & <dbl> & <chr> & <dbl> & <chr> & <dbl> & <chr> & <int> & <int>\\\\\n",
       "\\hline\n",
       "\tAAACGAAAGAGCGAAA-1 & SeuratProject &  1172 & 1036 & 0.3726037 & Mono    & 0.3484789 & CD14 Mono      & 0.3484789 & CD14 Mono            &  5972 &  3167\\\\\n",
       "\tAAACGAAAGAGTTTGA-1 & SeuratProject &  1358 & 1179 & 0.6990826 & Mono    & 0.6938140 & CD14 Mono      & 0.6938140 & CD14 Mono            &  6302 &  3371\\\\\n",
       "\tAAACGAAAGCGAGCTA-1 & SeuratProject &  2395 & 1816 & 0.3192837 & Mono    & 0.2271536 & CD14 Mono      & 0.2271536 & CD14 Mono            & 12570 &  5281\\\\\n",
       "\tAAACGAAAGGCTTCGC-1 & SeuratProject & 18295 & 8919 & 0.4638083 & Mono    & 0.4638083 & CD14 Mono      & 0.4638083 & CD14 Mono            & 97107 & 11008\\\\\n",
       "\tAAACGAAAGTGCTGAG-1 & SeuratProject &   869 &  781 & 0.8818523 & Mono    & 0.8603005 & CD14 Mono      & 0.8603005 & CD14 Mono            &  4682 &  2822\\\\\n",
       "\tAAACGAAGTCAGGCTC-1 & SeuratProject &   523 &  456 & 0.5460860 & DC      & 0.5422624 & pDC            & 0.5422624 & pDC                  &  2839 &  1843\\\\\n",
       "\tAAACGAAGTGCCCGAT-1 & SeuratProject &  1759 & 1517 & 0.6674465 & Mono    & 0.6666571 & CD14 Mono      & 0.6666571 & CD14 Mono            &  8824 &  4391\\\\\n",
       "\tAAACGAAGTTGTATCG-1 & SeuratProject &  1248 & 1106 & 0.6331085 & B       & 0.5799114 & B naive        & 0.4834936 & B naive lambda       &  6546 &  3537\\\\\n",
       "\tAAACGAATCAGTTGAC-1 & SeuratProject &   802 &  708 & 0.4664765 & Mono    & 0.3224327 & NK             & 0.3050318 & CD14 Mono            &  4271 &  2567\\\\\n",
       "\tAAACGAATCCTTACGC-1 & SeuratProject &  1042 &  888 & 0.7679072 & Mono    & 0.7622426 & CD14 Mono      & 0.7622426 & CD14 Mono            &  5602 &  2587\\\\\n",
       "\tAAACGAATCGTTTGAG-1 & SeuratProject &  1066 &  885 & 0.6111972 & B       & 0.5837836 & B intermediate & 0.5824208 & B intermediate kappa &  5713 &  3161\\\\\n",
       "\tAAACGAATCTGCCGAG-1 & SeuratProject &   228 &  219 & 0.8056106 & CD4 T   & 0.4026028 & CD4 Naive      & 0.4026028 & CD4 Naive            &  1102 &   923\\\\\n",
       "\tAAACTCGAGATGCGCA-1 & SeuratProject &  2051 & 1673 & 0.8275840 & Mono    & 0.5893040 & CD14 Mono      & 0.5893040 & CD14 Mono            & 10385 &  4436\\\\\n",
       "\tAAACTCGAGCATGATA-1 & SeuratProject &   712 &  653 & 0.7295676 & Mono    & 0.7198030 & CD14 Mono      & 0.7198030 & CD14 Mono            &  3531 &  2281\\\\\n",
       "\tAAACTCGAGCGCATTT-1 & SeuratProject &  1936 & 1469 & 0.4006198 & CD8 T   & 0.3487601 & CD8 Naive      & 0.2730309 & Doublet              & 10170 &  4372\\\\\n",
       "\tAAACTCGAGTACTCTG-1 & SeuratProject &  1859 & 1315 & 0.8266520 & other T & 0.7805743 & MAIT           & 0.7805743 & MAIT                 &  9691 &  4041\\\\\n",
       "\tAAACTCGAGTCACGCC-1 & SeuratProject &  1023 &  966 & 0.6808622 & CD4 T   & 0.4842155 & CD4 TCM        & 0.4082067 & CD4 TCM\\_1            &  5325 &  3321\\\\\n",
       "\tAAACTCGAGTCTCTAG-1 & SeuratProject &  1365 & 1184 & 0.7848241 & Mono    & 0.7571389 & CD14 Mono      & 0.7571389 & CD14 Mono            &  7150 &  3582\\\\\n",
       "\tAAACTCGCAAAGAGAG-1 & SeuratProject &  3025 & 2188 & 0.3997804 & NK      & 0.3924544 & NK             & 0.2590527 & NK\\_4                 & 16013 &  5662\\\\\n",
       "\tAAACTCGCAAGCGAAC-1 & SeuratProject &   923 &  785 & 0.8724407 & Mono    & 0.6757195 & CD16 Mono      & 0.6757195 & CD16 Mono            &  4801 &  2826\\\\\n",
       "\tAAACTCGCACTCAGCG-1 & SeuratProject &  1133 &  993 & 0.8615116 & Mono    & 0.8061115 & CD14 Mono      & 0.8061115 & CD14 Mono            &  6161 &  3342\\\\\n",
       "\tAAACTCGCACTTGCGG-1 & SeuratProject &   698 &  634 & 0.6850943 & Mono    & 0.6410747 & CD14 Mono      & 0.6410747 & CD14 Mono            &  3509 &  2202\\\\\n",
       "\tAAACTCGCAGCGTCGT-1 & SeuratProject &  1042 &  833 & 0.5226428 & CD4 T   & 0.4582289 & CD4 TCM        & 0.4167504 & CD14 Mono            &  5653 &  2868\\\\\n",
       "\tAAACTCGCATCACAGT-1 & SeuratProject &  1108 &  966 & 0.5600781 & Mono    & 0.3002542 & CD14 Mono      & 0.3002542 & CD14 Mono            &  5864 &  3229\\\\\n",
       "\tAAACTCGCATGTGGGA-1 & SeuratProject &  7100 & 3993 & 0.6400018 & CD4 T   & 0.5466944 & CD4 TCM        & 0.4338967 & CD4 TCM\\_2            & 35934 &  7487\\\\\n",
       "\tAAACTCGGTCAGAAGC-1 & SeuratProject &  1084 &  948 & 0.5625784 & DC      & 0.5493295 & pDC            & 0.5493295 & pDC                  &  5551 &  3072\\\\\n",
       "\tAAACTCGGTCATAGCT-1 & SeuratProject &  1599 & 1387 & 0.4906957 & Mono    & 0.4887650 & CD14 Mono      & 0.4887650 & CD14 Mono            &  8365 &  4033\\\\\n",
       "\tAAACTCGGTGGATTCT-1 & SeuratProject &  1248 & 1065 & 0.6912973 & Mono    & 0.6886764 & CD14 Mono      & 0.6886764 & CD14 Mono            &  6520 &  3508\\\\\n",
       "\tAAACTCGGTTTGATCG-1 & SeuratProject &  3883 & 2681 & 0.2810680 & other   & 0.2515140 & Doublet        & 0.2515140 & Doublet              & 20571 &  6029\\\\\n",
       "\tAAACTCGTCAGGTCTA-1 & SeuratProject &  3898 & 2772 & 0.6166532 & NK      & 0.5978144 & NK             & 0.3641177 & NK\\_4                 & 19860 &  6184\\\\\n",
       "\t⋮ & ⋮ & ⋮ & ⋮ & ⋮ & ⋮ & ⋮ & ⋮ & ⋮ & ⋮ & ⋮ & ⋮\\\\\n",
       "\tTTTGGTTGTACAACGG-1 & SeuratProject &   812 &  729 & 0.6883754 & Mono    & 0.6759490 & CD14 Mono      & 0.6759490 & CD14 Mono            &  4165 & 2585\\\\\n",
       "\tTTTGGTTGTCATAAGA-1 & SeuratProject &  1760 & 1373 & 0.3907624 & CD4 T   & 0.2910011 & CD8 Naive      & 0.2868047 & dnT\\_2                &  9371 & 4224\\\\\n",
       "\tTTTGGTTGTGAATCAA-1 & SeuratProject &  1249 &  974 & 0.8210386 & CD4 T   & 0.7150912 & CD4 TCM        & 0.6070211 & CD4 TCM\\_3            &  6695 & 3328\\\\\n",
       "\tTTTGGTTGTGCCCGAT-1 & SeuratProject &   447 &  395 & 0.5728674 & DC      & 0.5670873 & pDC            & 0.5670873 & pDC                  &  2507 & 1622\\\\\n",
       "\tTTTGGTTGTTAGGCTT-1 & SeuratProject &   297 &  274 & 0.6037651 & DC      & 0.5955341 & pDC            & 0.5955341 & pDC                  &  1749 & 1275\\\\\n",
       "\tTTTGGTTGTTCTTATC-1 & SeuratProject &   237 &  226 & 0.5550490 & DC      & 0.5506822 & pDC            & 0.5506822 & pDC                  &  1335 & 1008\\\\\n",
       "\tTTTGGTTGTTGCCGCA-1 & SeuratProject &   127 &  123 & 0.6067491 & DC      & 0.5982813 & pDC            & 0.5982813 & pDC                  &   715 &  598\\\\\n",
       "\tTTTGGTTTCCAATAGC-1 & SeuratProject &   746 &  664 & 0.6138298 & other   & 0.6111525 & HSPC           & 0.6111525 & HSPC                 &  3750 & 2316\\\\\n",
       "\tTTTGGTTTCCTGTGGG-1 & SeuratProject &  2276 & 1763 & 0.8044324 & CD4 T   & 0.4008556 & CD4 TCM        & 0.3925689 & CD4 Naive            & 11812 & 4783\\\\\n",
       "\tTTTGGTTTCGACCCGA-1 & SeuratProject &  1276 & 1106 & 0.3685401 & CD4 T   & 0.3082791 & HSPC           & 0.3082791 & HSPC                 &  6342 & 3470\\\\\n",
       "\tTTTGGTTTCGACTTAG-1 & SeuratProject & 10755 & 5259 & 0.2811186 & CD8 T   & 0.2725112 & CD14 Mono      & 0.2725112 & CD14 Mono            & 55300 & 8681\\\\\n",
       "\tTTTGGTTTCGAGTTAC-1 & SeuratProject &   789 &  688 & 0.6358012 & B       & 0.5764310 & B naive        & 0.4915385 & B naive kappa        &  3963 & 2430\\\\\n",
       "\tTTTGGTTTCTCGTAGA-1 & SeuratProject &   547 &  481 & 0.5583304 & Mono    & 0.5436849 & CD14 Mono      & 0.5436849 & CD14 Mono            &  2670 & 1589\\\\\n",
       "\tTTTGTGTAGCATACCT-1 & SeuratProject &  1411 & 1223 & 0.7412927 & Mono    & 0.7173694 & CD14 Mono      & 0.7173694 & CD14 Mono            &  7096 & 3747\\\\\n",
       "\tTTTGTGTAGCTGGAGT-1 & SeuratProject &   909 &  775 & 0.4051824 & CD4 T   & 0.2897354 & CD4 Naive      & 0.2897354 & CD4 Naive            &  4724 & 2718\\\\\n",
       "\tTTTGTGTAGGATGCCA-1 & SeuratProject &   461 &  416 & 0.5856901 & other T & 0.5824501 & MAIT           & 0.5824501 & MAIT                 &  2569 & 1573\\\\\n",
       "\tTTTGTGTAGTCCAGAG-1 & SeuratProject &  2093 & 1593 & 0.9486533 & CD4 T   & 0.8008653 & CD4 TCM        & 0.5942073 & CD4 TCM\\_3            & 11294 & 4447\\\\\n",
       "\tTTTGTGTCAACCTCCT-1 & SeuratProject &   757 &  665 & 0.5547427 & B       & 0.5483590 & B memory       & 0.5232199 & B memory kappa       &  4084 & 2469\\\\\n",
       "\tTTTGTGTCAATGCATC-1 & SeuratProject &  1393 & 1150 & 0.5619825 & other   & 0.4718030 & Doublet        & 0.4718030 & Doublet              &  7419 & 3747\\\\\n",
       "\tTTTGTGTCACGGCCAT-1 & SeuratProject &   723 &  626 & 0.5352731 & Mono    & 0.3423738 & CD14 Mono      & 0.3423738 & CD14 Mono            &  4077 & 2164\\\\\n",
       "\tTTTGTGTGTAACCCAT-1 & SeuratProject &   573 &  505 & 0.4299851 & B       & 0.4265019 & B intermediate & 0.4259227 & B intermediate kappa &  3127 & 1963\\\\\n",
       "\tTTTGTGTGTCGGCTGT-1 & SeuratProject &   946 &  828 & 0.8372919 & Mono    & 0.8225464 & CD14 Mono      & 0.8225464 & CD14 Mono            &  4499 & 2658\\\\\n",
       "\tTTTGTGTGTGATGCTT-1 & SeuratProject &   941 &  821 & 0.7329129 & Mono    & 0.6870463 & CD14 Mono      & 0.6870463 & CD14 Mono            &  5179 & 2911\\\\\n",
       "\tTTTGTGTGTTTAAGGA-1 & SeuratProject &  1306 & 1134 & 0.8210368 & Mono    & 0.8177039 & CD14 Mono      & 0.8177039 & CD14 Mono            &  7019 & 3713\\\\\n",
       "\tTTTGTGTTCATCGCCT-1 & SeuratProject &   939 &  851 & 0.4608154 & Mono    & 0.3608403 & CD14 Mono      & 0.3608403 & CD14 Mono            &  4601 & 2845\\\\\n",
       "\tTTTGTGTTCATGCTTT-1 & SeuratProject &  1013 &  893 & 0.8042235 & Mono    & 0.4096243 & CD14 Mono      & 0.4096243 & CD14 Mono            &  5134 & 2969\\\\\n",
       "\tTTTGTGTTCCGAGAGA-1 & SeuratProject &  1035 &  902 & 0.7745420 & Mono    & 0.7605730 & CD14 Mono      & 0.7605730 & CD14 Mono            &  5129 & 2951\\\\\n",
       "\tTTTGTGTTCGAAGCCC-1 & SeuratProject &  1528 & 1306 & 0.7407096 & NK      & 0.7131772 & NK             & 0.5069815 & NK\\_4                 &  7898 & 4013\\\\\n",
       "\tTTTGTGTTCTACTTTG-1 & SeuratProject &  2195 & 1654 & 0.8412478 & CD4 T   & 0.6481820 & CD4 TCM        & 0.3661049 & CD4 TCM\\_1            & 11742 & 4536\\\\\n",
       "\tTTTGTGTTCTTGTGCC-1 & SeuratProject &  1346 & 1155 & 0.3901098 & B       & 0.2565907 & B naive        & 0.2564998 & B naive kappa        &  7065 & 3600\\\\\n",
       "\\end{tabular}\n"
      ],
      "text/markdown": [
       "\n",
       "A data.frame: 8633 × 11\n",
       "\n",
       "| <!--/--> | orig.ident &lt;chr&gt; | nCount_ATAC &lt;int&gt; | nFeature_ATAC &lt;int&gt; | predicted.celltype.l1.score &lt;dbl&gt; | predicted.celltype.l1 &lt;chr&gt; | predicted.celltype.l2.score &lt;dbl&gt; | predicted.celltype.l2 &lt;chr&gt; | predicted.celltype.l3.score &lt;dbl&gt; | predicted.celltype.l3 &lt;chr&gt; | nCount_RNA &lt;int&gt; | nFeature_RNA &lt;int&gt; |\n",
       "|---|---|---|---|---|---|---|---|---|---|---|---|\n",
       "| AAACGAAAGAGCGAAA-1 | SeuratProject |  1172 | 1036 | 0.3726037 | Mono    | 0.3484789 | CD14 Mono      | 0.3484789 | CD14 Mono            |  5972 |  3167 |\n",
       "| AAACGAAAGAGTTTGA-1 | SeuratProject |  1358 | 1179 | 0.6990826 | Mono    | 0.6938140 | CD14 Mono      | 0.6938140 | CD14 Mono            |  6302 |  3371 |\n",
       "| AAACGAAAGCGAGCTA-1 | SeuratProject |  2395 | 1816 | 0.3192837 | Mono    | 0.2271536 | CD14 Mono      | 0.2271536 | CD14 Mono            | 12570 |  5281 |\n",
       "| AAACGAAAGGCTTCGC-1 | SeuratProject | 18295 | 8919 | 0.4638083 | Mono    | 0.4638083 | CD14 Mono      | 0.4638083 | CD14 Mono            | 97107 | 11008 |\n",
       "| AAACGAAAGTGCTGAG-1 | SeuratProject |   869 |  781 | 0.8818523 | Mono    | 0.8603005 | CD14 Mono      | 0.8603005 | CD14 Mono            |  4682 |  2822 |\n",
       "| AAACGAAGTCAGGCTC-1 | SeuratProject |   523 |  456 | 0.5460860 | DC      | 0.5422624 | pDC            | 0.5422624 | pDC                  |  2839 |  1843 |\n",
       "| AAACGAAGTGCCCGAT-1 | SeuratProject |  1759 | 1517 | 0.6674465 | Mono    | 0.6666571 | CD14 Mono      | 0.6666571 | CD14 Mono            |  8824 |  4391 |\n",
       "| AAACGAAGTTGTATCG-1 | SeuratProject |  1248 | 1106 | 0.6331085 | B       | 0.5799114 | B naive        | 0.4834936 | B naive lambda       |  6546 |  3537 |\n",
       "| AAACGAATCAGTTGAC-1 | SeuratProject |   802 |  708 | 0.4664765 | Mono    | 0.3224327 | NK             | 0.3050318 | CD14 Mono            |  4271 |  2567 |\n",
       "| AAACGAATCCTTACGC-1 | SeuratProject |  1042 |  888 | 0.7679072 | Mono    | 0.7622426 | CD14 Mono      | 0.7622426 | CD14 Mono            |  5602 |  2587 |\n",
       "| AAACGAATCGTTTGAG-1 | SeuratProject |  1066 |  885 | 0.6111972 | B       | 0.5837836 | B intermediate | 0.5824208 | B intermediate kappa |  5713 |  3161 |\n",
       "| AAACGAATCTGCCGAG-1 | SeuratProject |   228 |  219 | 0.8056106 | CD4 T   | 0.4026028 | CD4 Naive      | 0.4026028 | CD4 Naive            |  1102 |   923 |\n",
       "| AAACTCGAGATGCGCA-1 | SeuratProject |  2051 | 1673 | 0.8275840 | Mono    | 0.5893040 | CD14 Mono      | 0.5893040 | CD14 Mono            | 10385 |  4436 |\n",
       "| AAACTCGAGCATGATA-1 | SeuratProject |   712 |  653 | 0.7295676 | Mono    | 0.7198030 | CD14 Mono      | 0.7198030 | CD14 Mono            |  3531 |  2281 |\n",
       "| AAACTCGAGCGCATTT-1 | SeuratProject |  1936 | 1469 | 0.4006198 | CD8 T   | 0.3487601 | CD8 Naive      | 0.2730309 | Doublet              | 10170 |  4372 |\n",
       "| AAACTCGAGTACTCTG-1 | SeuratProject |  1859 | 1315 | 0.8266520 | other T | 0.7805743 | MAIT           | 0.7805743 | MAIT                 |  9691 |  4041 |\n",
       "| AAACTCGAGTCACGCC-1 | SeuratProject |  1023 |  966 | 0.6808622 | CD4 T   | 0.4842155 | CD4 TCM        | 0.4082067 | CD4 TCM_1            |  5325 |  3321 |\n",
       "| AAACTCGAGTCTCTAG-1 | SeuratProject |  1365 | 1184 | 0.7848241 | Mono    | 0.7571389 | CD14 Mono      | 0.7571389 | CD14 Mono            |  7150 |  3582 |\n",
       "| AAACTCGCAAAGAGAG-1 | SeuratProject |  3025 | 2188 | 0.3997804 | NK      | 0.3924544 | NK             | 0.2590527 | NK_4                 | 16013 |  5662 |\n",
       "| AAACTCGCAAGCGAAC-1 | SeuratProject |   923 |  785 | 0.8724407 | Mono    | 0.6757195 | CD16 Mono      | 0.6757195 | CD16 Mono            |  4801 |  2826 |\n",
       "| AAACTCGCACTCAGCG-1 | SeuratProject |  1133 |  993 | 0.8615116 | Mono    | 0.8061115 | CD14 Mono      | 0.8061115 | CD14 Mono            |  6161 |  3342 |\n",
       "| AAACTCGCACTTGCGG-1 | SeuratProject |   698 |  634 | 0.6850943 | Mono    | 0.6410747 | CD14 Mono      | 0.6410747 | CD14 Mono            |  3509 |  2202 |\n",
       "| AAACTCGCAGCGTCGT-1 | SeuratProject |  1042 |  833 | 0.5226428 | CD4 T   | 0.4582289 | CD4 TCM        | 0.4167504 | CD14 Mono            |  5653 |  2868 |\n",
       "| AAACTCGCATCACAGT-1 | SeuratProject |  1108 |  966 | 0.5600781 | Mono    | 0.3002542 | CD14 Mono      | 0.3002542 | CD14 Mono            |  5864 |  3229 |\n",
       "| AAACTCGCATGTGGGA-1 | SeuratProject |  7100 | 3993 | 0.6400018 | CD4 T   | 0.5466944 | CD4 TCM        | 0.4338967 | CD4 TCM_2            | 35934 |  7487 |\n",
       "| AAACTCGGTCAGAAGC-1 | SeuratProject |  1084 |  948 | 0.5625784 | DC      | 0.5493295 | pDC            | 0.5493295 | pDC                  |  5551 |  3072 |\n",
       "| AAACTCGGTCATAGCT-1 | SeuratProject |  1599 | 1387 | 0.4906957 | Mono    | 0.4887650 | CD14 Mono      | 0.4887650 | CD14 Mono            |  8365 |  4033 |\n",
       "| AAACTCGGTGGATTCT-1 | SeuratProject |  1248 | 1065 | 0.6912973 | Mono    | 0.6886764 | CD14 Mono      | 0.6886764 | CD14 Mono            |  6520 |  3508 |\n",
       "| AAACTCGGTTTGATCG-1 | SeuratProject |  3883 | 2681 | 0.2810680 | other   | 0.2515140 | Doublet        | 0.2515140 | Doublet              | 20571 |  6029 |\n",
       "| AAACTCGTCAGGTCTA-1 | SeuratProject |  3898 | 2772 | 0.6166532 | NK      | 0.5978144 | NK             | 0.3641177 | NK_4                 | 19860 |  6184 |\n",
       "| ⋮ | ⋮ | ⋮ | ⋮ | ⋮ | ⋮ | ⋮ | ⋮ | ⋮ | ⋮ | ⋮ | ⋮ |\n",
       "| TTTGGTTGTACAACGG-1 | SeuratProject |   812 |  729 | 0.6883754 | Mono    | 0.6759490 | CD14 Mono      | 0.6759490 | CD14 Mono            |  4165 | 2585 |\n",
       "| TTTGGTTGTCATAAGA-1 | SeuratProject |  1760 | 1373 | 0.3907624 | CD4 T   | 0.2910011 | CD8 Naive      | 0.2868047 | dnT_2                |  9371 | 4224 |\n",
       "| TTTGGTTGTGAATCAA-1 | SeuratProject |  1249 |  974 | 0.8210386 | CD4 T   | 0.7150912 | CD4 TCM        | 0.6070211 | CD4 TCM_3            |  6695 | 3328 |\n",
       "| TTTGGTTGTGCCCGAT-1 | SeuratProject |   447 |  395 | 0.5728674 | DC      | 0.5670873 | pDC            | 0.5670873 | pDC                  |  2507 | 1622 |\n",
       "| TTTGGTTGTTAGGCTT-1 | SeuratProject |   297 |  274 | 0.6037651 | DC      | 0.5955341 | pDC            | 0.5955341 | pDC                  |  1749 | 1275 |\n",
       "| TTTGGTTGTTCTTATC-1 | SeuratProject |   237 |  226 | 0.5550490 | DC      | 0.5506822 | pDC            | 0.5506822 | pDC                  |  1335 | 1008 |\n",
       "| TTTGGTTGTTGCCGCA-1 | SeuratProject |   127 |  123 | 0.6067491 | DC      | 0.5982813 | pDC            | 0.5982813 | pDC                  |   715 |  598 |\n",
       "| TTTGGTTTCCAATAGC-1 | SeuratProject |   746 |  664 | 0.6138298 | other   | 0.6111525 | HSPC           | 0.6111525 | HSPC                 |  3750 | 2316 |\n",
       "| TTTGGTTTCCTGTGGG-1 | SeuratProject |  2276 | 1763 | 0.8044324 | CD4 T   | 0.4008556 | CD4 TCM        | 0.3925689 | CD4 Naive            | 11812 | 4783 |\n",
       "| TTTGGTTTCGACCCGA-1 | SeuratProject |  1276 | 1106 | 0.3685401 | CD4 T   | 0.3082791 | HSPC           | 0.3082791 | HSPC                 |  6342 | 3470 |\n",
       "| TTTGGTTTCGACTTAG-1 | SeuratProject | 10755 | 5259 | 0.2811186 | CD8 T   | 0.2725112 | CD14 Mono      | 0.2725112 | CD14 Mono            | 55300 | 8681 |\n",
       "| TTTGGTTTCGAGTTAC-1 | SeuratProject |   789 |  688 | 0.6358012 | B       | 0.5764310 | B naive        | 0.4915385 | B naive kappa        |  3963 | 2430 |\n",
       "| TTTGGTTTCTCGTAGA-1 | SeuratProject |   547 |  481 | 0.5583304 | Mono    | 0.5436849 | CD14 Mono      | 0.5436849 | CD14 Mono            |  2670 | 1589 |\n",
       "| TTTGTGTAGCATACCT-1 | SeuratProject |  1411 | 1223 | 0.7412927 | Mono    | 0.7173694 | CD14 Mono      | 0.7173694 | CD14 Mono            |  7096 | 3747 |\n",
       "| TTTGTGTAGCTGGAGT-1 | SeuratProject |   909 |  775 | 0.4051824 | CD4 T   | 0.2897354 | CD4 Naive      | 0.2897354 | CD4 Naive            |  4724 | 2718 |\n",
       "| TTTGTGTAGGATGCCA-1 | SeuratProject |   461 |  416 | 0.5856901 | other T | 0.5824501 | MAIT           | 0.5824501 | MAIT                 |  2569 | 1573 |\n",
       "| TTTGTGTAGTCCAGAG-1 | SeuratProject |  2093 | 1593 | 0.9486533 | CD4 T   | 0.8008653 | CD4 TCM        | 0.5942073 | CD4 TCM_3            | 11294 | 4447 |\n",
       "| TTTGTGTCAACCTCCT-1 | SeuratProject |   757 |  665 | 0.5547427 | B       | 0.5483590 | B memory       | 0.5232199 | B memory kappa       |  4084 | 2469 |\n",
       "| TTTGTGTCAATGCATC-1 | SeuratProject |  1393 | 1150 | 0.5619825 | other   | 0.4718030 | Doublet        | 0.4718030 | Doublet              |  7419 | 3747 |\n",
       "| TTTGTGTCACGGCCAT-1 | SeuratProject |   723 |  626 | 0.5352731 | Mono    | 0.3423738 | CD14 Mono      | 0.3423738 | CD14 Mono            |  4077 | 2164 |\n",
       "| TTTGTGTGTAACCCAT-1 | SeuratProject |   573 |  505 | 0.4299851 | B       | 0.4265019 | B intermediate | 0.4259227 | B intermediate kappa |  3127 | 1963 |\n",
       "| TTTGTGTGTCGGCTGT-1 | SeuratProject |   946 |  828 | 0.8372919 | Mono    | 0.8225464 | CD14 Mono      | 0.8225464 | CD14 Mono            |  4499 | 2658 |\n",
       "| TTTGTGTGTGATGCTT-1 | SeuratProject |   941 |  821 | 0.7329129 | Mono    | 0.6870463 | CD14 Mono      | 0.6870463 | CD14 Mono            |  5179 | 2911 |\n",
       "| TTTGTGTGTTTAAGGA-1 | SeuratProject |  1306 | 1134 | 0.8210368 | Mono    | 0.8177039 | CD14 Mono      | 0.8177039 | CD14 Mono            |  7019 | 3713 |\n",
       "| TTTGTGTTCATCGCCT-1 | SeuratProject |   939 |  851 | 0.4608154 | Mono    | 0.3608403 | CD14 Mono      | 0.3608403 | CD14 Mono            |  4601 | 2845 |\n",
       "| TTTGTGTTCATGCTTT-1 | SeuratProject |  1013 |  893 | 0.8042235 | Mono    | 0.4096243 | CD14 Mono      | 0.4096243 | CD14 Mono            |  5134 | 2969 |\n",
       "| TTTGTGTTCCGAGAGA-1 | SeuratProject |  1035 |  902 | 0.7745420 | Mono    | 0.7605730 | CD14 Mono      | 0.7605730 | CD14 Mono            |  5129 | 2951 |\n",
       "| TTTGTGTTCGAAGCCC-1 | SeuratProject |  1528 | 1306 | 0.7407096 | NK      | 0.7131772 | NK             | 0.5069815 | NK_4                 |  7898 | 4013 |\n",
       "| TTTGTGTTCTACTTTG-1 | SeuratProject |  2195 | 1654 | 0.8412478 | CD4 T   | 0.6481820 | CD4 TCM        | 0.3661049 | CD4 TCM_1            | 11742 | 4536 |\n",
       "| TTTGTGTTCTTGTGCC-1 | SeuratProject |  1346 | 1155 | 0.3901098 | B       | 0.2565907 | B naive        | 0.2564998 | B naive kappa        |  7065 | 3600 |\n",
       "\n"
      ],
      "text/plain": [
       "                   orig.ident    nCount_ATAC nFeature_ATAC\n",
       "AAACGAAAGAGCGAAA-1 SeuratProject  1172       1036         \n",
       "AAACGAAAGAGTTTGA-1 SeuratProject  1358       1179         \n",
       "AAACGAAAGCGAGCTA-1 SeuratProject  2395       1816         \n",
       "AAACGAAAGGCTTCGC-1 SeuratProject 18295       8919         \n",
       "AAACGAAAGTGCTGAG-1 SeuratProject   869        781         \n",
       "AAACGAAGTCAGGCTC-1 SeuratProject   523        456         \n",
       "AAACGAAGTGCCCGAT-1 SeuratProject  1759       1517         \n",
       "AAACGAAGTTGTATCG-1 SeuratProject  1248       1106         \n",
       "AAACGAATCAGTTGAC-1 SeuratProject   802        708         \n",
       "AAACGAATCCTTACGC-1 SeuratProject  1042        888         \n",
       "AAACGAATCGTTTGAG-1 SeuratProject  1066        885         \n",
       "AAACGAATCTGCCGAG-1 SeuratProject   228        219         \n",
       "AAACTCGAGATGCGCA-1 SeuratProject  2051       1673         \n",
       "AAACTCGAGCATGATA-1 SeuratProject   712        653         \n",
       "AAACTCGAGCGCATTT-1 SeuratProject  1936       1469         \n",
       "AAACTCGAGTACTCTG-1 SeuratProject  1859       1315         \n",
       "AAACTCGAGTCACGCC-1 SeuratProject  1023        966         \n",
       "AAACTCGAGTCTCTAG-1 SeuratProject  1365       1184         \n",
       "AAACTCGCAAAGAGAG-1 SeuratProject  3025       2188         \n",
       "AAACTCGCAAGCGAAC-1 SeuratProject   923        785         \n",
       "AAACTCGCACTCAGCG-1 SeuratProject  1133        993         \n",
       "AAACTCGCACTTGCGG-1 SeuratProject   698        634         \n",
       "AAACTCGCAGCGTCGT-1 SeuratProject  1042        833         \n",
       "AAACTCGCATCACAGT-1 SeuratProject  1108        966         \n",
       "AAACTCGCATGTGGGA-1 SeuratProject  7100       3993         \n",
       "AAACTCGGTCAGAAGC-1 SeuratProject  1084        948         \n",
       "AAACTCGGTCATAGCT-1 SeuratProject  1599       1387         \n",
       "AAACTCGGTGGATTCT-1 SeuratProject  1248       1065         \n",
       "AAACTCGGTTTGATCG-1 SeuratProject  3883       2681         \n",
       "AAACTCGTCAGGTCTA-1 SeuratProject  3898       2772         \n",
       "⋮                  ⋮             ⋮           ⋮            \n",
       "TTTGGTTGTACAACGG-1 SeuratProject   812        729         \n",
       "TTTGGTTGTCATAAGA-1 SeuratProject  1760       1373         \n",
       "TTTGGTTGTGAATCAA-1 SeuratProject  1249        974         \n",
       "TTTGGTTGTGCCCGAT-1 SeuratProject   447        395         \n",
       "TTTGGTTGTTAGGCTT-1 SeuratProject   297        274         \n",
       "TTTGGTTGTTCTTATC-1 SeuratProject   237        226         \n",
       "TTTGGTTGTTGCCGCA-1 SeuratProject   127        123         \n",
       "TTTGGTTTCCAATAGC-1 SeuratProject   746        664         \n",
       "TTTGGTTTCCTGTGGG-1 SeuratProject  2276       1763         \n",
       "TTTGGTTTCGACCCGA-1 SeuratProject  1276       1106         \n",
       "TTTGGTTTCGACTTAG-1 SeuratProject 10755       5259         \n",
       "TTTGGTTTCGAGTTAC-1 SeuratProject   789        688         \n",
       "TTTGGTTTCTCGTAGA-1 SeuratProject   547        481         \n",
       "TTTGTGTAGCATACCT-1 SeuratProject  1411       1223         \n",
       "TTTGTGTAGCTGGAGT-1 SeuratProject   909        775         \n",
       "TTTGTGTAGGATGCCA-1 SeuratProject   461        416         \n",
       "TTTGTGTAGTCCAGAG-1 SeuratProject  2093       1593         \n",
       "TTTGTGTCAACCTCCT-1 SeuratProject   757        665         \n",
       "TTTGTGTCAATGCATC-1 SeuratProject  1393       1150         \n",
       "TTTGTGTCACGGCCAT-1 SeuratProject   723        626         \n",
       "TTTGTGTGTAACCCAT-1 SeuratProject   573        505         \n",
       "TTTGTGTGTCGGCTGT-1 SeuratProject   946        828         \n",
       "TTTGTGTGTGATGCTT-1 SeuratProject   941        821         \n",
       "TTTGTGTGTTTAAGGA-1 SeuratProject  1306       1134         \n",
       "TTTGTGTTCATCGCCT-1 SeuratProject   939        851         \n",
       "TTTGTGTTCATGCTTT-1 SeuratProject  1013        893         \n",
       "TTTGTGTTCCGAGAGA-1 SeuratProject  1035        902         \n",
       "TTTGTGTTCGAAGCCC-1 SeuratProject  1528       1306         \n",
       "TTTGTGTTCTACTTTG-1 SeuratProject  2195       1654         \n",
       "TTTGTGTTCTTGTGCC-1 SeuratProject  1346       1155         \n",
       "                   predicted.celltype.l1.score predicted.celltype.l1\n",
       "AAACGAAAGAGCGAAA-1 0.3726037                   Mono                 \n",
       "AAACGAAAGAGTTTGA-1 0.6990826                   Mono                 \n",
       "AAACGAAAGCGAGCTA-1 0.3192837                   Mono                 \n",
       "AAACGAAAGGCTTCGC-1 0.4638083                   Mono                 \n",
       "AAACGAAAGTGCTGAG-1 0.8818523                   Mono                 \n",
       "AAACGAAGTCAGGCTC-1 0.5460860                   DC                   \n",
       "AAACGAAGTGCCCGAT-1 0.6674465                   Mono                 \n",
       "AAACGAAGTTGTATCG-1 0.6331085                   B                    \n",
       "AAACGAATCAGTTGAC-1 0.4664765                   Mono                 \n",
       "AAACGAATCCTTACGC-1 0.7679072                   Mono                 \n",
       "AAACGAATCGTTTGAG-1 0.6111972                   B                    \n",
       "AAACGAATCTGCCGAG-1 0.8056106                   CD4 T                \n",
       "AAACTCGAGATGCGCA-1 0.8275840                   Mono                 \n",
       "AAACTCGAGCATGATA-1 0.7295676                   Mono                 \n",
       "AAACTCGAGCGCATTT-1 0.4006198                   CD8 T                \n",
       "AAACTCGAGTACTCTG-1 0.8266520                   other T              \n",
       "AAACTCGAGTCACGCC-1 0.6808622                   CD4 T                \n",
       "AAACTCGAGTCTCTAG-1 0.7848241                   Mono                 \n",
       "AAACTCGCAAAGAGAG-1 0.3997804                   NK                   \n",
       "AAACTCGCAAGCGAAC-1 0.8724407                   Mono                 \n",
       "AAACTCGCACTCAGCG-1 0.8615116                   Mono                 \n",
       "AAACTCGCACTTGCGG-1 0.6850943                   Mono                 \n",
       "AAACTCGCAGCGTCGT-1 0.5226428                   CD4 T                \n",
       "AAACTCGCATCACAGT-1 0.5600781                   Mono                 \n",
       "AAACTCGCATGTGGGA-1 0.6400018                   CD4 T                \n",
       "AAACTCGGTCAGAAGC-1 0.5625784                   DC                   \n",
       "AAACTCGGTCATAGCT-1 0.4906957                   Mono                 \n",
       "AAACTCGGTGGATTCT-1 0.6912973                   Mono                 \n",
       "AAACTCGGTTTGATCG-1 0.2810680                   other                \n",
       "AAACTCGTCAGGTCTA-1 0.6166532                   NK                   \n",
       "⋮                  ⋮                           ⋮                    \n",
       "TTTGGTTGTACAACGG-1 0.6883754                   Mono                 \n",
       "TTTGGTTGTCATAAGA-1 0.3907624                   CD4 T                \n",
       "TTTGGTTGTGAATCAA-1 0.8210386                   CD4 T                \n",
       "TTTGGTTGTGCCCGAT-1 0.5728674                   DC                   \n",
       "TTTGGTTGTTAGGCTT-1 0.6037651                   DC                   \n",
       "TTTGGTTGTTCTTATC-1 0.5550490                   DC                   \n",
       "TTTGGTTGTTGCCGCA-1 0.6067491                   DC                   \n",
       "TTTGGTTTCCAATAGC-1 0.6138298                   other                \n",
       "TTTGGTTTCCTGTGGG-1 0.8044324                   CD4 T                \n",
       "TTTGGTTTCGACCCGA-1 0.3685401                   CD4 T                \n",
       "TTTGGTTTCGACTTAG-1 0.2811186                   CD8 T                \n",
       "TTTGGTTTCGAGTTAC-1 0.6358012                   B                    \n",
       "TTTGGTTTCTCGTAGA-1 0.5583304                   Mono                 \n",
       "TTTGTGTAGCATACCT-1 0.7412927                   Mono                 \n",
       "TTTGTGTAGCTGGAGT-1 0.4051824                   CD4 T                \n",
       "TTTGTGTAGGATGCCA-1 0.5856901                   other T              \n",
       "TTTGTGTAGTCCAGAG-1 0.9486533                   CD4 T                \n",
       "TTTGTGTCAACCTCCT-1 0.5547427                   B                    \n",
       "TTTGTGTCAATGCATC-1 0.5619825                   other                \n",
       "TTTGTGTCACGGCCAT-1 0.5352731                   Mono                 \n",
       "TTTGTGTGTAACCCAT-1 0.4299851                   B                    \n",
       "TTTGTGTGTCGGCTGT-1 0.8372919                   Mono                 \n",
       "TTTGTGTGTGATGCTT-1 0.7329129                   Mono                 \n",
       "TTTGTGTGTTTAAGGA-1 0.8210368                   Mono                 \n",
       "TTTGTGTTCATCGCCT-1 0.4608154                   Mono                 \n",
       "TTTGTGTTCATGCTTT-1 0.8042235                   Mono                 \n",
       "TTTGTGTTCCGAGAGA-1 0.7745420                   Mono                 \n",
       "TTTGTGTTCGAAGCCC-1 0.7407096                   NK                   \n",
       "TTTGTGTTCTACTTTG-1 0.8412478                   CD4 T                \n",
       "TTTGTGTTCTTGTGCC-1 0.3901098                   B                    \n",
       "                   predicted.celltype.l2.score predicted.celltype.l2\n",
       "AAACGAAAGAGCGAAA-1 0.3484789                   CD14 Mono            \n",
       "AAACGAAAGAGTTTGA-1 0.6938140                   CD14 Mono            \n",
       "AAACGAAAGCGAGCTA-1 0.2271536                   CD14 Mono            \n",
       "AAACGAAAGGCTTCGC-1 0.4638083                   CD14 Mono            \n",
       "AAACGAAAGTGCTGAG-1 0.8603005                   CD14 Mono            \n",
       "AAACGAAGTCAGGCTC-1 0.5422624                   pDC                  \n",
       "AAACGAAGTGCCCGAT-1 0.6666571                   CD14 Mono            \n",
       "AAACGAAGTTGTATCG-1 0.5799114                   B naive              \n",
       "AAACGAATCAGTTGAC-1 0.3224327                   NK                   \n",
       "AAACGAATCCTTACGC-1 0.7622426                   CD14 Mono            \n",
       "AAACGAATCGTTTGAG-1 0.5837836                   B intermediate       \n",
       "AAACGAATCTGCCGAG-1 0.4026028                   CD4 Naive            \n",
       "AAACTCGAGATGCGCA-1 0.5893040                   CD14 Mono            \n",
       "AAACTCGAGCATGATA-1 0.7198030                   CD14 Mono            \n",
       "AAACTCGAGCGCATTT-1 0.3487601                   CD8 Naive            \n",
       "AAACTCGAGTACTCTG-1 0.7805743                   MAIT                 \n",
       "AAACTCGAGTCACGCC-1 0.4842155                   CD4 TCM              \n",
       "AAACTCGAGTCTCTAG-1 0.7571389                   CD14 Mono            \n",
       "AAACTCGCAAAGAGAG-1 0.3924544                   NK                   \n",
       "AAACTCGCAAGCGAAC-1 0.6757195                   CD16 Mono            \n",
       "AAACTCGCACTCAGCG-1 0.8061115                   CD14 Mono            \n",
       "AAACTCGCACTTGCGG-1 0.6410747                   CD14 Mono            \n",
       "AAACTCGCAGCGTCGT-1 0.4582289                   CD4 TCM              \n",
       "AAACTCGCATCACAGT-1 0.3002542                   CD14 Mono            \n",
       "AAACTCGCATGTGGGA-1 0.5466944                   CD4 TCM              \n",
       "AAACTCGGTCAGAAGC-1 0.5493295                   pDC                  \n",
       "AAACTCGGTCATAGCT-1 0.4887650                   CD14 Mono            \n",
       "AAACTCGGTGGATTCT-1 0.6886764                   CD14 Mono            \n",
       "AAACTCGGTTTGATCG-1 0.2515140                   Doublet              \n",
       "AAACTCGTCAGGTCTA-1 0.5978144                   NK                   \n",
       "⋮                  ⋮                           ⋮                    \n",
       "TTTGGTTGTACAACGG-1 0.6759490                   CD14 Mono            \n",
       "TTTGGTTGTCATAAGA-1 0.2910011                   CD8 Naive            \n",
       "TTTGGTTGTGAATCAA-1 0.7150912                   CD4 TCM              \n",
       "TTTGGTTGTGCCCGAT-1 0.5670873                   pDC                  \n",
       "TTTGGTTGTTAGGCTT-1 0.5955341                   pDC                  \n",
       "TTTGGTTGTTCTTATC-1 0.5506822                   pDC                  \n",
       "TTTGGTTGTTGCCGCA-1 0.5982813                   pDC                  \n",
       "TTTGGTTTCCAATAGC-1 0.6111525                   HSPC                 \n",
       "TTTGGTTTCCTGTGGG-1 0.4008556                   CD4 TCM              \n",
       "TTTGGTTTCGACCCGA-1 0.3082791                   HSPC                 \n",
       "TTTGGTTTCGACTTAG-1 0.2725112                   CD14 Mono            \n",
       "TTTGGTTTCGAGTTAC-1 0.5764310                   B naive              \n",
       "TTTGGTTTCTCGTAGA-1 0.5436849                   CD14 Mono            \n",
       "TTTGTGTAGCATACCT-1 0.7173694                   CD14 Mono            \n",
       "TTTGTGTAGCTGGAGT-1 0.2897354                   CD4 Naive            \n",
       "TTTGTGTAGGATGCCA-1 0.5824501                   MAIT                 \n",
       "TTTGTGTAGTCCAGAG-1 0.8008653                   CD4 TCM              \n",
       "TTTGTGTCAACCTCCT-1 0.5483590                   B memory             \n",
       "TTTGTGTCAATGCATC-1 0.4718030                   Doublet              \n",
       "TTTGTGTCACGGCCAT-1 0.3423738                   CD14 Mono            \n",
       "TTTGTGTGTAACCCAT-1 0.4265019                   B intermediate       \n",
       "TTTGTGTGTCGGCTGT-1 0.8225464                   CD14 Mono            \n",
       "TTTGTGTGTGATGCTT-1 0.6870463                   CD14 Mono            \n",
       "TTTGTGTGTTTAAGGA-1 0.8177039                   CD14 Mono            \n",
       "TTTGTGTTCATCGCCT-1 0.3608403                   CD14 Mono            \n",
       "TTTGTGTTCATGCTTT-1 0.4096243                   CD14 Mono            \n",
       "TTTGTGTTCCGAGAGA-1 0.7605730                   CD14 Mono            \n",
       "TTTGTGTTCGAAGCCC-1 0.7131772                   NK                   \n",
       "TTTGTGTTCTACTTTG-1 0.6481820                   CD4 TCM              \n",
       "TTTGTGTTCTTGTGCC-1 0.2565907                   B naive              \n",
       "                   predicted.celltype.l3.score predicted.celltype.l3 nCount_RNA\n",
       "AAACGAAAGAGCGAAA-1 0.3484789                   CD14 Mono              5972     \n",
       "AAACGAAAGAGTTTGA-1 0.6938140                   CD14 Mono              6302     \n",
       "AAACGAAAGCGAGCTA-1 0.2271536                   CD14 Mono             12570     \n",
       "AAACGAAAGGCTTCGC-1 0.4638083                   CD14 Mono             97107     \n",
       "AAACGAAAGTGCTGAG-1 0.8603005                   CD14 Mono              4682     \n",
       "AAACGAAGTCAGGCTC-1 0.5422624                   pDC                    2839     \n",
       "AAACGAAGTGCCCGAT-1 0.6666571                   CD14 Mono              8824     \n",
       "AAACGAAGTTGTATCG-1 0.4834936                   B naive lambda         6546     \n",
       "AAACGAATCAGTTGAC-1 0.3050318                   CD14 Mono              4271     \n",
       "AAACGAATCCTTACGC-1 0.7622426                   CD14 Mono              5602     \n",
       "AAACGAATCGTTTGAG-1 0.5824208                   B intermediate kappa   5713     \n",
       "AAACGAATCTGCCGAG-1 0.4026028                   CD4 Naive              1102     \n",
       "AAACTCGAGATGCGCA-1 0.5893040                   CD14 Mono             10385     \n",
       "AAACTCGAGCATGATA-1 0.7198030                   CD14 Mono              3531     \n",
       "AAACTCGAGCGCATTT-1 0.2730309                   Doublet               10170     \n",
       "AAACTCGAGTACTCTG-1 0.7805743                   MAIT                   9691     \n",
       "AAACTCGAGTCACGCC-1 0.4082067                   CD4 TCM_1              5325     \n",
       "AAACTCGAGTCTCTAG-1 0.7571389                   CD14 Mono              7150     \n",
       "AAACTCGCAAAGAGAG-1 0.2590527                   NK_4                  16013     \n",
       "AAACTCGCAAGCGAAC-1 0.6757195                   CD16 Mono              4801     \n",
       "AAACTCGCACTCAGCG-1 0.8061115                   CD14 Mono              6161     \n",
       "AAACTCGCACTTGCGG-1 0.6410747                   CD14 Mono              3509     \n",
       "AAACTCGCAGCGTCGT-1 0.4167504                   CD14 Mono              5653     \n",
       "AAACTCGCATCACAGT-1 0.3002542                   CD14 Mono              5864     \n",
       "AAACTCGCATGTGGGA-1 0.4338967                   CD4 TCM_2             35934     \n",
       "AAACTCGGTCAGAAGC-1 0.5493295                   pDC                    5551     \n",
       "AAACTCGGTCATAGCT-1 0.4887650                   CD14 Mono              8365     \n",
       "AAACTCGGTGGATTCT-1 0.6886764                   CD14 Mono              6520     \n",
       "AAACTCGGTTTGATCG-1 0.2515140                   Doublet               20571     \n",
       "AAACTCGTCAGGTCTA-1 0.3641177                   NK_4                  19860     \n",
       "⋮                  ⋮                           ⋮                     ⋮         \n",
       "TTTGGTTGTACAACGG-1 0.6759490                   CD14 Mono              4165     \n",
       "TTTGGTTGTCATAAGA-1 0.2868047                   dnT_2                  9371     \n",
       "TTTGGTTGTGAATCAA-1 0.6070211                   CD4 TCM_3              6695     \n",
       "TTTGGTTGTGCCCGAT-1 0.5670873                   pDC                    2507     \n",
       "TTTGGTTGTTAGGCTT-1 0.5955341                   pDC                    1749     \n",
       "TTTGGTTGTTCTTATC-1 0.5506822                   pDC                    1335     \n",
       "TTTGGTTGTTGCCGCA-1 0.5982813                   pDC                     715     \n",
       "TTTGGTTTCCAATAGC-1 0.6111525                   HSPC                   3750     \n",
       "TTTGGTTTCCTGTGGG-1 0.3925689                   CD4 Naive             11812     \n",
       "TTTGGTTTCGACCCGA-1 0.3082791                   HSPC                   6342     \n",
       "TTTGGTTTCGACTTAG-1 0.2725112                   CD14 Mono             55300     \n",
       "TTTGGTTTCGAGTTAC-1 0.4915385                   B naive kappa          3963     \n",
       "TTTGGTTTCTCGTAGA-1 0.5436849                   CD14 Mono              2670     \n",
       "TTTGTGTAGCATACCT-1 0.7173694                   CD14 Mono              7096     \n",
       "TTTGTGTAGCTGGAGT-1 0.2897354                   CD4 Naive              4724     \n",
       "TTTGTGTAGGATGCCA-1 0.5824501                   MAIT                   2569     \n",
       "TTTGTGTAGTCCAGAG-1 0.5942073                   CD4 TCM_3             11294     \n",
       "TTTGTGTCAACCTCCT-1 0.5232199                   B memory kappa         4084     \n",
       "TTTGTGTCAATGCATC-1 0.4718030                   Doublet                7419     \n",
       "TTTGTGTCACGGCCAT-1 0.3423738                   CD14 Mono              4077     \n",
       "TTTGTGTGTAACCCAT-1 0.4259227                   B intermediate kappa   3127     \n",
       "TTTGTGTGTCGGCTGT-1 0.8225464                   CD14 Mono              4499     \n",
       "TTTGTGTGTGATGCTT-1 0.6870463                   CD14 Mono              5179     \n",
       "TTTGTGTGTTTAAGGA-1 0.8177039                   CD14 Mono              7019     \n",
       "TTTGTGTTCATCGCCT-1 0.3608403                   CD14 Mono              4601     \n",
       "TTTGTGTTCATGCTTT-1 0.4096243                   CD14 Mono              5134     \n",
       "TTTGTGTTCCGAGAGA-1 0.7605730                   CD14 Mono              5129     \n",
       "TTTGTGTTCGAAGCCC-1 0.5069815                   NK_4                   7898     \n",
       "TTTGTGTTCTACTTTG-1 0.3661049                   CD4 TCM_1             11742     \n",
       "TTTGTGTTCTTGTGCC-1 0.2564998                   B naive kappa          7065     \n",
       "                   nFeature_RNA\n",
       "AAACGAAAGAGCGAAA-1  3167       \n",
       "AAACGAAAGAGTTTGA-1  3371       \n",
       "AAACGAAAGCGAGCTA-1  5281       \n",
       "AAACGAAAGGCTTCGC-1 11008       \n",
       "AAACGAAAGTGCTGAG-1  2822       \n",
       "AAACGAAGTCAGGCTC-1  1843       \n",
       "AAACGAAGTGCCCGAT-1  4391       \n",
       "AAACGAAGTTGTATCG-1  3537       \n",
       "AAACGAATCAGTTGAC-1  2567       \n",
       "AAACGAATCCTTACGC-1  2587       \n",
       "AAACGAATCGTTTGAG-1  3161       \n",
       "AAACGAATCTGCCGAG-1   923       \n",
       "AAACTCGAGATGCGCA-1  4436       \n",
       "AAACTCGAGCATGATA-1  2281       \n",
       "AAACTCGAGCGCATTT-1  4372       \n",
       "AAACTCGAGTACTCTG-1  4041       \n",
       "AAACTCGAGTCACGCC-1  3321       \n",
       "AAACTCGAGTCTCTAG-1  3582       \n",
       "AAACTCGCAAAGAGAG-1  5662       \n",
       "AAACTCGCAAGCGAAC-1  2826       \n",
       "AAACTCGCACTCAGCG-1  3342       \n",
       "AAACTCGCACTTGCGG-1  2202       \n",
       "AAACTCGCAGCGTCGT-1  2868       \n",
       "AAACTCGCATCACAGT-1  3229       \n",
       "AAACTCGCATGTGGGA-1  7487       \n",
       "AAACTCGGTCAGAAGC-1  3072       \n",
       "AAACTCGGTCATAGCT-1  4033       \n",
       "AAACTCGGTGGATTCT-1  3508       \n",
       "AAACTCGGTTTGATCG-1  6029       \n",
       "AAACTCGTCAGGTCTA-1  6184       \n",
       "⋮                  ⋮           \n",
       "TTTGGTTGTACAACGG-1 2585        \n",
       "TTTGGTTGTCATAAGA-1 4224        \n",
       "TTTGGTTGTGAATCAA-1 3328        \n",
       "TTTGGTTGTGCCCGAT-1 1622        \n",
       "TTTGGTTGTTAGGCTT-1 1275        \n",
       "TTTGGTTGTTCTTATC-1 1008        \n",
       "TTTGGTTGTTGCCGCA-1  598        \n",
       "TTTGGTTTCCAATAGC-1 2316        \n",
       "TTTGGTTTCCTGTGGG-1 4783        \n",
       "TTTGGTTTCGACCCGA-1 3470        \n",
       "TTTGGTTTCGACTTAG-1 8681        \n",
       "TTTGGTTTCGAGTTAC-1 2430        \n",
       "TTTGGTTTCTCGTAGA-1 1589        \n",
       "TTTGTGTAGCATACCT-1 3747        \n",
       "TTTGTGTAGCTGGAGT-1 2718        \n",
       "TTTGTGTAGGATGCCA-1 1573        \n",
       "TTTGTGTAGTCCAGAG-1 4447        \n",
       "TTTGTGTCAACCTCCT-1 2469        \n",
       "TTTGTGTCAATGCATC-1 3747        \n",
       "TTTGTGTCACGGCCAT-1 2164        \n",
       "TTTGTGTGTAACCCAT-1 1963        \n",
       "TTTGTGTGTCGGCTGT-1 2658        \n",
       "TTTGTGTGTGATGCTT-1 2911        \n",
       "TTTGTGTGTTTAAGGA-1 3713        \n",
       "TTTGTGTTCATCGCCT-1 2845        \n",
       "TTTGTGTTCATGCTTT-1 2969        \n",
       "TTTGTGTTCCGAGAGA-1 2951        \n",
       "TTTGTGTTCGAAGCCC-1 4013        \n",
       "TTTGTGTTCTACTTTG-1 4536        \n",
       "TTTGTGTTCTTGTGCC-1 3600        "
      ]
     },
     "metadata": {},
     "output_type": "display_data"
    }
   ],
   "source": [
    "pbmc_atac_metadata"
   ]
  },
  {
   "cell_type": "code",
   "execution_count": 6,
   "metadata": {},
   "outputs": [
    {
     "name": "stdout",
     "output_type": "stream",
     "text": [
      "[1] \"Mono\"    \"DC\"      \"B\"       \"CD4 T\"   \"CD8 T\"   \"other T\" \"NK\"     \n",
      "[8] \"other\"  \n"
     ]
    }
   ],
   "source": [
    "print(unique(pbmc_atac_obj@meta.data$predicted.celltype.l1))"
   ]
  },
  {
   "cell_type": "code",
   "execution_count": 7,
   "metadata": {},
   "outputs": [
    {
     "name": "stdout",
     "output_type": "stream",
     "text": [
      " [1] \"CD14 Mono\"      \"pDC\"            \"B naive\"        \"NK\"            \n",
      " [5] \"B intermediate\" \"CD4 Naive\"      \"CD8 Naive\"      \"MAIT\"          \n",
      " [9] \"CD4 TCM\"        \"CD16 Mono\"      \"Doublet\"        \"CD8 TEM\"       \n",
      "[13] \"cDC2\"           \"B memory\"       \"HSPC\"           \"NK_CD56bright\" \n",
      "[17] \"dnT\"            \"Platelet\"       \"Treg\"           \"Plasmablast\"   \n",
      "[21] \"Eryth\"          \"ASDC\"           \"CD8 TCM\"        \"gdT\"           \n",
      "[25] \"cDC1\"           \"CD4 TEM\"       \n"
     ]
    }
   ],
   "source": [
    "print(unique(pbmc_atac_obj@meta.data$predicted.celltype.l2))"
   ]
  },
  {
   "cell_type": "code",
   "execution_count": 8,
   "metadata": {},
   "outputs": [
    {
     "name": "stdout",
     "output_type": "stream",
     "text": [
      " [1] \"CD14 Mono\"             \"pDC\"                   \"B naive lambda\"       \n",
      " [4] \"B intermediate kappa\"  \"CD4 Naive\"             \"Doublet\"              \n",
      " [7] \"MAIT\"                  \"CD4 TCM_1\"             \"NK_4\"                 \n",
      "[10] \"CD16 Mono\"             \"CD4 TCM_2\"             \"CD8 Naive_2\"          \n",
      "[13] \"B naive kappa\"         \"NK_2\"                  \"CD8 TEM_2\"            \n",
      "[16] \"cDC2_1\"                \"B memory kappa\"        \"CD8 TEM_1\"            \n",
      "[19] \"HSPC\"                  \"CD8 Naive\"             \"NK_CD56bright\"        \n",
      "[22] \"dnT_2\"                 \"Platelet\"              \"Treg Memory\"          \n",
      "[25] \"B intermediate lambda\" \"NK_1\"                  \"CD8 TEM_5\"            \n",
      "[28] \"CD4 TCM_3\"             \"CD8 TEM_6\"             \"B memory lambda\"      \n",
      "[31] \"Plasma\"                \"Eryth\"                 \"ASDC_pDC\"             \n",
      "[34] \"CD8 TEM_4\"             \"cDC1\"                  \"CD4 TEM_1\"            \n",
      "[37] \"CD4 CTL\"               \"gdT_1\"                \n"
     ]
    }
   ],
   "source": [
    "print(unique(pbmc_atac_obj@meta.data$predicted.celltype.l3))"
   ]
  },
  {
   "cell_type": "code",
   "execution_count": 9,
   "metadata": {
    "scrolled": true
   },
   "outputs": [
    {
     "data": {
      "text/html": [
       "<style>\n",
       ".dl-inline {width: auto; margin:0; padding: 0}\n",
       ".dl-inline>dt, .dl-inline>dd {float: none; width: auto; display: inline-block}\n",
       ".dl-inline>dt::after {content: \":\\0020\"; padding-right: .5ex}\n",
       ".dl-inline>dt:not(:first-of-type) {padding-left: .5ex}\n",
       "</style><dl class=dl-inline><dt>ASDC</dt><dd>3</dd><dt>B intermediate</dt><dd>284</dd><dt>B memory</dt><dd>125</dd><dt>B naive</dt><dd>382</dd><dt>CD14 Mono</dt><dd>3906</dd><dt>CD16 Mono</dt><dd>211</dd><dt>CD4 Naive</dt><dd>172</dd><dt>CD4 TCM</dt><dd>897</dd><dt>CD4 TEM</dt><dd>1</dd><dt>CD8 Naive</dt><dd>464</dd><dt>CD8 TCM</dt><dd>2</dd><dt>CD8 TEM</dt><dd>256</dd><dt>cDC1</dt><dd>2</dd><dt>cDC2</dt><dd>84</dd><dt>dnT</dt><dd>114</dd><dt>Doublet</dt><dd>614</dd><dt>Eryth</dt><dd>3</dd><dt>gdT</dt><dd>2</dd><dt>HSPC</dt><dd>133</dd><dt>MAIT</dt><dd>104</dd><dt>NK</dt><dd>320</dd><dt>NK_CD56bright</dt><dd>83</dd><dt>pDC</dt><dd>383</dd><dt>Plasmablast</dt><dd>9</dd><dt>Platelet</dt><dd>39</dd><dt>Treg</dt><dd>40</dd></dl>\n"
      ],
      "text/latex": [
       "\\begin{description*}\n",
       "\\item[ASDC] 3\n",
       "\\item[B intermediate] 284\n",
       "\\item[B memory] 125\n",
       "\\item[B naive] 382\n",
       "\\item[CD14 Mono] 3906\n",
       "\\item[CD16 Mono] 211\n",
       "\\item[CD4 Naive] 172\n",
       "\\item[CD4 TCM] 897\n",
       "\\item[CD4 TEM] 1\n",
       "\\item[CD8 Naive] 464\n",
       "\\item[CD8 TCM] 2\n",
       "\\item[CD8 TEM] 256\n",
       "\\item[cDC1] 2\n",
       "\\item[cDC2] 84\n",
       "\\item[dnT] 114\n",
       "\\item[Doublet] 614\n",
       "\\item[Eryth] 3\n",
       "\\item[gdT] 2\n",
       "\\item[HSPC] 133\n",
       "\\item[MAIT] 104\n",
       "\\item[NK] 320\n",
       "\\item[NK\\textbackslash{}\\_CD56bright] 83\n",
       "\\item[pDC] 383\n",
       "\\item[Plasmablast] 9\n",
       "\\item[Platelet] 39\n",
       "\\item[Treg] 40\n",
       "\\end{description*}\n"
      ],
      "text/markdown": [
       "ASDC\n",
       ":   3B intermediate\n",
       ":   284B memory\n",
       ":   125B naive\n",
       ":   382CD14 Mono\n",
       ":   3906CD16 Mono\n",
       ":   211CD4 Naive\n",
       ":   172CD4 TCM\n",
       ":   897CD4 TEM\n",
       ":   1CD8 Naive\n",
       ":   464CD8 TCM\n",
       ":   2CD8 TEM\n",
       ":   256cDC1\n",
       ":   2cDC2\n",
       ":   84dnT\n",
       ":   114Doublet\n",
       ":   614Eryth\n",
       ":   3gdT\n",
       ":   2HSPC\n",
       ":   133MAIT\n",
       ":   104NK\n",
       ":   320NK_CD56bright\n",
       ":   83pDC\n",
       ":   383Plasmablast\n",
       ":   9Platelet\n",
       ":   39Treg\n",
       ":   40\n",
       "\n"
      ],
      "text/plain": [
       "          ASDC B intermediate       B memory        B naive      CD14 Mono \n",
       "             3            284            125            382           3906 \n",
       "     CD16 Mono      CD4 Naive        CD4 TCM        CD4 TEM      CD8 Naive \n",
       "           211            172            897              1            464 \n",
       "       CD8 TCM        CD8 TEM           cDC1           cDC2            dnT \n",
       "             2            256              2             84            114 \n",
       "       Doublet          Eryth            gdT           HSPC           MAIT \n",
       "           614              3              2            133            104 \n",
       "            NK  NK_CD56bright            pDC    Plasmablast       Platelet \n",
       "           320             83            383              9             39 \n",
       "          Treg \n",
       "            40 "
      ]
     },
     "metadata": {},
     "output_type": "display_data"
    }
   ],
   "source": [
    "cell_types = unique(pbmc_atac_obj@meta.data$predicted.celltype.l2)\n",
    "summary(as.factor(pbmc_atac_obj@meta.data$predicted.celltype.l2))"
   ]
  },
  {
   "cell_type": "markdown",
   "metadata": {},
   "source": [
    "* CD14 Mono: 3906\n",
    "* CD4 TCM: 897\n",
    "* CD8 Naive: 464\n",
    "* B naive: 382\n",
    "* CD8 TEM: 256\n",
    "* NK: 320"
   ]
  },
  {
   "cell_type": "markdown",
   "metadata": {},
   "source": [
    "## 筛选peak"
   ]
  },
  {
   "cell_type": "code",
   "execution_count": 73,
   "metadata": {},
   "outputs": [],
   "source": [
    "save_dir = file.path(\"pbmc_sep_data\")"
   ]
  },
  {
   "cell_type": "markdown",
   "metadata": {},
   "source": [
    "### CD14 Mono"
   ]
  },
  {
   "cell_type": "code",
   "execution_count": 66,
   "metadata": {},
   "outputs": [],
   "source": [
    "tgt_type = \"CD14 Mono\"\n",
    "sub_data = subset(pbmc_atac_obj, predicted.celltype.l2==tgt_type)\n",
    "percentile = FindTopFeatures(sub_data@assays$ATAC@counts)"
   ]
  },
  {
   "cell_type": "code",
   "execution_count": 41,
   "metadata": {},
   "outputs": [
    {
     "data": {
      "text/html": [
       "12044"
      ],
      "text/latex": [
       "12044"
      ],
      "text/markdown": [
       "12044"
      ],
      "text/plain": [
       "[1] 12044"
      ]
     },
     "metadata": {},
     "output_type": "display_data"
    }
   ],
   "source": [
    "threshold = 0.85\n",
    "sum(percentile$percentile>threshold)"
   ]
  },
  {
   "cell_type": "code",
   "execution_count": 70,
   "metadata": {},
   "outputs": [
    {
     "data": {
      "text/plain": [
       "An object of class Seurat \n",
       "12044 features across 3906 samples within 1 assay \n",
       "Active assay: ATAC (12044 features, 0 variable features)\n",
       " 2 layers present: counts, data"
      ]
     },
     "metadata": {},
     "output_type": "display_data"
    }
   ],
   "source": [
    "cd14_sub_data = subset(sub_data, feature=rownames(subset(percentile, percentile>threshold)))\n",
    "sp_data = Matrix(cd14_sub_data@assays$ATAC@counts, sparse = TRUE)\n",
    "cd14_sub_data"
   ]
  },
  {
   "cell_type": "code",
   "execution_count": 76,
   "metadata": {},
   "outputs": [
    {
     "data": {
      "text/plain": [
       "NULL"
      ]
     },
     "metadata": {},
     "output_type": "display_data"
    }
   ],
   "source": [
    "tgt_dir = file.path(save_dir, tgt_type, 'atac')\n",
    "if (!file.exists(tgt_dir)){\n",
    "    dir.create(tgt_dir, recursive = TRUE)\n",
    "}\n",
    "write(x=sp_data@Dimnames[[1]], file=file.path(tgt_dir, \"peaks.tsv\"))\n",
    "write(x=sp_data@Dimnames[[2]], file=file.path(tgt_dir, \"barcodes.tsv\"))\n",
    "writeMM(obj=sp_data, file=file.path(tgt_dir, \"matrix.mtx\"))"
   ]
  },
  {
   "cell_type": "markdown",
   "metadata": {},
   "source": [
    "### CD4 TCM"
   ]
  },
  {
   "cell_type": "code",
   "execution_count": 77,
   "metadata": {},
   "outputs": [],
   "source": [
    "tgt_type = \"CD4 TCM\"\n",
    "sub_data = subset(pbmc_atac_obj, predicted.celltype.l2==tgt_type)\n",
    "percentile = FindTopFeatures(sub_data@assays$ATAC@counts)"
   ]
  },
  {
   "cell_type": "code",
   "execution_count": 78,
   "metadata": {},
   "outputs": [
    {
     "data": {
      "text/html": [
       "12040"
      ],
      "text/latex": [
       "12040"
      ],
      "text/markdown": [
       "12040"
      ],
      "text/plain": [
       "[1] 12040"
      ]
     },
     "metadata": {},
     "output_type": "display_data"
    }
   ],
   "source": [
    "threshold = 0.85\n",
    "sum(percentile$percentile>threshold)"
   ]
  },
  {
   "cell_type": "code",
   "execution_count": 79,
   "metadata": {},
   "outputs": [
    {
     "data": {
      "text/plain": [
       "An object of class Seurat \n",
       "12040 features across 897 samples within 1 assay \n",
       "Active assay: ATAC (12040 features, 0 variable features)\n",
       " 2 layers present: counts, data"
      ]
     },
     "metadata": {},
     "output_type": "display_data"
    }
   ],
   "source": [
    "cd4_sub_data = subset(sub_data, feature=rownames(subset(percentile, percentile>threshold)))\n",
    "sp_data = Matrix(cd4_sub_data@assays$ATAC@counts, sparse = TRUE)\n",
    "cd4_sub_data"
   ]
  },
  {
   "cell_type": "code",
   "execution_count": 80,
   "metadata": {},
   "outputs": [
    {
     "data": {
      "text/plain": [
       "NULL"
      ]
     },
     "metadata": {},
     "output_type": "display_data"
    }
   ],
   "source": [
    "tgt_dir = file.path(save_dir, tgt_type, 'atac')\n",
    "if (!file.exists(tgt_dir)){\n",
    "    dir.create(tgt_dir, recursive = TRUE)\n",
    "}\n",
    "write(x=sp_data@Dimnames[[1]], file=file.path(tgt_dir, \"peaks.tsv\"))\n",
    "write(x=sp_data@Dimnames[[2]], file=file.path(tgt_dir, \"barcodes.tsv\"))\n",
    "writeMM(obj=sp_data, file=file.path(tgt_dir, \"matrix.mtx\"))"
   ]
  },
  {
   "cell_type": "markdown",
   "metadata": {},
   "source": [
    "### CD8 Naive"
   ]
  },
  {
   "cell_type": "code",
   "execution_count": 81,
   "metadata": {},
   "outputs": [],
   "source": [
    "tgt_type = \"CD8 Naive\"\n",
    "sub_data = subset(pbmc_atac_obj, predicted.celltype.l2==tgt_type)\n",
    "percentile = FindTopFeatures(sub_data@assays$ATAC@counts)"
   ]
  },
  {
   "cell_type": "code",
   "execution_count": 82,
   "metadata": {},
   "outputs": [
    {
     "data": {
      "text/html": [
       "12036"
      ],
      "text/latex": [
       "12036"
      ],
      "text/markdown": [
       "12036"
      ],
      "text/plain": [
       "[1] 12036"
      ]
     },
     "metadata": {},
     "output_type": "display_data"
    }
   ],
   "source": [
    "threshold = 0.85\n",
    "sum(percentile$percentile>threshold)"
   ]
  },
  {
   "cell_type": "code",
   "execution_count": 83,
   "metadata": {},
   "outputs": [
    {
     "data": {
      "text/plain": [
       "An object of class Seurat \n",
       "12036 features across 464 samples within 1 assay \n",
       "Active assay: ATAC (12036 features, 0 variable features)\n",
       " 2 layers present: counts, data"
      ]
     },
     "metadata": {},
     "output_type": "display_data"
    }
   ],
   "source": [
    "cd8n_sub_data = subset(sub_data, feature=rownames(subset(percentile, percentile>threshold)))\n",
    "sp_data = Matrix(cd8n_sub_data@assays$ATAC@counts, sparse = TRUE)\n",
    "cd8n_sub_data"
   ]
  },
  {
   "cell_type": "code",
   "execution_count": 84,
   "metadata": {},
   "outputs": [
    {
     "data": {
      "text/plain": [
       "NULL"
      ]
     },
     "metadata": {},
     "output_type": "display_data"
    }
   ],
   "source": [
    "tgt_dir = file.path(save_dir, tgt_type, 'atac')\n",
    "if (!file.exists(tgt_dir)){\n",
    "    dir.create(tgt_dir, recursive = TRUE)\n",
    "}\n",
    "write(x=sp_data@Dimnames[[1]], file=file.path(tgt_dir, \"peaks.tsv\"))\n",
    "write(x=sp_data@Dimnames[[2]], file=file.path(tgt_dir, \"barcodes.tsv\"))\n",
    "writeMM(obj=sp_data, file=file.path(tgt_dir, \"matrix.mtx\"))"
   ]
  },
  {
   "cell_type": "markdown",
   "metadata": {},
   "source": [
    "### B naive"
   ]
  },
  {
   "cell_type": "code",
   "execution_count": 87,
   "metadata": {},
   "outputs": [],
   "source": [
    "tgt_type = \"B naive\"\n",
    "sub_data = subset(pbmc_atac_obj, predicted.celltype.l2==tgt_type)\n",
    "percentile = FindTopFeatures(sub_data@assays$ATAC@counts)"
   ]
  },
  {
   "cell_type": "code",
   "execution_count": 88,
   "metadata": {},
   "outputs": [
    {
     "data": {
      "text/html": [
       "12079"
      ],
      "text/latex": [
       "12079"
      ],
      "text/markdown": [
       "12079"
      ],
      "text/plain": [
       "[1] 12079"
      ]
     },
     "metadata": {},
     "output_type": "display_data"
    }
   ],
   "source": [
    "threshold = 0.85\n",
    "sum(percentile$percentile>threshold)"
   ]
  },
  {
   "cell_type": "code",
   "execution_count": 89,
   "metadata": {},
   "outputs": [
    {
     "data": {
      "text/plain": [
       "An object of class Seurat \n",
       "12079 features across 382 samples within 1 assay \n",
       "Active assay: ATAC (12079 features, 0 variable features)\n",
       " 2 layers present: counts, data"
      ]
     },
     "metadata": {},
     "output_type": "display_data"
    }
   ],
   "source": [
    "bn_sub_data = subset(sub_data, feature=rownames(subset(percentile, percentile>threshold)))\n",
    "sp_data = Matrix(bn_sub_data@assays$ATAC@counts, sparse = TRUE)\n",
    "bn_sub_data"
   ]
  },
  {
   "cell_type": "code",
   "execution_count": 90,
   "metadata": {},
   "outputs": [
    {
     "data": {
      "text/plain": [
       "NULL"
      ]
     },
     "metadata": {},
     "output_type": "display_data"
    }
   ],
   "source": [
    "tgt_dir = file.path(save_dir, tgt_type, 'atac')\n",
    "if (!file.exists(tgt_dir)){\n",
    "    dir.create(tgt_dir, recursive = TRUE)\n",
    "}\n",
    "write(x=sp_data@Dimnames[[1]], file=file.path(tgt_dir, \"peaks.tsv\"))\n",
    "write(x=sp_data@Dimnames[[2]], file=file.path(tgt_dir, \"barcodes.tsv\"))\n",
    "writeMM(obj=sp_data, file=file.path(tgt_dir, \"matrix.mtx\"))"
   ]
  },
  {
   "cell_type": "code",
   "execution_count": null,
   "metadata": {},
   "outputs": [],
   "source": []
  }
 ],
 "metadata": {
  "kernelspec": {
   "display_name": "r-ArchR",
   "language": "R",
   "name": "ir"
  },
  "language_info": {
   "codemirror_mode": "r",
   "file_extension": ".r",
   "mimetype": "text/x-r-source",
   "name": "R",
   "pygments_lexer": "r",
   "version": "4.3.3"
  },
  "toc": {
   "base_numbering": 1,
   "nav_menu": {},
   "number_sections": true,
   "sideBar": true,
   "skip_h1_title": false,
   "title_cell": "Table of Contents",
   "title_sidebar": "Contents",
   "toc_cell": false,
   "toc_position": {},
   "toc_section_display": true,
   "toc_window_display": false
  }
 },
 "nbformat": 4,
 "nbformat_minor": 4
}
