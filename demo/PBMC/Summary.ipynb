{
 "cells": [
  {
   "cell_type": "code",
   "metadata": {},
   "source": [
    "import os\n",
    "import pandas as pd\n",
    "import numpy as np\n",
    "from collections import defaultdict\n",
    "import matplotlib.pyplot as plt\n",
    "import seaborn as sns\n",
    "from scipy.stats import spearmanr, ranksums\n",
    "\n",
    "def get_intersection_item(sets):\n",
    "    ref = set(sets[0])\n",
    "    for item in sets[1:]:\n",
    "        ref = ref.intersection(item)\n",
    "    return sorted(ref)\n",
    "\n",
    "def get_union_item(sets):\n",
    "    ref = set(sets[0])\n",
    "    for item in sets[1:]:\n",
    "        ref = ref.union(item)\n",
    "    return sorted(ref)\n",
    "\n",
    "def get_degree_feature(adj, nodes):\n",
    "    ex_adj = pd.DataFrame(np.zeros((len(nodes), len(nodes))), index=nodes, columns=nodes)\n",
    "    index = adj.index.intersection(nodes)\n",
    "    ex_adj.loc[index, index] = adj.loc[index, index]\n",
    "    degree = ex_adj.sum(axis=0)\n",
    "    return degree\n",
    "\n",
    "def get_similary(data, method='spearman'):\n",
    "    if method=='spearman':\n",
    "        func = spearmanr\n",
    "    elif method==\"ranksum\":\n",
    "        func = ranksums\n",
    "    columns = data.columns\n",
    "    values = pd.DataFrame(np.zeros((len(columns), len(columns))), index=columns, columns=columns)\n",
    "    p_values = pd.DataFrame(np.zeros((len(columns), len(columns))), index=columns, columns=columns)\n",
    "    for row in columns:\n",
    "        for col in columns:\n",
    "            value, pvalue = func(data[row].values, data[col].values)\n",
    "            values.loc[row, col] = value\n",
    "            p_values.loc[row, col] = pvalue\n",
    "    return values, p_values\n",
    "\n",
    "def summary_graph(graph_dir):\n",
    "    ans = []\n",
    "    for cell_type in os.listdir(graph_dir):\n",
    "        node_file = os.path.join(graph_dir, cell_type, \"origin_graph\", 'adj.txt')\n",
    "        x_node_file = os.path.join(graph_dir, cell_type, \"x_graph.txt\")\n",
    "        tmp = {\"cell_type\": cell_type}\n",
    "        if os.path.exists(node_file):\n",
    "            adj = pd.read_csv(node_file, index_col=0, sep='\\t')\n",
    "            node_num = adj.shape[0]\n",
    "            edge_num = adj.values.sum()\n",
    "            tmp['origin_node'] = node_num\n",
    "            tmp['origin_edge'] = edge_num\n",
    "            tmp['origin_density'] = edge_num/(node_num**2)\n",
    "        if os.path.exists(x_node_file):\n",
    "            adj = pd.read_csv(x_node_file, index_col=0, sep='\\t')\n",
    "            node_num = adj.shape[0]\n",
    "            edge_num = adj.values.sum()\n",
    "            tmp['share_node'] = node_num\n",
    "            tmp['share_edge'] = edge_num\n",
    "            tmp['share_density'] = edge_num/(node_num**2)\n",
    "        ans.append(tmp)\n",
    "    return pd.DataFrame(ans)\n",
    "\n",
    "def summary_data(data_dir):\n",
    "    ans = []\n",
    "    for cell_type in os.listdir(data_dir):\n",
    "        atac_dir = os.path.join(data_dir, cell_type, 'atac')\n",
    "        scrna_dir = os.path.join(data_dir, cell_type, 'scrna')\n",
    "        if os.path.exists(atac_dir):\n",
    "            barcodes = pd.read_csv(os.path.join(atac_dir, \"barcodes.tsv\"), header=None)\n",
    "            peaks = pd.read_csv(os.path.join(atac_dir, \"peaks.tsv\"), header=None)\n",
    "            tmp = {\"cell_type\": cell_type,\n",
    "                  \"data_type\": 'ATAC',\n",
    "                  \"cell_num\": len(barcodes),\n",
    "                  \"feature_num\": len(peaks)}\n",
    "            ans.append(tmp)\n",
    "        if os.path.exists(scrna_dir):\n",
    "            barcodes = pd.read_csv(os.path.join(scrna_dir, \"barcodes.tsv\"), header=None)\n",
    "            genes = pd.read_csv(os.path.join(scrna_dir, \"genes.tsv\"), header=None)\n",
    "            tmp = {\"cell_type\": cell_type,\n",
    "                  \"data_type\": 'scRNA',\n",
    "                  \"cell_num\": len(barcodes),\n",
    "                  \"feature_num\": len(genes)}\n",
    "            ans.append(tmp)\n",
    "    return pd.DataFrame(ans)\n",
    "\n",
    "\n",
    "def get_degree(graph_dir, graph_type='origin_graph'):\n",
    "    graphs = {}\n",
    "    for cell_type in os.listdir(graph_dir):\n",
    "        if graph_type==\"origin_graph\":\n",
    "            node_file = os.path.join(graph_dir, cell_type, graph_type, 'adj.txt')\n",
    "        else:\n",
    "            node_file = os.path.join(graph_dir, cell_type, \"x_graph.txt\")\n",
    "        if os.path.exists(node_file):\n",
    "            adj = pd.read_csv(node_file, index_col=0, sep='\\t')\n",
    "            graphs[cell_type.split(\"_\")[0]] = adj\n",
    "    union_genes = get_union_item([value.index for value in graphs.values()])\n",
    "    union_degrees = pd.DataFrame({key:get_degree_feature(g, union_genes) for key,g in graphs.items()})\n",
    "    return union_degrees\n",
    "\n",
    "def plot_degree(degrees, bins=30):\n",
    "    max_degree = degrees.values.max()\n",
    "    bins = np.arange(0, max_degree, max_degree//bins)\n",
    "    f, axs = plt.subplots(len(degree.columns), sharex=True, figsize=(20,20))\n",
    "    for i, col in enumerate(degree.columns):\n",
    "        ax = sns.histplot(degree[col].values, ax=axs[i], bins=bins)\n",
    "        ax.set_title(col)\n",
    "#         plt.xlabel(\"degree\")\n",
    "#         plt.ylabel(\"# of TFs\")\n",
    "#         axs[i].title.set_text(col)\n",
    "\n",
    "def summary_degree_shared(graph_dir, graph_type='origin_graph', method='spearman'):\n",
    "    graphs = {}\n",
    "    for cell_type in os.listdir(graph_dir):\n",
    "        if graph_type==\"origin_graph\":\n",
    "            node_file = os.path.join(graph_dir, cell_type, graph_type, 'adj.txt')\n",
    "        else:\n",
    "            node_file = os.path.join(graph_dir, cell_type, \"x_graph.txt\")\n",
    "        if os.path.exists(node_file):\n",
    "            adj = pd.read_csv(node_file, index_col=0, sep='\\t')\n",
    "            graphs[cell_type] = adj\n",
    "    columns = list(graphs.keys())\n",
    "    ans = pd.DataFrame(np.zeros((len(graphs), len(graphs))), index=columns, columns=columns)\n",
    "    for row in columns:\n",
    "        for col in columns:\n",
    "            ans.loc[row, col] = len(graphs[row].index.intersection(graphs[col].index))\n",
    "    return ans\n",
    "\n",
    "\n",
    "def summary_graph_similary(graph_dir, graph_type='origin_graph', method='spearman'):\n",
    "    graphs = {}\n",
    "    for cell_type in os.listdir(graph_dir):\n",
    "        if graph_type==\"origin_graph\":\n",
    "            node_file = os.path.join(graph_dir, cell_type, graph_type, 'adj.txt')\n",
    "        else:\n",
    "            node_file = os.path.join(graph_dir, cell_type, \"x_graph.txt\")\n",
    "        if os.path.exists(node_file):\n",
    "            adj = pd.read_csv(node_file, index_col=0, sep='\\t')\n",
    "            graphs[cell_type] = adj\n",
    "    \n",
    "    union_genes = get_union_item([value.index for value in graphs.values()])\n",
    "    unique_genes = get_intersection_item([value.index for value in graphs.values()])\n",
    "    print(f\"union_genes:{len(union_genes)}\")\n",
    "    print(f\"unique_gene:{len(unique_genes)}\")\n",
    "    union_degrees = pd.DataFrame({key:get_degree_feature(g, union_genes) for key,g in graphs.items()})\n",
    "    unique_degrees = pd.DataFrame({key:get_degree_feature(g, unique_genes) for key,g in graphs.items()})\n",
    "    \n",
    "    return {\"union\": get_similary(union_degrees, method=method),\n",
    "           \"unique\": get_similary(unique_degrees, method=method)}\n",
    "\n"
   ],
   "outputs": [],
   "execution_count": null
  },
  {
   "cell_type": "markdown",
   "metadata": {},
   "source": [
    "# 参考\n",
    "* https://stuartlab.org/signac/articles/pbmc_vignette.html\n",
    "* https://satijalab.org/seurat/articles/atacseq_integration_vignette\n",
    "* https://satijalab.org/seurat/articles/pbmc3k_tutorial\n",
    "* https://satijalab.github.io/azimuth/articles/run_azimuth_tutorial.html\n",
    "\n",
    "## hg19.fa\n",
    "https://hgdownload.soe.ucsc.edu/goldenPath/hg19/bigZips/hg19.fa.gz\n",
    "\n",
    "## hg38.fa\n",
    "https://hgdownload.soe.ucsc.edu/goldenPath/hg38/bigZips/hg38.fa.gz\n",
    "\n",
    "## HOCOMOCO10\n",
    "https://hocomoco10.autosome.org/final_bundle/HUMAN/mono/HOCOMOCOv10_HUMAN_mono_meme_format.meme"
   ]
  },
  {
   "cell_type": "markdown",
   "metadata": {},
   "source": [
    "# AD_GSE174367\n",
    "\n",
    "## code\n",
    "* GSE174367_scRNA_Process.ipynb\n",
    "* GSE174367_ATAC_Process.ipynb\n",
    "\n",
    "## downloaded data file\n",
    "\n",
    "https://www.ncbi.nlm.nih.gov/geo/query/acc.cgi?acc=GSE174367\n",
    "\n",
    "* GSE174367_snATAC-seq_cell_meta.csv\n",
    "* GSE174367_snATAC-seq_filtered_peak_bc_matrix.h5\n",
    "* GSE174367_snRNA-seq_cell_meta.csv\n",
    "* GSE174367_snRNA-seq_filtered_feature_bc_matrix.h5"
   ]
  },
  {
   "cell_type": "markdown",
   "metadata": {},
   "source": [
    "#### 统计ATAC和scRNA各细胞类型"
   ]
  },
  {
   "cell_type": "code",
   "metadata": {},
   "source": [
    "df = summary_data(\"./AD_GSE174367/ad_sep_data\")\n",
    "list(df.groupby('data_type'))"
   ],
   "outputs": [],
   "execution_count": null
  },
  {
   "cell_type": "markdown",
   "metadata": {},
   "source": [
    "#### 统计构建的GRN网络信息\n",
    "origin: 使用ATAC数据构建\n",
    "\n",
    "share: 在origin的基础上使用scRNA高方差的gene构建"
   ]
  },
  {
   "cell_type": "code",
   "metadata": {},
   "source": [
    "summary_graph(\"./AD_GSE174367/graph/hg38_HOCOMOCOv11\")"
   ],
   "outputs": [],
   "execution_count": null
  },
  {
   "cell_type": "markdown",
   "metadata": {},
   "source": [
    "#### 不同细胞间共享的节点数"
   ]
  },
  {
   "cell_type": "code",
   "metadata": {},
   "source": [
    "summary_degree_shared(\"./AD_GSE174367/graph/hg38_HOCOMOCOv11\")"
   ],
   "outputs": [],
   "execution_count": null
  },
  {
   "cell_type": "markdown",
   "metadata": {},
   "source": [
    "#### 不同细胞间的度相似性\n",
    "union: 不同细胞的GRN节点取并集，缺失的节点度为0\n",
    "\n",
    "unique: 不同细胞的GRN节点取交集"
   ]
  },
  {
   "cell_type": "code",
   "metadata": {
    "scrolled": true
   },
   "source": [
    "df = summary_graph_similary(\"./AD_GSE174367/graph/hg38_HOCOMOCOv11\")['union'][0]\n",
    "plt.figure(figsize=(10,10))\n",
    "sns.heatmap(df)\n",
    "df"
   ],
   "outputs": [],
   "execution_count": null
  },
  {
   "cell_type": "code",
   "metadata": {
    "scrolled": false
   },
   "source": [
    "df = summary_graph_similary(\"./AD_GSE174367/graph/hg38_HOCOMOCOv11\")['unique'][0]\n",
    "plt.figure(figsize=(10,10))\n",
    "sns.heatmap(df)\n",
    "df"
   ],
   "outputs": [],
   "execution_count": null
  },
  {
   "cell_type": "code",
   "metadata": {
    "scrolled": false
   },
   "source": [
    "degree = get_degree(\"./AD_GSE174367/graph/hg38_HOCOMOCOv11\")\n",
    "plot_degree(degree, bins=30)\n",
    "degree"
   ],
   "outputs": [],
   "execution_count": null
  },
  {
   "cell_type": "markdown",
   "metadata": {},
   "source": [
    "# Lung_GSM4508936\n",
    "\n",
    "## code\n",
    "* Lung_preprocess.ipynb\n",
    "\n",
    "## downloaded data file\n",
    "\n",
    "https://www.ncbi.nlm.nih.gov/geo/query/acc.cgi?acc=GSM4508936\n",
    "\n",
    "* GSM4508936_lung_filtered.seurat.RDS"
   ]
  },
  {
   "cell_type": "markdown",
   "metadata": {},
   "source": [
    "#### 统计ATAC和scRNA各细胞类型"
   ]
  },
  {
   "cell_type": "code",
   "metadata": {},
   "source": [
    "df = summary_data(\"./Lung_GSM4508936/lung_sep_data\")\n",
    "list(df.groupby('data_type'))"
   ],
   "outputs": [],
   "execution_count": null
  },
  {
   "cell_type": "markdown",
   "metadata": {},
   "source": [
    "#### 统计构建的GRN网络信息\n",
    "origin: 使用ATAC数据构建\n",
    "\n",
    "share: 在origin的基础上使用scRNA高方差的gene构建"
   ]
  },
  {
   "cell_type": "code",
   "metadata": {},
   "source": [
    "summary_graph(\"./Lung_GSM4508936/graph/hg19_HOCOMOCOv11\")"
   ],
   "outputs": [],
   "execution_count": null
  },
  {
   "cell_type": "markdown",
   "metadata": {},
   "source": [
    "#### 不同细胞间共享的节点数"
   ]
  },
  {
   "cell_type": "code",
   "metadata": {},
   "source": [
    "summary_degree_shared(\"./Lung_GSM4508936/graph/hg19_HOCOMOCOv11\")"
   ],
   "outputs": [],
   "execution_count": null
  },
  {
   "cell_type": "markdown",
   "metadata": {},
   "source": [
    "#### 不同细胞间的度相似性\n",
    "union: 不同细胞的GRN节点取并集，缺失的节点度为0\n",
    "\n",
    "unique: 不同细胞的GRN节点取交集"
   ]
  },
  {
   "cell_type": "code",
   "metadata": {
    "scrolled": true
   },
   "source": [
    "df = summary_graph_similary(\"./Lung_GSM4508936/graph/hg19_HOCOMOCOv11\")['union'][0]\n",
    "plt.figure(figsize=(10,10))\n",
    "sns.heatmap(df)\n",
    "df"
   ],
   "outputs": [],
   "execution_count": null
  },
  {
   "cell_type": "code",
   "metadata": {},
   "source": [
    "df = summary_graph_similary(\"./Lung_GSM4508936/graph/hg19_HOCOMOCOv11\")['unique'][0]\n",
    "plt.figure(figsize=(10,10))\n",
    "sns.heatmap(df)\n",
    "df"
   ],
   "outputs": [],
   "execution_count": null
  },
  {
   "cell_type": "code",
   "metadata": {
    "scrolled": true
   },
   "source": [
    "degree = get_degree(\"./Lung_GSM4508936/graph/hg19_HOCOMOCOv11\")\n",
    "plot_degree(degree, bins=40)\n",
    "degree"
   ],
   "outputs": [],
   "execution_count": null
  },
  {
   "cell_type": "markdown",
   "metadata": {},
   "source": [
    "# PBMC\n",
    "\n",
    "## code\n",
    "* pbmc_script.R\n",
    "* RunAzimuthLocal.R\n",
    "* PBMC10k_ATAC_Process.ipynb\n",
    "* PBMC8k_scRNA_Process.ipynb\n",
    "\n",
    "## downloaded data file\n",
    "\n",
    "### ATAC\n",
    "https://support.10xgenomics.com/single-cell-atac/datasets/1.2.0/atac_v1_pbmc_10k\n",
    "* atac_v1_pbmc_10k_fragments.tsv.gz\n",
    "* atac_v1_pbmc_10k_fragments.tsv.gz.tbi\n",
    "* atac_v1_pbmc_10k_singlecell.csv\n",
    "* atac_v1_pbmc_10k_filtered_peak_bc_matrix.tar.gz\n",
    "\n",
    "### scRNA\n",
    "https://support.10xgenomics.com/single-cell-gene-expression/datasets/2.1.0/pbmc8k\n",
    "\n",
    "* pbmc8k_filtered_gene_bc_matrices.tar.gz\n",
    "\n",
    "### Azimuth\n",
    "\n",
    "#### scRNA reference file\n",
    "https://zenodo.org/record/4546839 \n",
    "* idx.annoy\n",
    "* ref.Rds\n",
    "\n",
    "#### ATAC reference file\n",
    "https://zenodo.org/record/7770389#.ZFhDx-zMLHo \n",
    "* ext.Rds\n",
    "\n",
    "#### homologs.rds\n",
    "https://seurat.nygenome.org/azimuth/references/homologs.rds "
   ]
  },
  {
   "cell_type": "markdown",
   "metadata": {},
   "source": [
    "#### 统计ATAC和scRNA各细胞类型"
   ]
  },
  {
   "cell_type": "code",
   "metadata": {},
   "source": [
    "df = summary_data(\"./PBMC/pbmc_sep_data\")\n",
    "list(df.groupby('data_type'))"
   ],
   "outputs": [],
   "execution_count": null
  },
  {
   "cell_type": "markdown",
   "metadata": {},
   "source": [
    "#### 统计构建的GRN网络信息\n",
    "origin: 使用ATAC数据构建\n",
    "\n",
    "share: 在origin的基础上使用scRNA高方差的gene构建"
   ]
  },
  {
   "cell_type": "code",
   "metadata": {},
   "source": [
    "summary_graph(\"./PBMC/graph/hg19_HOCOMOCOv11\")"
   ],
   "outputs": [],
   "execution_count": null
  },
  {
   "cell_type": "markdown",
   "metadata": {},
   "source": [
    "#### 不同细胞间共享的节点数"
   ]
  },
  {
   "cell_type": "code",
   "metadata": {},
   "source": [
    "summary_degree_shared(\"./PBMC/graph/hg19_HOCOMOCOv11\")"
   ],
   "outputs": [],
   "execution_count": null
  },
  {
   "cell_type": "markdown",
   "metadata": {},
   "source": [
    "#### 不同细胞间的度相似性\n",
    "union: 不同细胞的GRN节点取并集，缺失的节点度为0\n",
    "\n",
    "unique: 不同细胞的GRN节点取交集"
   ]
  },
  {
   "cell_type": "code",
   "metadata": {
    "scrolled": false
   },
   "source": [
    "df = summary_graph_similary(\"./PBMC/graph/hg19_HOCOMOCOv11\")['union'][0]\n",
    "plt.figure(figsize=(10,10))\n",
    "sns.heatmap(df)\n",
    "df"
   ],
   "outputs": [],
   "execution_count": null
  },
  {
   "cell_type": "code",
   "metadata": {},
   "source": [
    "df = summary_graph_similary(\"./PBMC/graph/hg19_HOCOMOCOv11\")['unique'][0]\n",
    "plt.figure(figsize=(10,10))\n",
    "sns.heatmap(df)\n",
    "df"
   ],
   "outputs": [],
   "execution_count": null
  },
  {
   "cell_type": "code",
   "metadata": {
    "scrolled": true
   },
   "source": [
    "degree = get_degree(\"./PBMC/graph/hg19_HOCOMOCOv11\")\n",
    "plot_degree(degree, bins=40)\n",
    "degree"
   ],
   "outputs": [],
   "execution_count": null
  },
  {
   "cell_type": "markdown",
   "metadata": {},
   "source": [
    "# PBMC Signac\n",
    "## Code\n",
    "* pbmc_vignette.Rmd \n",
    "    * https://stuartlab.org/signac/articles/pbmc_vignette.html\n",
    "* PBMC_signac_ATAC_process.ipynb\n",
    "* PBMC_signac_scRNA_process.ipynb\n",
    "\n",
    "## downloaded data file\n",
    "### ATAC\n",
    "https://www.10xgenomics.com/resources/datasets/10-k-peripheral-blood-mononuclear-cells-pbm-cs-from-a-healthy-donor-1-standard-1-0-1\n",
    "* atac_v1_pbmc_10k_fragments.tsv.gz\n",
    "* atac_v1_pbmc_10k_fragments.tsv.gz.tbi\n",
    "* atac_v1_pbmc_10k_singlecell.csv\n",
    "* atac_v1_pbmc_10k_filtered_peak_bc_matrix.tar.gz\n",
    "\n",
    "### scRNA\n",
    "https://support.10xgenomics.com/single-cell-gene-expression/datasets/3.0.0/pbmc_10k_v3\n",
    "\n",
    "* https://signac-objects.s3.amazonaws.com/pbmc_10k_v3.rds"
   ]
  },
  {
   "cell_type": "markdown",
   "metadata": {},
   "source": [
    "#### 统计ATAC和scRNA各细胞类型"
   ]
  },
  {
   "cell_type": "code",
   "metadata": {},
   "source": [
    "df = summary_data(\"./PBMC_signac/pbmc_signac_sep_data\")\n",
    "list(df.groupby('data_type'))"
   ],
   "outputs": [],
   "execution_count": null
  },
  {
   "cell_type": "markdown",
   "metadata": {},
   "source": [
    "#### 统计构建的GRN网络信息\n",
    "origin: 使用ATAC数据构建\n",
    "\n",
    "share: 在origin的基础上使用scRNA高方差的gene构建"
   ]
  },
  {
   "cell_type": "code",
   "metadata": {},
   "source": [
    "summary_graph(\"./PBMC_signac/graph/hg19_HOCOMOCOv11\")"
   ],
   "outputs": [],
   "execution_count": null
  },
  {
   "cell_type": "markdown",
   "metadata": {},
   "source": [
    "#### 不同细胞间共享的节点数"
   ]
  },
  {
   "cell_type": "code",
   "metadata": {},
   "source": [
    "summary_degree_shared(\"./PBMC_signac/graph/hg19_HOCOMOCOv11\")"
   ],
   "outputs": [],
   "execution_count": null
  },
  {
   "cell_type": "markdown",
   "metadata": {},
   "source": [
    "#### 不同细胞间的度相似性\n",
    "union: 不同细胞的GRN节点取并集，缺失的节点度为0\n",
    "\n",
    "unique: 不同细胞的GRN节点取交集"
   ]
  },
  {
   "cell_type": "code",
   "metadata": {
    "scrolled": true
   },
   "source": [
    "df = summary_graph_similary(\"./PBMC_signac/graph/hg19_HOCOMOCOv11\")['union'][0]\n",
    "plt.figure(figsize=(10,10))\n",
    "sns.heatmap(df)\n",
    "df"
   ],
   "outputs": [],
   "execution_count": null
  },
  {
   "cell_type": "code",
   "metadata": {
    "scrolled": true
   },
   "source": [
    "df = summary_graph_similary(\"./PBMC_signac/graph/hg19_HOCOMOCOv11\")['unique'][0]\n",
    "plt.figure(figsize=(10,10))\n",
    "sns.heatmap(df)\n",
    "df"
   ],
   "outputs": [],
   "execution_count": null
  },
  {
   "cell_type": "code",
   "metadata": {
    "scrolled": false
   },
   "source": [
    "degree = get_degree(\"./PBMC_signac/graph/hg19_HOCOMOCOv11\")\n",
    "plot_degree(degree, bins=30)\n",
    "degree"
   ],
   "outputs": [],
   "execution_count": null
  },
  {
   "cell_type": "markdown",
   "metadata": {},
   "source": [
    "# AD Epigenome\n",
    "https://compbio.mit.edu/ad_epigenome/\n",
    "## Code\n",
    "\n",
    "* preprocess_scrna_01.ipynb\n",
    "* earlyAD_scRNA_Process.ipynb\n",
    "* lateAD_scRNA_Process.ipynb\n",
    "* nonAD_scRNA_Process.ipynb\n",
    "\n",
    "\n",
    "* preprocess_atac_01.ipynb\n",
    "* earlyAD_ATAC_Process.ipynb\n",
    "* lateAD_ATAC_Process.ipynb\n",
    "* nonAD_ATAC_Process.ipynb\n",
    "\n",
    "## downloaded data file\n",
    "### ATAC\n",
    "https://personal.broadinstitute.org/bjames/AD_snATAC/TSS6_highQC/PeakMatrix.TSS6.cleaned.rds\n",
    "\n",
    "\n",
    "### scRNA\n",
    "https://personal.broadinstitute.org/bjames/AD_snATAC/RNA/RNA.h5ad"
   ]
  },
  {
   "cell_type": "markdown",
   "metadata": {},
   "source": [
    "#### 统计ATAC和scRNA各细胞类型"
   ]
  },
  {
   "cell_type": "code",
   "metadata": {},
   "source": [
    "df = summary_data(\"./AD_epigenome/earlyAD/sep_data\")\n",
    "list(df.groupby('data_type'))"
   ],
   "outputs": [],
   "execution_count": null
  },
  {
   "cell_type": "code",
   "metadata": {},
   "source": [
    "df = summary_data(\"./AD_epigenome/lateAD/sep_data\")\n",
    "list(df.groupby('data_type'))"
   ],
   "outputs": [],
   "execution_count": null
  },
  {
   "cell_type": "code",
   "metadata": {
    "scrolled": true
   },
   "source": [
    "df = summary_data(\"./AD_epigenome/nonAD/sep_data\")\n",
    "list(df.groupby('data_type'))"
   ],
   "outputs": [],
   "execution_count": null
  },
  {
   "cell_type": "markdown",
   "metadata": {},
   "source": [
    "#### 统计构建的GRN网络信息\n",
    "origin: 使用ATAC数据构建\n",
    "\n",
    "share: 在origin的基础上使用scRNA高方差的gene构建"
   ]
  },
  {
   "cell_type": "code",
   "metadata": {},
   "source": [
    "summary_graph(\"./AD_epigenome/nonAD/graph/hg38_HOCOMOCOv11\")"
   ],
   "outputs": [],
   "execution_count": null
  },
  {
   "cell_type": "code",
   "metadata": {},
   "source": [
    "summary_graph(\"./AD_epigenome/lateAD/graph/hg38_HOCOMOCOv11\")"
   ],
   "outputs": [],
   "execution_count": null
  },
  {
   "cell_type": "code",
   "metadata": {
    "scrolled": true
   },
   "source": [
    "summary_graph(\"./AD_epigenome/earlyAD/graph/hg38_HOCOMOCOv11\")"
   ],
   "outputs": [],
   "execution_count": null
  },
  {
   "cell_type": "code",
   "metadata": {},
   "source": [
    "summary_graph(\"./AD_epigenome/earlyAD/sep_data2/graph_90/hg38_HOCOMOCOv11\")"
   ],
   "outputs": [],
   "execution_count": null
  },
  {
   "cell_type": "code",
   "metadata": {},
   "source": [
    "summary_graph(\"./AD_epigenome/earlyAD/sep_data2/graph/hg38_HOCOMOCOv11\")"
   ],
   "outputs": [],
   "execution_count": null
  },
  {
   "cell_type": "markdown",
   "metadata": {},
   "source": [
    "#### 不同细胞间共享的节点数"
   ]
  },
  {
   "cell_type": "code",
   "metadata": {},
   "source": [
    "summary_degree_shared(\"./AD_epigenome/earlyAD/graph/hg38_HOCOMOCOv11\")"
   ],
   "outputs": [],
   "execution_count": null
  },
  {
   "cell_type": "markdown",
   "metadata": {},
   "source": [
    "#### 不同细胞间的度相似性\n",
    "union: 不同细胞的GRN节点取并集，缺失的节点度为0\n",
    "\n",
    "unique: 不同细胞的GRN节点取交集"
   ]
  },
  {
   "cell_type": "code",
   "metadata": {},
   "source": [
    "df = summary_graph_similary(\"./AD_epigenome/earlyAD/graph/hg38_HOCOMOCOv11\")['union'][0]\n",
    "plt.figure(figsize=(10,10))\n",
    "sns.heatmap(df)\n",
    "df"
   ],
   "outputs": [],
   "execution_count": null
  },
  {
   "cell_type": "code",
   "metadata": {},
   "source": [
    "df = summary_graph_similary(\"./AD_epigenome/earlyAD/graph/hg38_HOCOMOCOv11\")['unique'][0]\n",
    "plt.figure(figsize=(10,10))\n",
    "sns.heatmap(df)\n",
    "df"
   ],
   "outputs": [],
   "execution_count": null
  },
  {
   "cell_type": "code",
   "metadata": {},
   "source": [
    "degree = get_degree(\"./AD_epigenome/earlyAD/graph/hg38_HOCOMOCOv11\")\n",
    "plot_degree(degree, bins=20)\n",
    "degree"
   ],
   "outputs": [],
   "execution_count": null
  },
  {
   "cell_type": "markdown",
   "metadata": {},
   "source": [
    "# SEA-AD\n",
    "https://registry.opendata.aws/allen-sea-ad-atlas/\n",
    "\n",
    "## Code\n",
    "\n",
    "* preprocess_scrna_01.ipynb\n",
    "* earlyAD_scRNA_Process.ipynb\n",
    "* lateAD_scRNA_Process.ipynb\n",
    "* nonAD_scRNA_Process.ipynb\n",
    "\n",
    "\n",
    "* preprocess_atac_01.ipynb\n",
    "* earlyAD_ATAC_Process.ipynb\n",
    "* lateAD_ATAC_Process.ipynb\n",
    "* nonAD_ATAC_Process.ipynb\n",
    "\n",
    "## downloaded data file\n",
    "### ATAC\n",
    "https://sea-ad-single-cell-profiling.s3.amazonaws.com/MTG/ATACseq/SEAAD_MTG_ATACseq_final-nuclei.2023-05-08.h5ad\n",
    "\n",
    "### scRNA\n",
    "https://sea-ad-single-cell-profiling.s3.amazonaws.com/MTG/RNAseq/SEAAD_MTG_RNAseq_final-nuclei.2023-05-05.h5ad"
   ]
  }
 ],
 "metadata": {
  "kernelspec": {
   "display_name": "Python [conda env:lcc]",
   "language": "python",
   "name": "conda-env-lcc-py"
  },
  "language_info": {
   "codemirror_mode": {
    "name": "ipython",
    "version": 3
   },
   "file_extension": ".py",
   "mimetype": "text/x-python",
   "name": "python",
   "nbconvert_exporter": "python",
   "pygments_lexer": "ipython3",
   "version": "3.6.10"
  },
  "toc": {
   "base_numbering": 1,
   "nav_menu": {},
   "number_sections": true,
   "sideBar": true,
   "skip_h1_title": false,
   "title_cell": "Table of Contents",
   "title_sidebar": "Contents",
   "toc_cell": false,
   "toc_position": {},
   "toc_section_display": true,
   "toc_window_display": false
  }
 },
 "nbformat": 4,
 "nbformat_minor": 4
}
