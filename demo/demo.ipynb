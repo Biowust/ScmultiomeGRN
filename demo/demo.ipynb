{
 "cells": [
  {
   "cell_type": "code",
   "execution_count": 1,
   "id": "defe1bc6-c21d-4a33-866e-d7dc304ebeea",
   "metadata": {},
   "outputs": [],
   "source": [
    "import os\n",
    "import sys\n",
    "sys.path.append('..')\n",
    "os.environ['PATH'] = f\"{os.path.dirname(sys.executable)}:{os.environ['PATH']}\""
   ]
  },
  {
   "cell_type": "code",
   "execution_count": 2,
   "id": "d19dedf1-2a3d-414e-b86b-7061c1e0efdf",
   "metadata": {},
   "outputs": [],
   "source": [
    "from src.utils import get_TFBS_from_ATAC, get_TFBS_from_promoter, build_Graph, build_cross_graph, extract_atac_feature, extract_scrna_feature2"
   ]
  },
  {
   "cell_type": "code",
   "execution_count": 3,
   "id": "dcdcab84-34f7-4c87-87ea-84d3c7c8a928",
   "metadata": {},
   "outputs": [],
   "source": [
    "cell_type = \"B_naive\"\n",
    "comment = \"test\""
   ]
  },
  {
   "cell_type": "code",
   "execution_count": 4,
   "id": "c602c435-48c1-4042-8e07-7e954508fc3f",
   "metadata": {},
   "outputs": [],
   "source": [
    "atac_file = os.path.join(cell_type, 'atac', 'matrix.mtx')\n",
    "scrna_file = os.path.join(cell_type, 'scrna', 'matrix.mtx')\n",
    "save_dir = os.path.join(\"graph\", cell_type)"
   ]
  },
  {
   "cell_type": "code",
   "execution_count": 5,
   "id": "0131a796-adbe-4515-a87e-a9e3e802b208",
   "metadata": {},
   "outputs": [],
   "source": [
    "motif_dir = \"../data_resource/HOCOMOCOv11\"\n",
    "genome_file = \"../data_resource/download_genome/hg38\"\n",
    "promoter_file = \"../data_resource/gencode.v38.ProteinCoding_gene_promoter.txt\""
   ]
  },
  {
   "cell_type": "code",
   "execution_count": 6,
   "id": "02a1e381-b458-46bd-a5ed-4cd25c2000ae",
   "metadata": {},
   "outputs": [
    {
     "data": {
      "text/plain": [
       "'graph/B_naive/region/atac_tfbs_region_all_tmp.txt'"
      ]
     },
     "execution_count": 6,
     "metadata": {},
     "output_type": "execute_result"
    }
   ],
   "source": [
    "atac_region_file = get_TFBS_from_ATAC(atac_file, motif_dir, genome_file, overwrite=False, save_dir=save_dir)\n",
    "atac_region_file"
   ]
  },
  {
   "cell_type": "code",
   "execution_count": 7,
   "id": "9ba3a282-723d-4d0e-8778-d9d1de34e0bd",
   "metadata": {},
   "outputs": [
    {
     "data": {
      "text/plain": [
       "'graph/B_naive/region/gencode.TF.promoter.region.txt'"
      ]
     },
     "execution_count": 7,
     "metadata": {},
     "output_type": "execute_result"
    }
   ],
   "source": [
    "promoter_region_file = get_TFBS_from_promoter(promoter_file, motif_dir, overwrite=False, save_dir=save_dir)\n",
    "promoter_region_file"
   ]
  },
  {
   "cell_type": "code",
   "execution_count": 8,
   "id": "22a0c91c-6e4b-4163-8c67-a08506a148eb",
   "metadata": {},
   "outputs": [],
   "source": [
    "graph_file, node_file = build_Graph(atac_region_file, promoter_region_file, overwrite=False, save_dir=save_dir)"
   ]
  },
  {
   "cell_type": "code",
   "execution_count": 9,
   "id": "0f74f919-8971-4673-9168-47283f4b6283",
   "metadata": {},
   "outputs": [
    {
     "data": {
      "text/plain": [
       "'graph/B_naive/origin_graph/atac_rp_score_feature.txt'"
      ]
     },
     "execution_count": 9,
     "metadata": {},
     "output_type": "execute_result"
    }
   ],
   "source": [
    "atac_feature_file = extract_atac_feature(atac_file, node_file, cell_num=None, seed=666, overwrite=False, save_dir=save_dir)\n",
    "atac_feature_file"
   ]
  },
  {
   "cell_type": "code",
   "execution_count": 10,
   "id": "566fd5ae-e0af-4f4d-ba64-80491d734ef8",
   "metadata": {},
   "outputs": [
    {
     "data": {
      "text/plain": [
       "'graph/B_naive/origin_graph/scRNA_grnboost2_feature.txt'"
      ]
     },
     "execution_count": 10,
     "metadata": {},
     "output_type": "execute_result"
    }
   ],
   "source": [
    "scrna_feature_file = extract_scrna_feature2(scrna_file, node_file, cell_num=None, seed=666, overwrite=False, just_node=False, save_dir=save_dir)\n",
    "scrna_feature_file"
   ]
  },
  {
   "cell_type": "code",
   "execution_count": 11,
   "id": "903c8441-9fe7-43ca-a025-b8e5aa96e53b",
   "metadata": {},
   "outputs": [],
   "source": [
    "scrna_tmp_file = os.path.join(save_dir, 'tmp', 'scrna.csv')"
   ]
  },
  {
   "cell_type": "code",
   "execution_count": 12,
   "id": "85a35944-821e-4acd-aac6-0d4917a1a6ad",
   "metadata": {},
   "outputs": [
    {
     "name": "stdout",
     "output_type": "stream",
     "text": [
      "final graph with 87 nodes, 946 edges, density: 0.12498348526885983\n"
     ]
    }
   ],
   "source": [
    "cross_graph_file, cross_node_file, cross_atac_file, aross_scrna_file = \\\n",
    "   build_cross_graph(graph_file, atac_feature_file, scrna_feature_file, overwrite=True, save_dir=save_dir)"
   ]
  },
  {
   "cell_type": "code",
   "execution_count": 13,
   "id": "5fe9ec1c-f1e8-4790-a8dd-2d5d4e21a360",
   "metadata": {},
   "outputs": [],
   "source": [
    "from src.trainer import Trainer"
   ]
  },
  {
   "cell_type": "code",
   "execution_count": 14,
   "id": "b16cae51-77c7-49ef-8ccb-b71c9cbd29d4",
   "metadata": {},
   "outputs": [],
   "source": [
    "parser = Trainer.add_argparse_args(name=cell_type, \n",
    "                                   adj_file=cross_graph_file, \n",
    "                                   node_file=cross_node_file, \n",
    "                                   scrna_file=scrna_tmp_file,\n",
    "                                   comment=comment,\n",
    "                                   atac_feature_file=cross_atac_file, \n",
    "                                   scrna_feature_file=aross_scrna_file,\n",
    "                                   model_cls='scMultiomeGRN', \n",
    "                                   mask_rate=0.0, \n",
    "                                   data_dir='tmp',\n",
    "                                   )\n",
    "config = parser.parse_args([])\n",
    "config.accelerator = \"auto\""
   ]
  },
  {
   "cell_type": "code",
   "execution_count": 15,
   "id": "555edbed-028b-4b3f-be24-5abfb4be85f8",
   "metadata": {},
   "outputs": [
    {
     "data": {
      "text/plain": [
       "Namespace(name='B_naive', adj_file='graph/B_naive/x_graph.txt', node_file='graph/B_naive/x_node.txt', atac_feature_file='graph/B_naive/x_atac_rp_score_feature.txt', scrna_feature_file='graph/B_naive/x_scRNA_grnboost2_feature.txt', scrna_file='graph/B_naive/tmp/scrna.csv', dataset_seed=666, train_split_rate=0.8, n_splits=10, data_dir='tmp', split_id=1, max_epochs=2000, patience=100, model_cls='scMultiomeGRN', model_seed=666, comment='test', accelerator='auto', mask_rate=0.0)"
      ]
     },
     "execution_count": 15,
     "metadata": {},
     "output_type": "execute_result"
    }
   ],
   "source": [
    "config"
   ]
  },
  {
   "cell_type": "code",
   "execution_count": 16,
   "id": "f669931f-41c9-46ea-8bec-27110015ae63",
   "metadata": {
    "scrolled": true
   },
   "outputs": [
    {
     "name": "stdout",
     "output_type": "stream",
     "text": [
      "skip split_dataset with seed:666, train_split_rate:0.8, n_splits:10\n",
      "load from tmp/B_naive/seed-666_fold-10_rate-0.8_all-train-True/split-001_train-edge-338_87x87.csv\n",
      "adj:87x87, edge:762, atac:87x382, scrna:87x2069, edge_attr:torch.Size([763, 16, 16]), pos_weight:10.19675, norm_weight:0.54904\n"
     ]
    },
    {
     "name": "stderr",
     "output_type": "stream",
     "text": [
      "/tmp/pycharm_project_732/demo/../src/dataset.py:42: UserWarning: torch.sparse.SparseTensor(indices, values, shape, *, device=) is deprecated.  Please use torch.sparse_coo_tensor(indices, values, shape, dtype=, device=). (Triggered internally at ../torch/csrc/utils/tensor_new.cpp:641.)\n",
      "  return torch.sparse.FloatTensor(indices, values, shape)\n",
      "Seed set to 666\n"
     ]
    },
    {
     "name": "stdout",
     "output_type": "stream",
     "text": [
      "load from tmp/B_naive/seed-666_fold-10_rate-0.8_all-train-True/split-001_val-edge-85_87x87.csv\n",
      "adj:87x87, edge:171, atac:87x382, scrna:87x2069, edge_attr:torch.Size([257, 16, 16]), pos_weight:43.52353, norm_weight:0.51149\n",
      "load from tmp/B_naive/seed-666_fold-10_rate-0.8_all-train-True/split-001_test-edge-47_87x87.csv\n",
      "adj:87x87, edge:94, atac:87x382, scrna:87x2069, edge_attr:torch.Size([181, 16, 16]), pos_weight:79.52128, norm_weight:0.50629\n"
     ]
    },
    {
     "name": "stderr",
     "output_type": "stream",
     "text": [
      "GPU available: True (cuda), used: True\n",
      "TPU available: False, using: 0 TPU cores\n",
      "HPU available: False, using: 0 HPUs\n",
      "/home/lcc/miniconda3/envs/scMultiomeGRN/lib/python3.10/site-packages/pytorch_lightning/trainer/connectors/logger_connector/logger_connector.py:75: Starting from v1.9.0, `tensorboardX` has been removed as a dependency of the `pytorch_lightning` package, due to potential conflicts with other packages in the ML ecosystem. For this reason, `logger=True` will use `CSVLogger` as the default logger, unless the `tensorboard` or `tensorboardX` packages are found. Please `pip install lightning[extra]` or one of them to enable TensorBoard support by default\n",
      "You are using a CUDA device ('NVIDIA GeForce RTX 4090 D') that has Tensor Cores. To properly utilize them, you should set `torch.set_float32_matmul_precision('medium' | 'high')` which will trade-off precision for performance. For more details, read https://pytorch.org/docs/stable/generated/torch.set_float32_matmul_precision.html#torch.set_float32_matmul_precision\n",
      "LOCAL_RANK: 0 - CUDA_VISIBLE_DEVICES: [0]\n",
      "/home/lcc/miniconda3/envs/scMultiomeGRN/lib/python3.10/site-packages/torch/optim/lr_scheduler.py:60: UserWarning: The verbose parameter is deprecated. Please use get_last_lr() to access the learning rate.\n",
      "  warnings.warn(\n",
      "\n",
      "  | Name  | Type            | Params | Mode \n",
      "--------------------------------------------------\n",
      "0 | model | GraFRankModelAE | 6.3 M  | train\n",
      "--------------------------------------------------\n",
      "6.3 M     Trainable params\n",
      "0         Non-trainable params\n",
      "6.3 M     Total params\n",
      "25.071    Total estimated model params size (MB)\n",
      "72        Modules in train mode\n",
      "0         Modules in eval mode\n"
     ]
    },
    {
     "name": "stdout",
     "output_type": "stream",
     "text": [
      "Sanity Checking DataLoader 0:   0%|                                                                           | 0/1 [00:00<?, ?it/s]"
     ]
    },
    {
     "name": "stderr",
     "output_type": "stream",
     "text": [
      "/home/lcc/miniconda3/envs/scMultiomeGRN/lib/python3.10/site-packages/pytorch_lightning/trainer/connectors/data_connector.py:424: The 'val_dataloader' does not have many workers which may be a bottleneck. Consider increasing the value of the `num_workers` argument` to `num_workers=18` in the `DataLoader` to improve performance.\n"
     ]
    },
    {
     "name": "stdout",
     "output_type": "stream",
     "text": [
      "                                                                                                                                    "
     ]
    },
    {
     "name": "stderr",
     "output_type": "stream",
     "text": [
      "/home/lcc/miniconda3/envs/scMultiomeGRN/lib/python3.10/site-packages/pytorch_lightning/utilities/data.py:78: Trying to infer the `batch_size` from an ambiguous collection. The batch size we found is 87. To avoid any miscalculations, use `self.log(..., batch_size=batch_size)`.\n",
      "/home/lcc/miniconda3/envs/scMultiomeGRN/lib/python3.10/site-packages/pytorch_lightning/trainer/connectors/data_connector.py:424: The 'train_dataloader' does not have many workers which may be a bottleneck. Consider increasing the value of the `num_workers` argument` to `num_workers=18` in the `DataLoader` to improve performance.\n",
      "/home/lcc/miniconda3/envs/scMultiomeGRN/lib/python3.10/site-packages/pytorch_lightning/loops/fit_loop.py:298: The number of training batches (1) is smaller than the logging interval Trainer(log_every_n_steps=50). Set a lower value for log_every_n_steps if you want to see logs for the training epoch.\n"
     ]
    },
    {
     "name": "stdout",
     "output_type": "stream",
     "text": [
      "Epoch 0: 100%|███████████████████████████████████████████████████████████████████| 1/1 [00:00<00:00, 12.74it/s, v_num=3]\n",
      "Validation: |                                                                                                 | 0/? [00:00<?, ?it/s]\u001b[A\n",
      "Validation:   0%|                                                                                             | 0/1 [00:00<?, ?it/s]\u001b[A\n",
      "Validation DataLoader 0:   0%|                                                                                | 0/1 [00:00<?, ?it/s]\u001b[A\n",
      "Validation DataLoader 0: 100%|████████████████████████████████████████████████████████████████████████| 1/1 [00:00<00:00, 96.85it/s]\u001b[A\n",
      "Validation DataLoader 0:   0%|                                                                                | 0/1 [00:00<?, ?it/s]\u001b[A\n",
      "Validation DataLoader 1:   0%|                                                                                | 0/1 [00:00<?, ?it/s]\u001b[A\n",
      "Validation DataLoader 1: 100%|███████████████████████████████████████████████████████████████████████| 1/1 [00:00<00:00, 118.86it/s]\u001b[A\n",
      "Epoch 0: 100%|███████████████████████████████████████████████████████████████████| 1/1 [00:00<00:00,  9.61it/s, v_num=3]            \u001b[A"
     ]
    },
    {
     "name": "stderr",
     "output_type": "stream",
     "text": [
      "Metric val/loss/dataloader_idx_0 improved. New best score: 5.541\n"
     ]
    },
    {
     "name": "stdout",
     "output_type": "stream",
     "text": [
      "Epoch 1: 100%|██████████████████████████| 1/1 [00:00<00:00, 134.08it/s, v_num=3, train/loss=0.764, train/loss_rec=0.764]\n",
      "Validation: |                                                                                                 | 0/? [00:00<?, ?it/s]\u001b[A\n",
      "Validation:   0%|                                                                                             | 0/1 [00:00<?, ?it/s]\u001b[A\n",
      "Validation DataLoader 0:   0%|                                                                                | 0/1 [00:00<?, ?it/s]\u001b[A\n",
      "Validation DataLoader 0: 100%|███████████████████████████████████████████████████████████████████████| 1/1 [00:00<00:00, 102.59it/s]\u001b[A\n",
      "Validation DataLoader 0:   0%|                                                                                | 0/1 [00:00<?, ?it/s]\u001b[A\n",
      "Validation DataLoader 1:   0%|                                                                                | 0/1 [00:00<?, ?it/s]\u001b[A\n",
      "Validation DataLoader 1: 100%|███████████████████████████████████████████████████████████████████████| 1/1 [00:00<00:00, 118.17it/s]\u001b[A\n",
      "Epoch 1: 100%|███████████████████████████| 1/1 [00:00<00:00, 32.37it/s, v_num=3, train/loss=0.764, train/loss_rec=0.764]            \u001b[A"
     ]
    },
    {
     "name": "stderr",
     "output_type": "stream",
     "text": [
      "Metric val/loss/dataloader_idx_0 improved by 0.006 >= min_delta = 0.0. New best score: 5.535\n"
     ]
    },
    {
     "name": "stdout",
     "output_type": "stream",
     "text": [
      "Epoch 2: 100%|██████████████████████████| 1/1 [00:00<00:00, 105.72it/s, v_num=3, train/loss=0.764, train/loss_rec=0.764]\n",
      "Validation: |                                                                                                 | 0/? [00:00<?, ?it/s]\u001b[A\n",
      "Validation:   0%|                                                                                             | 0/1 [00:00<?, ?it/s]\u001b[A\n",
      "Validation DataLoader 0:   0%|                                                                                | 0/1 [00:00<?, ?it/s]\u001b[A\n",
      "Validation DataLoader 0: 100%|███████████████████████████████████████████████████████████████████████| 1/1 [00:00<00:00, 109.86it/s]\u001b[A\n",
      "Validation DataLoader 0:   0%|                                                                                | 0/1 [00:00<?, ?it/s]\u001b[A\n",
      "Validation DataLoader 1:   0%|                                                                                | 0/1 [00:00<?, ?it/s]\u001b[A\n",
      "Validation DataLoader 1: 100%|███████████████████████████████████████████████████████████████████████| 1/1 [00:00<00:00, 108.88it/s]\u001b[A\n",
      "Epoch 2: 100%|███████████████████████████| 1/1 [00:00<00:00, 30.20it/s, v_num=3, train/loss=0.764, train/loss_rec=0.764]            \u001b[A"
     ]
    },
    {
     "name": "stderr",
     "output_type": "stream",
     "text": [
      "Metric val/loss/dataloader_idx_0 improved by 0.006 >= min_delta = 0.0. New best score: 5.529\n"
     ]
    },
    {
     "name": "stdout",
     "output_type": "stream",
     "text": [
      "Epoch 3: 100%|██████████████████████████| 1/1 [00:00<00:00, 134.93it/s, v_num=3, train/loss=0.764, train/loss_rec=0.764]\n",
      "Validation: |                                                                                                 | 0/? [00:00<?, ?it/s]\u001b[A\n",
      "Validation:   0%|                                                                                             | 0/1 [00:00<?, ?it/s]\u001b[A\n",
      "Validation DataLoader 0:   0%|                                                                                | 0/1 [00:00<?, ?it/s]\u001b[A\n",
      "Validation DataLoader 0: 100%|████████████████████████████████████████████████████████████████████████| 1/1 [00:00<00:00, 99.34it/s]\u001b[A\n",
      "Validation DataLoader 0:   0%|                                                                                | 0/1 [00:00<?, ?it/s]\u001b[A\n",
      "Validation DataLoader 1:   0%|                                                                                | 0/1 [00:00<?, ?it/s]\u001b[A\n",
      "Validation DataLoader 1: 100%|███████████████████████████████████████████████████████████████████████| 1/1 [00:00<00:00, 124.82it/s]\u001b[A\n",
      "Epoch 3: 100%|███████████████████████████| 1/1 [00:00<00:00, 32.54it/s, v_num=3, train/loss=0.764, train/loss_rec=0.764]            \u001b[A"
     ]
    },
    {
     "name": "stderr",
     "output_type": "stream",
     "text": [
      "Metric val/loss/dataloader_idx_0 improved by 0.006 >= min_delta = 0.0. New best score: 5.522\n"
     ]
    },
    {
     "name": "stdout",
     "output_type": "stream",
     "text": [
      "Epoch 4: 100%|██████████████████████████| 1/1 [00:00<00:00, 135.37it/s, v_num=3, train/loss=0.764, train/loss_rec=0.764]\n",
      "Validation: |                                                                                                 | 0/? [00:00<?, ?it/s]\u001b[A\n",
      "Validation:   0%|                                                                                             | 0/1 [00:00<?, ?it/s]\u001b[A\n",
      "Validation DataLoader 0:   0%|                                                                                | 0/1 [00:00<?, ?it/s]\u001b[A\n",
      "Validation DataLoader 0: 100%|████████████████████████████████████████████████████████████████████████| 1/1 [00:00<00:00, 95.87it/s]\u001b[A\n",
      "Validation DataLoader 0:   0%|                                                                                | 0/1 [00:00<?, ?it/s]\u001b[A\n",
      "Validation DataLoader 1:   0%|                                                                                | 0/1 [00:00<?, ?it/s]\u001b[A\n",
      "Validation DataLoader 1: 100%|███████████████████████████████████████████████████████████████████████| 1/1 [00:00<00:00, 125.01it/s]\u001b[A\n",
      "Epoch 4: 100%|███████████████████████████| 1/1 [00:00<00:00, 32.19it/s, v_num=3, train/loss=0.764, train/loss_rec=0.764]            \u001b[A"
     ]
    },
    {
     "name": "stderr",
     "output_type": "stream",
     "text": [
      "Metric val/loss/dataloader_idx_0 improved by 0.006 >= min_delta = 0.0. New best score: 5.516\n"
     ]
    },
    {
     "name": "stdout",
     "output_type": "stream",
     "text": [
      "Epoch 5: 100%|██████████████████████████| 1/1 [00:00<00:00, 132.52it/s, v_num=3, train/loss=0.764, train/loss_rec=0.764]\n",
      "Validation: |                                                                                                 | 0/? [00:00<?, ?it/s]\u001b[A\n",
      "Validation:   0%|                                                                                             | 0/1 [00:00<?, ?it/s]\u001b[A\n",
      "Validation DataLoader 0:   0%|                                                                                | 0/1 [00:00<?, ?it/s]\u001b[A\n",
      "Validation DataLoader 0: 100%|███████████████████████████████████████████████████████████████████████| 1/1 [00:00<00:00, 104.71it/s]\u001b[A\n",
      "Validation DataLoader 0:   0%|                                                                                | 0/1 [00:00<?, ?it/s]\u001b[A\n",
      "Validation DataLoader 1:   0%|                                                                                | 0/1 [00:00<?, ?it/s]\u001b[A\n",
      "Validation DataLoader 1: 100%|███████████████████████████████████████████████████████████████████████| 1/1 [00:00<00:00, 120.40it/s]\u001b[A\n",
      "Epoch 5: 100%|███████████████████████████| 1/1 [00:00<00:00, 32.37it/s, v_num=3, train/loss=0.764, train/loss_rec=0.764]            \u001b[A"
     ]
    },
    {
     "name": "stderr",
     "output_type": "stream",
     "text": [
      "Metric val/loss/dataloader_idx_0 improved by 0.006 >= min_delta = 0.0. New best score: 5.510\n"
     ]
    },
    {
     "name": "stdout",
     "output_type": "stream",
     "text": [
      "Epoch 6: 100%|██████████████████████████| 1/1 [00:00<00:00, 133.22it/s, v_num=3, train/loss=0.764, train/loss_rec=0.764]\n",
      "Validation: |                                                                                                 | 0/? [00:00<?, ?it/s]\u001b[A\n",
      "Validation:   0%|                                                                                             | 0/1 [00:00<?, ?it/s]\u001b[A\n",
      "Validation DataLoader 0:   0%|                                                                                | 0/1 [00:00<?, ?it/s]\u001b[A\n",
      "Validation DataLoader 0: 100%|███████████████████████████████████████████████████████████████████████| 1/1 [00:00<00:00, 100.63it/s]\u001b[A\n",
      "Validation DataLoader 0:   0%|                                                                                | 0/1 [00:00<?, ?it/s]\u001b[A\n",
      "Validation DataLoader 1:   0%|                                                                                | 0/1 [00:00<?, ?it/s]\u001b[A\n",
      "Validation DataLoader 1: 100%|███████████████████████████████████████████████████████████████████████| 1/1 [00:00<00:00, 125.15it/s]\u001b[A\n",
      "Epoch 6: 100%|███████████████████████████| 1/1 [00:00<00:00, 32.46it/s, v_num=3, train/loss=0.764, train/loss_rec=0.764]            \u001b[A"
     ]
    },
    {
     "name": "stderr",
     "output_type": "stream",
     "text": [
      "Metric val/loss/dataloader_idx_0 improved by 0.006 >= min_delta = 0.0. New best score: 5.504\n"
     ]
    },
    {
     "name": "stdout",
     "output_type": "stream",
     "text": [
      "Epoch 7: 100%|██████████████████████████| 1/1 [00:00<00:00, 135.30it/s, v_num=3, train/loss=0.764, train/loss_rec=0.764]\n",
      "Validation: |                                                                                                 | 0/? [00:00<?, ?it/s]\u001b[A\n",
      "Validation:   0%|                                                                                             | 0/1 [00:00<?, ?it/s]\u001b[A\n",
      "Validation DataLoader 0:   0%|                                                                                | 0/1 [00:00<?, ?it/s]\u001b[A\n",
      "Validation DataLoader 0: 100%|███████████████████████████████████████████████████████████████████████| 1/1 [00:00<00:00, 101.57it/s]\u001b[A\n",
      "Validation DataLoader 0:   0%|                                                                                | 0/1 [00:00<?, ?it/s]\u001b[A\n",
      "Validation DataLoader 1:   0%|                                                                                | 0/1 [00:00<?, ?it/s]\u001b[A\n",
      "Validation DataLoader 1: 100%|███████████████████████████████████████████████████████████████████████| 1/1 [00:00<00:00, 122.35it/s]\u001b[A\n",
      "Epoch 7: 100%|███████████████████████████| 1/1 [00:00<00:00, 32.41it/s, v_num=3, train/loss=0.764, train/loss_rec=0.764]            \u001b[A"
     ]
    },
    {
     "name": "stderr",
     "output_type": "stream",
     "text": [
      "Metric val/loss/dataloader_idx_0 improved by 0.006 >= min_delta = 0.0. New best score: 5.497\n"
     ]
    },
    {
     "name": "stdout",
     "output_type": "stream",
     "text": [
      "Epoch 8: 100%|██████████████████████████| 1/1 [00:00<00:00, 139.78it/s, v_num=3, train/loss=0.764, train/loss_rec=0.764]\n",
      "Validation: |                                                                                                 | 0/? [00:00<?, ?it/s]\u001b[A\n",
      "Validation:   0%|                                                                                             | 0/1 [00:00<?, ?it/s]\u001b[A\n",
      "Validation DataLoader 0:   0%|                                                                                | 0/1 [00:00<?, ?it/s]\u001b[A\n",
      "Validation DataLoader 0: 100%|███████████████████████████████████████████████████████████████████████| 1/1 [00:00<00:00, 101.98it/s]\u001b[A\n",
      "Validation DataLoader 0:   0%|                                                                                | 0/1 [00:00<?, ?it/s]\u001b[A\n",
      "Validation DataLoader 1:   0%|                                                                                | 0/1 [00:00<?, ?it/s]\u001b[A\n",
      "Validation DataLoader 1: 100%|███████████████████████████████████████████████████████████████████████| 1/1 [00:00<00:00, 121.14it/s]\u001b[A\n",
      "Epoch 8: 100%|███████████████████████████| 1/1 [00:00<00:00, 32.90it/s, v_num=3, train/loss=0.764, train/loss_rec=0.764]            \u001b[A"
     ]
    },
    {
     "name": "stderr",
     "output_type": "stream",
     "text": [
      "Metric val/loss/dataloader_idx_0 improved by 0.006 >= min_delta = 0.0. New best score: 5.491\n"
     ]
    },
    {
     "name": "stdout",
     "output_type": "stream",
     "text": [
      "Epoch 9: 100%|██████████████████████████| 1/1 [00:00<00:00, 128.44it/s, v_num=3, train/loss=0.764, train/loss_rec=0.764]\n",
      "Validation: |                                                                                                 | 0/? [00:00<?, ?it/s]\u001b[A\n",
      "Validation:   0%|                                                                                             | 0/1 [00:00<?, ?it/s]\u001b[A\n",
      "Validation DataLoader 0:   0%|                                                                                | 0/1 [00:00<?, ?it/s]\u001b[A\n",
      "Validation DataLoader 0: 100%|███████████████████████████████████████████████████████████████████████| 1/1 [00:00<00:00, 103.11it/s]\u001b[A\n",
      "Validation DataLoader 0:   0%|                                                                                | 0/1 [00:00<?, ?it/s]\u001b[A\n",
      "Validation DataLoader 1:   0%|                                                                                | 0/1 [00:00<?, ?it/s]\u001b[A\n",
      "Validation DataLoader 1: 100%|███████████████████████████████████████████████████████████████████████| 1/1 [00:00<00:00, 112.52it/s]\u001b[A\n",
      "Epoch 9: 100%|███████████████████████████| 1/1 [00:00<00:00, 31.71it/s, v_num=3, train/loss=0.764, train/loss_rec=0.764]            \u001b[A"
     ]
    },
    {
     "name": "stderr",
     "output_type": "stream",
     "text": [
      "Metric val/loss/dataloader_idx_0 improved by 0.006 >= min_delta = 0.0. New best score: 5.484\n"
     ]
    },
    {
     "name": "stdout",
     "output_type": "stream",
     "text": [
      "Epoch 10: 100%|█████████████████████████| 1/1 [00:00<00:00, 109.28it/s, v_num=3, train/loss=0.764, train/loss_rec=0.764]\n",
      "Validation: |                                                                                                 | 0/? [00:00<?, ?it/s]\u001b[A\n",
      "Validation:   0%|                                                                                             | 0/1 [00:00<?, ?it/s]\u001b[A\n",
      "Validation DataLoader 0:   0%|                                                                                | 0/1 [00:00<?, ?it/s]\u001b[A\n",
      "Validation DataLoader 0: 100%|███████████████████████████████████████████████████████████████████████| 1/1 [00:00<00:00, 108.87it/s]\u001b[A\n",
      "Validation DataLoader 0:   0%|                                                                                | 0/1 [00:00<?, ?it/s]\u001b[A\n",
      "Validation DataLoader 1:   0%|                                                                                | 0/1 [00:00<?, ?it/s]\u001b[A\n",
      "Validation DataLoader 1: 100%|███████████████████████████████████████████████████████████████████████| 1/1 [00:00<00:00, 116.28it/s]\u001b[A\n",
      "Epoch 10: 100%|██████████████████████████| 1/1 [00:00<00:00, 31.05it/s, v_num=3, train/loss=0.764, train/loss_rec=0.764]            \u001b[A"
     ]
    },
    {
     "name": "stderr",
     "output_type": "stream",
     "text": [
      "Metric val/loss/dataloader_idx_0 improved by 0.007 >= min_delta = 0.0. New best score: 5.478\n"
     ]
    },
    {
     "name": "stdout",
     "output_type": "stream",
     "text": [
      "Epoch 11: 100%|█████████████████████████| 1/1 [00:00<00:00, 134.78it/s, v_num=3, train/loss=0.764, train/loss_rec=0.764]\n",
      "Validation: |                                                                                                 | 0/? [00:00<?, ?it/s]\u001b[A\n",
      "Validation:   0%|                                                                                             | 0/1 [00:00<?, ?it/s]\u001b[A\n",
      "Validation DataLoader 0:   0%|                                                                                | 0/1 [00:00<?, ?it/s]\u001b[A\n",
      "Validation DataLoader 0: 100%|███████████████████████████████████████████████████████████████████████| 1/1 [00:00<00:00, 115.96it/s]\u001b[A\n",
      "Validation DataLoader 0:   0%|                                                                                | 0/1 [00:00<?, ?it/s]\u001b[A\n",
      "Validation DataLoader 1:   0%|                                                                                | 0/1 [00:00<?, ?it/s]\u001b[A\n",
      "Validation DataLoader 1: 100%|███████████████████████████████████████████████████████████████████████| 1/1 [00:00<00:00, 126.97it/s]\u001b[A\n",
      "Epoch 11: 100%|██████████████████████████| 1/1 [00:00<00:00, 34.31it/s, v_num=3, train/loss=0.764, train/loss_rec=0.764]            \u001b[A"
     ]
    },
    {
     "name": "stderr",
     "output_type": "stream",
     "text": [
      "Metric val/loss/dataloader_idx_0 improved by 0.007 >= min_delta = 0.0. New best score: 5.471\n"
     ]
    },
    {
     "name": "stdout",
     "output_type": "stream",
     "text": [
      "Epoch 12: 100%|█████████████████████████| 1/1 [00:00<00:00, 137.90it/s, v_num=3, train/loss=0.764, train/loss_rec=0.764]\n",
      "Validation: |                                                                                                 | 0/? [00:00<?, ?it/s]\u001b[A\n",
      "Validation:   0%|                                                                                             | 0/1 [00:00<?, ?it/s]\u001b[A\n",
      "Validation DataLoader 0:   0%|                                                                                | 0/1 [00:00<?, ?it/s]\u001b[A\n",
      "Validation DataLoader 0: 100%|███████████████████████████████████████████████████████████████████████| 1/1 [00:00<00:00, 118.48it/s]\u001b[A\n",
      "Validation DataLoader 0:   0%|                                                                                | 0/1 [00:00<?, ?it/s]\u001b[A\n",
      "Validation DataLoader 1:   0%|                                                                                | 0/1 [00:00<?, ?it/s]\u001b[A\n",
      "Validation DataLoader 1: 100%|███████████████████████████████████████████████████████████████████████| 1/1 [00:00<00:00, 131.90it/s]\u001b[A\n",
      "Epoch 12: 100%|██████████████████████████| 1/1 [00:00<00:00, 35.47it/s, v_num=3, train/loss=0.764, train/loss_rec=0.764]            \u001b[A"
     ]
    },
    {
     "name": "stderr",
     "output_type": "stream",
     "text": [
      "Metric val/loss/dataloader_idx_0 improved by 0.007 >= min_delta = 0.0. New best score: 5.464\n"
     ]
    },
    {
     "name": "stdout",
     "output_type": "stream",
     "text": [
      "Epoch 13: 100%|█████████████████████████| 1/1 [00:00<00:00, 143.40it/s, v_num=3, train/loss=0.764, train/loss_rec=0.764]\n",
      "Validation: |                                                                                                 | 0/? [00:00<?, ?it/s]\u001b[A\n",
      "Validation:   0%|                                                                                             | 0/1 [00:00<?, ?it/s]\u001b[A\n",
      "Validation DataLoader 0:   0%|                                                                                | 0/1 [00:00<?, ?it/s]\u001b[A\n",
      "Validation DataLoader 0: 100%|███████████████████████████████████████████████████████████████████████| 1/1 [00:00<00:00, 117.86it/s]\u001b[A\n",
      "Validation DataLoader 0:   0%|                                                                                | 0/1 [00:00<?, ?it/s]\u001b[A\n",
      "Validation DataLoader 1:   0%|                                                                                | 0/1 [00:00<?, ?it/s]\u001b[A\n",
      "Validation DataLoader 1: 100%|███████████████████████████████████████████████████████████████████████| 1/1 [00:00<00:00, 131.13it/s]\u001b[A\n",
      "Epoch 13: 100%|██████████████████████████| 1/1 [00:00<00:00, 35.81it/s, v_num=3, train/loss=0.764, train/loss_rec=0.764]            \u001b[A"
     ]
    },
    {
     "name": "stderr",
     "output_type": "stream",
     "text": [
      "Metric val/loss/dataloader_idx_0 improved by 0.007 >= min_delta = 0.0. New best score: 5.457\n"
     ]
    },
    {
     "name": "stdout",
     "output_type": "stream",
     "text": [
      "Epoch 14: 100%|█████████████████████████| 1/1 [00:00<00:00, 140.42it/s, v_num=3, train/loss=0.764, train/loss_rec=0.764]\n",
      "Validation: |                                                                                                 | 0/? [00:00<?, ?it/s]\u001b[A\n",
      "Validation:   0%|                                                                                             | 0/1 [00:00<?, ?it/s]\u001b[A\n",
      "Validation DataLoader 0:   0%|                                                                                | 0/1 [00:00<?, ?it/s]\u001b[A\n",
      "Validation DataLoader 0: 100%|███████████████████████████████████████████████████████████████████████| 1/1 [00:00<00:00, 116.38it/s]\u001b[A\n",
      "Validation DataLoader 0:   0%|                                                                                | 0/1 [00:00<?, ?it/s]\u001b[A\n",
      "Validation DataLoader 1:   0%|                                                                                | 0/1 [00:00<?, ?it/s]\u001b[A\n",
      "Validation DataLoader 1: 100%|███████████████████████████████████████████████████████████████████████| 1/1 [00:00<00:00, 125.79it/s]\u001b[A\n",
      "Epoch 14: 100%|██████████████████████████| 1/1 [00:00<00:00, 34.40it/s, v_num=3, train/loss=0.764, train/loss_rec=0.764]            \u001b[A"
     ]
    },
    {
     "name": "stderr",
     "output_type": "stream",
     "text": [
      "Metric val/loss/dataloader_idx_0 improved by 0.007 >= min_delta = 0.0. New best score: 5.450\n"
     ]
    },
    {
     "name": "stdout",
     "output_type": "stream",
     "text": [
      "Epoch 15: 100%|█████████████████████████| 1/1 [00:00<00:00, 128.40it/s, v_num=3, train/loss=0.764, train/loss_rec=0.764]\n",
      "Validation: |                                                                                                 | 0/? [00:00<?, ?it/s]\u001b[A\n",
      "Validation:   0%|                                                                                             | 0/1 [00:00<?, ?it/s]\u001b[A\n",
      "Validation DataLoader 0:   0%|                                                                                | 0/1 [00:00<?, ?it/s]\u001b[A\n",
      "Validation DataLoader 0: 100%|███████████████████████████████████████████████████████████████████████| 1/1 [00:00<00:00, 112.90it/s]\u001b[A\n",
      "Validation DataLoader 0:   0%|                                                                                | 0/1 [00:00<?, ?it/s]\u001b[A\n",
      "Validation DataLoader 1:   0%|                                                                                | 0/1 [00:00<?, ?it/s]\u001b[A\n",
      "Validation DataLoader 1: 100%|███████████████████████████████████████████████████████████████████████| 1/1 [00:00<00:00, 127.45it/s]\u001b[A\n",
      "Epoch 15: 100%|██████████████████████████| 1/1 [00:00<00:00, 33.50it/s, v_num=3, train/loss=0.764, train/loss_rec=0.764]            \u001b[A"
     ]
    },
    {
     "name": "stderr",
     "output_type": "stream",
     "text": [
      "Metric val/loss/dataloader_idx_0 improved by 0.007 >= min_delta = 0.0. New best score: 5.443\n"
     ]
    },
    {
     "name": "stdout",
     "output_type": "stream",
     "text": [
      "Epoch 16: 100%|█████████████████████████| 1/1 [00:00<00:00, 139.68it/s, v_num=3, train/loss=0.764, train/loss_rec=0.764]\n",
      "Validation: |                                                                                                 | 0/? [00:00<?, ?it/s]\u001b[A\n",
      "Validation:   0%|                                                                                             | 0/1 [00:00<?, ?it/s]\u001b[A\n",
      "Validation DataLoader 0:   0%|                                                                                | 0/1 [00:00<?, ?it/s]\u001b[A\n",
      "Validation DataLoader 0: 100%|███████████████████████████████████████████████████████████████████████| 1/1 [00:00<00:00, 115.63it/s]\u001b[A\n",
      "Validation DataLoader 0:   0%|                                                                                | 0/1 [00:00<?, ?it/s]\u001b[A\n",
      "Validation DataLoader 1:   0%|                                                                                | 0/1 [00:00<?, ?it/s]\u001b[A\n",
      "Validation DataLoader 1: 100%|███████████████████████████████████████████████████████████████████████| 1/1 [00:00<00:00, 128.60it/s]\u001b[A\n",
      "Epoch 16: 100%|██████████████████████████| 1/1 [00:00<00:00, 34.95it/s, v_num=3, train/loss=0.764, train/loss_rec=0.764]            \u001b[A"
     ]
    },
    {
     "name": "stderr",
     "output_type": "stream",
     "text": [
      "Metric val/loss/dataloader_idx_0 improved by 0.007 >= min_delta = 0.0. New best score: 5.436\n"
     ]
    },
    {
     "name": "stdout",
     "output_type": "stream",
     "text": [
      "Epoch 17: 100%|█████████████████████████| 1/1 [00:00<00:00, 137.47it/s, v_num=3, train/loss=0.764, train/loss_rec=0.764]\n",
      "Validation: |                                                                                                 | 0/? [00:00<?, ?it/s]\u001b[A\n",
      "Validation:   0%|                                                                                             | 0/1 [00:00<?, ?it/s]\u001b[A\n",
      "Validation DataLoader 0:   0%|                                                                                | 0/1 [00:00<?, ?it/s]\u001b[A\n",
      "Validation DataLoader 0: 100%|███████████████████████████████████████████████████████████████████████| 1/1 [00:00<00:00, 114.63it/s]\u001b[A\n",
      "Validation DataLoader 0:   0%|                                                                                | 0/1 [00:00<?, ?it/s]\u001b[A\n",
      "Validation DataLoader 1:   0%|                                                                                | 0/1 [00:00<?, ?it/s]\u001b[A\n",
      "Validation DataLoader 1: 100%|███████████████████████████████████████████████████████████████████████| 1/1 [00:00<00:00, 129.25it/s]\u001b[A\n",
      "Epoch 17: 100%|██████████████████████████| 1/1 [00:00<00:00, 34.81it/s, v_num=3, train/loss=0.764, train/loss_rec=0.764]            \u001b[A"
     ]
    },
    {
     "name": "stderr",
     "output_type": "stream",
     "text": [
      "Metric val/loss/dataloader_idx_0 improved by 0.007 >= min_delta = 0.0. New best score: 5.429\n"
     ]
    },
    {
     "name": "stdout",
     "output_type": "stream",
     "text": [
      "Epoch 18: 100%|█████████████████████████| 1/1 [00:00<00:00, 136.29it/s, v_num=3, train/loss=0.763, train/loss_rec=0.763]\n",
      "Validation: |                                                                                                 | 0/? [00:00<?, ?it/s]\u001b[A\n",
      "Validation:   0%|                                                                                             | 0/1 [00:00<?, ?it/s]\u001b[A\n",
      "Validation DataLoader 0:   0%|                                                                                | 0/1 [00:00<?, ?it/s]\u001b[A\n",
      "Validation DataLoader 0: 100%|███████████████████████████████████████████████████████████████████████| 1/1 [00:00<00:00, 114.13it/s]\u001b[A\n",
      "Validation DataLoader 0:   0%|                                                                                | 0/1 [00:00<?, ?it/s]\u001b[A\n",
      "Validation DataLoader 1:   0%|                                                                                | 0/1 [00:00<?, ?it/s]\u001b[A\n",
      "Validation DataLoader 1: 100%|███████████████████████████████████████████████████████████████████████| 1/1 [00:00<00:00, 127.34it/s]\u001b[A\n",
      "Epoch 18: 100%|██████████████████████████| 1/1 [00:00<00:00, 34.45it/s, v_num=3, train/loss=0.763, train/loss_rec=0.763]            \u001b[A"
     ]
    },
    {
     "name": "stderr",
     "output_type": "stream",
     "text": [
      "Metric val/loss/dataloader_idx_0 improved by 0.007 >= min_delta = 0.0. New best score: 5.421\n"
     ]
    },
    {
     "name": "stdout",
     "output_type": "stream",
     "text": [
      "Epoch 19: 100%|█████████████████████████| 1/1 [00:00<00:00, 134.49it/s, v_num=3, train/loss=0.763, train/loss_rec=0.763]\n",
      "Validation: |                                                                                                 | 0/? [00:00<?, ?it/s]\u001b[A\n",
      "Validation:   0%|                                                                                             | 0/1 [00:00<?, ?it/s]\u001b[A\n",
      "Validation DataLoader 0:   0%|                                                                                | 0/1 [00:00<?, ?it/s]\u001b[A\n",
      "Validation DataLoader 0: 100%|███████████████████████████████████████████████████████████████████████| 1/1 [00:00<00:00, 114.12it/s]\u001b[A\n",
      "Validation DataLoader 0:   0%|                                                                                | 0/1 [00:00<?, ?it/s]\u001b[A\n",
      "Validation DataLoader 1:   0%|                                                                                | 0/1 [00:00<?, ?it/s]\u001b[A\n",
      "Validation DataLoader 1: 100%|███████████████████████████████████████████████████████████████████████| 1/1 [00:00<00:00, 126.73it/s]\u001b[A\n",
      "Epoch 19: 100%|██████████████████████████| 1/1 [00:00<00:00, 34.26it/s, v_num=3, train/loss=0.763, train/loss_rec=0.763]            \u001b[A"
     ]
    },
    {
     "name": "stderr",
     "output_type": "stream",
     "text": [
      "Metric val/loss/dataloader_idx_0 improved by 0.007 >= min_delta = 0.0. New best score: 5.414\n"
     ]
    },
    {
     "name": "stdout",
     "output_type": "stream",
     "text": [
      "Epoch 20: 100%|█████████████████████████| 1/1 [00:00<00:00, 132.76it/s, v_num=3, train/loss=0.763, train/loss_rec=0.763]\n",
      "Validation: |                                                                                                 | 0/? [00:00<?, ?it/s]\u001b[A\n",
      "Validation:   0%|                                                                                             | 0/1 [00:00<?, ?it/s]\u001b[A\n",
      "Validation DataLoader 0:   0%|                                                                                | 0/1 [00:00<?, ?it/s]\u001b[A\n",
      "Validation DataLoader 0: 100%|███████████████████████████████████████████████████████████████████████| 1/1 [00:00<00:00, 114.01it/s]\u001b[A\n",
      "Validation DataLoader 0:   0%|                                                                                | 0/1 [00:00<?, ?it/s]\u001b[A\n",
      "Validation DataLoader 1:   0%|                                                                                | 0/1 [00:00<?, ?it/s]\u001b[A\n",
      "Validation DataLoader 1: 100%|███████████████████████████████████████████████████████████████████████| 1/1 [00:00<00:00, 128.47it/s]\u001b[A\n",
      "Epoch 20: 100%|██████████████████████████| 1/1 [00:00<00:00, 34.33it/s, v_num=3, train/loss=0.763, train/loss_rec=0.763]            \u001b[A"
     ]
    },
    {
     "name": "stderr",
     "output_type": "stream",
     "text": [
      "Metric val/loss/dataloader_idx_0 improved by 0.007 >= min_delta = 0.0. New best score: 5.407\n"
     ]
    },
    {
     "name": "stdout",
     "output_type": "stream",
     "text": [
      "Epoch 21: 100%|█████████████████████████| 1/1 [00:00<00:00, 131.77it/s, v_num=3, train/loss=0.763, train/loss_rec=0.763]\n",
      "Validation: |                                                                                                 | 0/? [00:00<?, ?it/s]\u001b[A\n",
      "Validation:   0%|                                                                                             | 0/1 [00:00<?, ?it/s]\u001b[A\n",
      "Validation DataLoader 0:   0%|                                                                                | 0/1 [00:00<?, ?it/s]\u001b[A\n",
      "Validation DataLoader 0: 100%|███████████████████████████████████████████████████████████████████████| 1/1 [00:00<00:00, 113.35it/s]\u001b[A\n",
      "Validation DataLoader 0:   0%|                                                                                | 0/1 [00:00<?, ?it/s]\u001b[A\n",
      "Validation DataLoader 1:   0%|                                                                                | 0/1 [00:00<?, ?it/s]\u001b[A\n",
      "Validation DataLoader 1: 100%|███████████████████████████████████████████████████████████████████████| 1/1 [00:00<00:00, 127.57it/s]\u001b[A\n",
      "Epoch 21: 100%|██████████████████████████| 1/1 [00:00<00:00, 34.14it/s, v_num=3, train/loss=0.763, train/loss_rec=0.763]            \u001b[A"
     ]
    },
    {
     "name": "stderr",
     "output_type": "stream",
     "text": [
      "Metric val/loss/dataloader_idx_0 improved by 0.008 >= min_delta = 0.0. New best score: 5.399\n"
     ]
    },
    {
     "name": "stdout",
     "output_type": "stream",
     "text": [
      "Epoch 22: 100%|█████████████████████████| 1/1 [00:00<00:00, 136.91it/s, v_num=3, train/loss=0.763, train/loss_rec=0.763]\n",
      "Validation: |                                                                                                 | 0/? [00:00<?, ?it/s]\u001b[A\n",
      "Validation:   0%|                                                                                             | 0/1 [00:00<?, ?it/s]\u001b[A\n",
      "Validation DataLoader 0:   0%|                                                                                | 0/1 [00:00<?, ?it/s]\u001b[A\n",
      "Validation DataLoader 0: 100%|███████████████████████████████████████████████████████████████████████| 1/1 [00:00<00:00, 113.82it/s]\u001b[A\n",
      "Validation DataLoader 0:   0%|                                                                                | 0/1 [00:00<?, ?it/s]\u001b[A\n",
      "Validation DataLoader 1:   0%|                                                                                | 0/1 [00:00<?, ?it/s]\u001b[A\n",
      "Validation DataLoader 1: 100%|███████████████████████████████████████████████████████████████████████| 1/1 [00:00<00:00, 125.97it/s]\u001b[A\n",
      "Epoch 22: 100%|██████████████████████████| 1/1 [00:00<00:00, 34.31it/s, v_num=3, train/loss=0.763, train/loss_rec=0.763]            \u001b[A"
     ]
    },
    {
     "name": "stderr",
     "output_type": "stream",
     "text": [
      "Metric val/loss/dataloader_idx_0 improved by 0.008 >= min_delta = 0.0. New best score: 5.391\n"
     ]
    },
    {
     "name": "stdout",
     "output_type": "stream",
     "text": [
      "Epoch 23: 100%|█████████████████████████| 1/1 [00:00<00:00, 138.16it/s, v_num=3, train/loss=0.763, train/loss_rec=0.763]\n",
      "Validation: |                                                                                                 | 0/? [00:00<?, ?it/s]\u001b[A\n",
      "Validation:   0%|                                                                                             | 0/1 [00:00<?, ?it/s]\u001b[A\n",
      "Validation DataLoader 0:   0%|                                                                                | 0/1 [00:00<?, ?it/s]\u001b[A\n",
      "Validation DataLoader 0: 100%|███████████████████████████████████████████████████████████████████████| 1/1 [00:00<00:00, 113.83it/s]\u001b[A\n",
      "Validation DataLoader 0:   0%|                                                                                | 0/1 [00:00<?, ?it/s]\u001b[A\n",
      "Validation DataLoader 1:   0%|                                                                                | 0/1 [00:00<?, ?it/s]\u001b[A\n",
      "Validation DataLoader 1: 100%|███████████████████████████████████████████████████████████████████████| 1/1 [00:00<00:00, 126.97it/s]\u001b[A\n",
      "Epoch 23: 100%|██████████████████████████| 1/1 [00:00<00:00, 34.42it/s, v_num=3, train/loss=0.763, train/loss_rec=0.763]            \u001b[A"
     ]
    },
    {
     "name": "stderr",
     "output_type": "stream",
     "text": [
      "Metric val/loss/dataloader_idx_0 improved by 0.008 >= min_delta = 0.0. New best score: 5.384\n"
     ]
    },
    {
     "name": "stdout",
     "output_type": "stream",
     "text": [
      "Epoch 24: 100%|█████████████████████████| 1/1 [00:00<00:00, 130.70it/s, v_num=3, train/loss=0.763, train/loss_rec=0.763]\n",
      "Validation: |                                                                                                 | 0/? [00:00<?, ?it/s]\u001b[A\n",
      "Validation:   0%|                                                                                             | 0/1 [00:00<?, ?it/s]\u001b[A\n",
      "Validation DataLoader 0:   0%|                                                                                | 0/1 [00:00<?, ?it/s]\u001b[A\n",
      "Validation DataLoader 0: 100%|███████████████████████████████████████████████████████████████████████| 1/1 [00:00<00:00, 113.07it/s]\u001b[A\n",
      "Validation DataLoader 0:   0%|                                                                                | 0/1 [00:00<?, ?it/s]\u001b[A\n",
      "Validation DataLoader 1:   0%|                                                                                | 0/1 [00:00<?, ?it/s]\u001b[A\n",
      "Validation DataLoader 1: 100%|███████████████████████████████████████████████████████████████████████| 1/1 [00:00<00:00, 126.84it/s]\u001b[A\n",
      "Epoch 24: 100%|██████████████████████████| 1/1 [00:00<00:00, 33.95it/s, v_num=3, train/loss=0.763, train/loss_rec=0.763]            \u001b[A"
     ]
    },
    {
     "name": "stderr",
     "output_type": "stream",
     "text": [
      "Metric val/loss/dataloader_idx_0 improved by 0.008 >= min_delta = 0.0. New best score: 5.376\n"
     ]
    },
    {
     "name": "stdout",
     "output_type": "stream",
     "text": [
      "Epoch 25: 100%|█████████████████████████| 1/1 [00:00<00:00, 135.97it/s, v_num=3, train/loss=0.763, train/loss_rec=0.763]\n",
      "Validation: |                                                                                                 | 0/? [00:00<?, ?it/s]\u001b[A\n",
      "Validation:   0%|                                                                                             | 0/1 [00:00<?, ?it/s]\u001b[A\n",
      "Validation DataLoader 0:   0%|                                                                                | 0/1 [00:00<?, ?it/s]\u001b[A\n",
      "Validation DataLoader 0: 100%|███████████████████████████████████████████████████████████████████████| 1/1 [00:00<00:00, 115.14it/s]\u001b[A\n",
      "Validation DataLoader 0:   0%|                                                                                | 0/1 [00:00<?, ?it/s]\u001b[A\n",
      "Validation DataLoader 1:   0%|                                                                                | 0/1 [00:00<?, ?it/s]\u001b[A\n",
      "Validation DataLoader 1: 100%|███████████████████████████████████████████████████████████████████████| 1/1 [00:00<00:00, 128.73it/s]\u001b[A\n",
      "Epoch 25: 100%|██████████████████████████| 1/1 [00:00<00:00, 34.61it/s, v_num=3, train/loss=0.763, train/loss_rec=0.763]            \u001b[A"
     ]
    },
    {
     "name": "stderr",
     "output_type": "stream",
     "text": [
      "Metric val/loss/dataloader_idx_0 improved by 0.008 >= min_delta = 0.0. New best score: 5.368\n"
     ]
    },
    {
     "name": "stdout",
     "output_type": "stream",
     "text": [
      "Epoch 26: 100%|█████████████████████████| 1/1 [00:00<00:00, 130.98it/s, v_num=3, train/loss=0.763, train/loss_rec=0.763]\n",
      "Validation: |                                                                                                 | 0/? [00:00<?, ?it/s]\u001b[A\n",
      "Validation:   0%|                                                                                             | 0/1 [00:00<?, ?it/s]\u001b[A\n",
      "Validation DataLoader 0:   0%|                                                                                | 0/1 [00:00<?, ?it/s]\u001b[A\n",
      "Validation DataLoader 0: 100%|███████████████████████████████████████████████████████████████████████| 1/1 [00:00<00:00, 113.79it/s]\u001b[A\n",
      "Validation DataLoader 0:   0%|                                                                                | 0/1 [00:00<?, ?it/s]\u001b[A\n",
      "Validation DataLoader 1:   0%|                                                                                | 0/1 [00:00<?, ?it/s]\u001b[A\n",
      "Validation DataLoader 1: 100%|███████████████████████████████████████████████████████████████████████| 1/1 [00:00<00:00, 127.49it/s]\u001b[A\n",
      "Epoch 26: 100%|██████████████████████████| 1/1 [00:00<00:00, 33.97it/s, v_num=3, train/loss=0.763, train/loss_rec=0.763]            \u001b[A"
     ]
    },
    {
     "name": "stderr",
     "output_type": "stream",
     "text": [
      "Metric val/loss/dataloader_idx_0 improved by 0.008 >= min_delta = 0.0. New best score: 5.360\n"
     ]
    },
    {
     "name": "stdout",
     "output_type": "stream",
     "text": [
      "Epoch 27: 100%|█████████████████████████| 1/1 [00:00<00:00, 132.66it/s, v_num=3, train/loss=0.763, train/loss_rec=0.763]\n",
      "Validation: |                                                                                                 | 0/? [00:00<?, ?it/s]\u001b[A\n",
      "Validation:   0%|                                                                                             | 0/1 [00:00<?, ?it/s]\u001b[A\n",
      "Validation DataLoader 0:   0%|                                                                                | 0/1 [00:00<?, ?it/s]\u001b[A\n",
      "Validation DataLoader 0: 100%|███████████████████████████████████████████████████████████████████████| 1/1 [00:00<00:00, 113.34it/s]\u001b[A\n",
      "Validation DataLoader 0:   0%|                                                                                | 0/1 [00:00<?, ?it/s]\u001b[A\n",
      "Validation DataLoader 1:   0%|                                                                                | 0/1 [00:00<?, ?it/s]\u001b[A\n",
      "Validation DataLoader 1: 100%|███████████████████████████████████████████████████████████████████████| 1/1 [00:00<00:00, 126.81it/s]\u001b[A\n",
      "Epoch 27: 100%|██████████████████████████| 1/1 [00:00<00:00, 33.98it/s, v_num=3, train/loss=0.763, train/loss_rec=0.763]            \u001b[A"
     ]
    },
    {
     "name": "stderr",
     "output_type": "stream",
     "text": [
      "Metric val/loss/dataloader_idx_0 improved by 0.008 >= min_delta = 0.0. New best score: 5.353\n"
     ]
    },
    {
     "name": "stdout",
     "output_type": "stream",
     "text": [
      "Epoch 28: 100%|█████████████████████████| 1/1 [00:00<00:00, 133.16it/s, v_num=3, train/loss=0.763, train/loss_rec=0.763]\n",
      "Validation: |                                                                                                 | 0/? [00:00<?, ?it/s]\u001b[A\n",
      "Validation:   0%|                                                                                             | 0/1 [00:00<?, ?it/s]\u001b[A\n",
      "Validation DataLoader 0:   0%|                                                                                | 0/1 [00:00<?, ?it/s]\u001b[A\n",
      "Validation DataLoader 0: 100%|███████████████████████████████████████████████████████████████████████| 1/1 [00:00<00:00, 114.76it/s]\u001b[A\n",
      "Validation DataLoader 0:   0%|                                                                                | 0/1 [00:00<?, ?it/s]\u001b[A\n",
      "Validation DataLoader 1:   0%|                                                                                | 0/1 [00:00<?, ?it/s]\u001b[A\n",
      "Validation DataLoader 1: 100%|███████████████████████████████████████████████████████████████████████| 1/1 [00:00<00:00, 127.89it/s]\u001b[A\n",
      "Epoch 28: 100%|██████████████████████████| 1/1 [00:00<00:00, 34.36it/s, v_num=3, train/loss=0.763, train/loss_rec=0.763]            \u001b[A"
     ]
    },
    {
     "name": "stderr",
     "output_type": "stream",
     "text": [
      "Metric val/loss/dataloader_idx_0 improved by 0.008 >= min_delta = 0.0. New best score: 5.344\n"
     ]
    },
    {
     "name": "stdout",
     "output_type": "stream",
     "text": [
      "Epoch 29: 100%|█████████████████████████| 1/1 [00:00<00:00, 136.40it/s, v_num=3, train/loss=0.763, train/loss_rec=0.763]\n",
      "Validation: |                                                                                                 | 0/? [00:00<?, ?it/s]\u001b[A\n",
      "Validation:   0%|                                                                                             | 0/1 [00:00<?, ?it/s]\u001b[A\n",
      "Validation DataLoader 0:   0%|                                                                                | 0/1 [00:00<?, ?it/s]\u001b[A\n",
      "Validation DataLoader 0: 100%|███████████████████████████████████████████████████████████████████████| 1/1 [00:00<00:00, 115.32it/s]\u001b[A\n",
      "Validation DataLoader 0:   0%|                                                                                | 0/1 [00:00<?, ?it/s]\u001b[A\n",
      "Validation DataLoader 1:   0%|                                                                                | 0/1 [00:00<?, ?it/s]\u001b[A\n",
      "Validation DataLoader 1: 100%|███████████████████████████████████████████████████████████████████████| 1/1 [00:00<00:00, 127.93it/s]\u001b[A\n",
      "Epoch 29: 100%|██████████████████████████| 1/1 [00:00<00:00, 34.66it/s, v_num=3, train/loss=0.763, train/loss_rec=0.763]            \u001b[A"
     ]
    },
    {
     "name": "stderr",
     "output_type": "stream",
     "text": [
      "Metric val/loss/dataloader_idx_0 improved by 0.008 >= min_delta = 0.0. New best score: 5.336\n"
     ]
    },
    {
     "name": "stdout",
     "output_type": "stream",
     "text": [
      "Epoch 30: 100%|█████████████████████████| 1/1 [00:00<00:00, 136.91it/s, v_num=3, train/loss=0.762, train/loss_rec=0.762]\n",
      "Validation: |                                                                                                 | 0/? [00:00<?, ?it/s]\u001b[A\n",
      "Validation:   0%|                                                                                             | 0/1 [00:00<?, ?it/s]\u001b[A\n",
      "Validation DataLoader 0:   0%|                                                                                | 0/1 [00:00<?, ?it/s]\u001b[A\n",
      "Validation DataLoader 0: 100%|███████████████████████████████████████████████████████████████████████| 1/1 [00:00<00:00, 115.28it/s]\u001b[A\n",
      "Validation DataLoader 0:   0%|                                                                                | 0/1 [00:00<?, ?it/s]\u001b[A\n",
      "Validation DataLoader 1:   0%|                                                                                | 0/1 [00:00<?, ?it/s]\u001b[A\n",
      "Validation DataLoader 1: 100%|███████████████████████████████████████████████████████████████████████| 1/1 [00:00<00:00, 128.60it/s]\u001b[A\n",
      "Epoch 30: 100%|██████████████████████████| 1/1 [00:00<00:00, 34.78it/s, v_num=3, train/loss=0.762, train/loss_rec=0.762]            \u001b[A"
     ]
    },
    {
     "name": "stderr",
     "output_type": "stream",
     "text": [
      "Metric val/loss/dataloader_idx_0 improved by 0.008 >= min_delta = 0.0. New best score: 5.328\n"
     ]
    },
    {
     "name": "stdout",
     "output_type": "stream",
     "text": [
      "Epoch 31: 100%|█████████████████████████| 1/1 [00:00<00:00, 138.21it/s, v_num=3, train/loss=0.762, train/loss_rec=0.762]\n",
      "Validation: |                                                                                                 | 0/? [00:00<?, ?it/s]\u001b[A\n",
      "Validation:   0%|                                                                                             | 0/1 [00:00<?, ?it/s]\u001b[A\n",
      "Validation DataLoader 0:   0%|                                                                                | 0/1 [00:00<?, ?it/s]\u001b[A\n",
      "Validation DataLoader 0: 100%|███████████████████████████████████████████████████████████████████████| 1/1 [00:00<00:00, 114.44it/s]\u001b[A\n",
      "Validation DataLoader 0:   0%|                                                                                | 0/1 [00:00<?, ?it/s]\u001b[A\n",
      "Validation DataLoader 1:   0%|                                                                                | 0/1 [00:00<?, ?it/s]\u001b[A\n",
      "Validation DataLoader 1: 100%|███████████████████████████████████████████████████████████████████████| 1/1 [00:00<00:00, 127.08it/s]\u001b[A\n",
      "Epoch 31: 100%|██████████████████████████| 1/1 [00:00<00:00, 34.74it/s, v_num=3, train/loss=0.762, train/loss_rec=0.762]            \u001b[A"
     ]
    },
    {
     "name": "stderr",
     "output_type": "stream",
     "text": [
      "Metric val/loss/dataloader_idx_0 improved by 0.008 >= min_delta = 0.0. New best score: 5.320\n"
     ]
    },
    {
     "name": "stdout",
     "output_type": "stream",
     "text": [
      "Epoch 32: 100%|█████████████████████████| 1/1 [00:00<00:00, 140.81it/s, v_num=3, train/loss=0.762, train/loss_rec=0.762]\n",
      "Validation: |                                                                                                 | 0/? [00:00<?, ?it/s]\u001b[A\n",
      "Validation:   0%|                                                                                             | 0/1 [00:00<?, ?it/s]\u001b[A\n",
      "Validation DataLoader 0:   0%|                                                                                | 0/1 [00:00<?, ?it/s]\u001b[A\n",
      "Validation DataLoader 0: 100%|████████████████████████████████████████████████████████████████████████| 1/1 [00:00<00:00, 75.68it/s]\u001b[A\n",
      "Validation DataLoader 0:   0%|                                                                                | 0/1 [00:00<?, ?it/s]\u001b[A\n",
      "Validation DataLoader 1:   0%|                                                                                | 0/1 [00:00<?, ?it/s]\u001b[A\n",
      "Validation DataLoader 1: 100%|███████████████████████████████████████████████████████████████████████| 1/1 [00:00<00:00, 129.75it/s]\u001b[A\n",
      "Epoch 32: 100%|██████████████████████████| 1/1 [00:00<00:00, 30.00it/s, v_num=3, train/loss=0.762, train/loss_rec=0.762]            \u001b[A"
     ]
    },
    {
     "name": "stderr",
     "output_type": "stream",
     "text": [
      "Metric val/loss/dataloader_idx_0 improved by 0.009 >= min_delta = 0.0. New best score: 5.311\n"
     ]
    },
    {
     "name": "stdout",
     "output_type": "stream",
     "text": [
      "Epoch 33: 100%|█████████████████████████| 1/1 [00:00<00:00, 134.71it/s, v_num=3, train/loss=0.762, train/loss_rec=0.762]\n",
      "Validation: |                                                                                                 | 0/? [00:00<?, ?it/s]\u001b[A\n",
      "Validation:   0%|                                                                                             | 0/1 [00:00<?, ?it/s]\u001b[A\n",
      "Validation DataLoader 0:   0%|                                                                                | 0/1 [00:00<?, ?it/s]\u001b[A\n",
      "Validation DataLoader 0: 100%|███████████████████████████████████████████████████████████████████████| 1/1 [00:00<00:00, 116.47it/s]\u001b[A\n",
      "Validation DataLoader 0:   0%|                                                                                | 0/1 [00:00<?, ?it/s]\u001b[A\n",
      "Validation DataLoader 1:   0%|                                                                                | 0/1 [00:00<?, ?it/s]\u001b[A\n",
      "Validation DataLoader 1: 100%|███████████████████████████████████████████████████████████████████████| 1/1 [00:00<00:00, 128.35it/s]\u001b[A\n",
      "Epoch 33: 100%|██████████████████████████| 1/1 [00:00<00:00, 34.81it/s, v_num=3, train/loss=0.762, train/loss_rec=0.762]            \u001b[A"
     ]
    },
    {
     "name": "stderr",
     "output_type": "stream",
     "text": [
      "Metric val/loss/dataloader_idx_0 improved by 0.009 >= min_delta = 0.0. New best score: 5.302\n"
     ]
    },
    {
     "name": "stdout",
     "output_type": "stream",
     "text": [
      "Epoch 34: 100%|█████████████████████████| 1/1 [00:00<00:00, 131.14it/s, v_num=3, train/loss=0.762, train/loss_rec=0.762]\n",
      "Validation: |                                                                                                 | 0/? [00:00<?, ?it/s]\u001b[A\n",
      "Validation:   0%|                                                                                             | 0/1 [00:00<?, ?it/s]\u001b[A\n",
      "Validation DataLoader 0:   0%|                                                                                | 0/1 [00:00<?, ?it/s]\u001b[A\n",
      "Validation DataLoader 0: 100%|███████████████████████████████████████████████████████████████████████| 1/1 [00:00<00:00, 115.88it/s]\u001b[A\n",
      "Validation DataLoader 0:   0%|                                                                                | 0/1 [00:00<?, ?it/s]\u001b[A\n",
      "Validation DataLoader 1:   0%|                                                                                | 0/1 [00:00<?, ?it/s]\u001b[A\n",
      "Validation DataLoader 1: 100%|███████████████████████████████████████████████████████████████████████| 1/1 [00:00<00:00, 128.36it/s]\u001b[A\n",
      "Epoch 34: 100%|██████████████████████████| 1/1 [00:00<00:00, 34.42it/s, v_num=3, train/loss=0.762, train/loss_rec=0.762]            \u001b[A"
     ]
    },
    {
     "name": "stderr",
     "output_type": "stream",
     "text": [
      "Metric val/loss/dataloader_idx_0 improved by 0.009 >= min_delta = 0.0. New best score: 5.293\n"
     ]
    },
    {
     "name": "stdout",
     "output_type": "stream",
     "text": [
      "Epoch 35: 100%|█████████████████████████| 1/1 [00:00<00:00, 135.46it/s, v_num=3, train/loss=0.762, train/loss_rec=0.762]\n",
      "Validation: |                                                                                                 | 0/? [00:00<?, ?it/s]\u001b[A\n",
      "Validation:   0%|                                                                                             | 0/1 [00:00<?, ?it/s]\u001b[A\n",
      "Validation DataLoader 0:   0%|                                                                                | 0/1 [00:00<?, ?it/s]\u001b[A\n",
      "Validation DataLoader 0: 100%|███████████████████████████████████████████████████████████████████████| 1/1 [00:00<00:00, 116.37it/s]\u001b[A\n",
      "Validation DataLoader 0:   0%|                                                                                | 0/1 [00:00<?, ?it/s]\u001b[A\n",
      "Validation DataLoader 1:   0%|                                                                                | 0/1 [00:00<?, ?it/s]\u001b[A\n",
      "Validation DataLoader 1: 100%|███████████████████████████████████████████████████████████████████████| 1/1 [00:00<00:00, 126.86it/s]\u001b[A\n",
      "Epoch 35: 100%|██████████████████████████| 1/1 [00:00<00:00, 34.55it/s, v_num=3, train/loss=0.762, train/loss_rec=0.762]            \u001b[A"
     ]
    },
    {
     "name": "stderr",
     "output_type": "stream",
     "text": [
      "Metric val/loss/dataloader_idx_0 improved by 0.009 >= min_delta = 0.0. New best score: 5.284\n"
     ]
    },
    {
     "name": "stdout",
     "output_type": "stream",
     "text": [
      "Epoch 36: 100%|█████████████████████████| 1/1 [00:00<00:00, 132.96it/s, v_num=3, train/loss=0.762, train/loss_rec=0.762]\n",
      "Validation: |                                                                                                 | 0/? [00:00<?, ?it/s]\u001b[A\n",
      "Validation:   0%|                                                                                             | 0/1 [00:00<?, ?it/s]\u001b[A\n",
      "Validation DataLoader 0:   0%|                                                                                | 0/1 [00:00<?, ?it/s]\u001b[A\n",
      "Validation DataLoader 0: 100%|███████████████████████████████████████████████████████████████████████| 1/1 [00:00<00:00, 116.77it/s]\u001b[A\n",
      "Validation DataLoader 0:   0%|                                                                                | 0/1 [00:00<?, ?it/s]\u001b[A\n",
      "Validation DataLoader 1:   0%|                                                                                | 0/1 [00:00<?, ?it/s]\u001b[A\n",
      "Validation DataLoader 1: 100%|███████████████████████████████████████████████████████████████████████| 1/1 [00:00<00:00, 129.14it/s]\u001b[A\n",
      "Epoch 36: 100%|██████████████████████████| 1/1 [00:00<00:00, 34.68it/s, v_num=3, train/loss=0.762, train/loss_rec=0.762]            \u001b[A"
     ]
    },
    {
     "name": "stderr",
     "output_type": "stream",
     "text": [
      "Metric val/loss/dataloader_idx_0 improved by 0.009 >= min_delta = 0.0. New best score: 5.275\n"
     ]
    },
    {
     "name": "stdout",
     "output_type": "stream",
     "text": [
      "Epoch 37: 100%|█████████████████████████| 1/1 [00:00<00:00, 135.34it/s, v_num=3, train/loss=0.762, train/loss_rec=0.762]\n",
      "Validation: |                                                                                                 | 0/? [00:00<?, ?it/s]\u001b[A\n",
      "Validation:   0%|                                                                                             | 0/1 [00:00<?, ?it/s]\u001b[A\n",
      "Validation DataLoader 0:   0%|                                                                                | 0/1 [00:00<?, ?it/s]\u001b[A\n",
      "Validation DataLoader 0: 100%|███████████████████████████████████████████████████████████████████████| 1/1 [00:00<00:00, 115.38it/s]\u001b[A\n",
      "Validation DataLoader 0:   0%|                                                                                | 0/1 [00:00<?, ?it/s]\u001b[A\n",
      "Validation DataLoader 1:   0%|                                                                                | 0/1 [00:00<?, ?it/s]\u001b[A\n",
      "Validation DataLoader 1: 100%|███████████████████████████████████████████████████████████████████████| 1/1 [00:00<00:00, 128.34it/s]\u001b[A\n",
      "Epoch 37: 100%|██████████████████████████| 1/1 [00:00<00:00, 34.63it/s, v_num=3, train/loss=0.762, train/loss_rec=0.762]            \u001b[A"
     ]
    },
    {
     "name": "stderr",
     "output_type": "stream",
     "text": [
      "Metric val/loss/dataloader_idx_0 improved by 0.009 >= min_delta = 0.0. New best score: 5.266\n"
     ]
    },
    {
     "name": "stdout",
     "output_type": "stream",
     "text": [
      "Epoch 38: 100%|█████████████████████████| 1/1 [00:00<00:00, 133.88it/s, v_num=3, train/loss=0.761, train/loss_rec=0.761]\n",
      "Validation: |                                                                                                 | 0/? [00:00<?, ?it/s]\u001b[A\n",
      "Validation:   0%|                                                                                             | 0/1 [00:00<?, ?it/s]\u001b[A\n",
      "Validation DataLoader 0:   0%|                                                                                | 0/1 [00:00<?, ?it/s]\u001b[A\n",
      "Validation DataLoader 0: 100%|███████████████████████████████████████████████████████████████████████| 1/1 [00:00<00:00, 115.39it/s]\u001b[A\n",
      "Validation DataLoader 0:   0%|                                                                                | 0/1 [00:00<?, ?it/s]\u001b[A\n",
      "Validation DataLoader 1:   0%|                                                                                | 0/1 [00:00<?, ?it/s]\u001b[A\n",
      "Validation DataLoader 1: 100%|███████████████████████████████████████████████████████████████████████| 1/1 [00:00<00:00, 129.12it/s]\u001b[A\n",
      "Epoch 38: 100%|██████████████████████████| 1/1 [00:00<00:00, 34.71it/s, v_num=3, train/loss=0.761, train/loss_rec=0.761]            \u001b[A"
     ]
    },
    {
     "name": "stderr",
     "output_type": "stream",
     "text": [
      "Metric val/loss/dataloader_idx_0 improved by 0.009 >= min_delta = 0.0. New best score: 5.257\n"
     ]
    },
    {
     "name": "stdout",
     "output_type": "stream",
     "text": [
      "Epoch 39: 100%|█████████████████████████| 1/1 [00:00<00:00, 135.62it/s, v_num=3, train/loss=0.761, train/loss_rec=0.761]\n",
      "Validation: |                                                                                                 | 0/? [00:00<?, ?it/s]\u001b[A\n",
      "Validation:   0%|                                                                                             | 0/1 [00:00<?, ?it/s]\u001b[A\n",
      "Validation DataLoader 0:   0%|                                                                                | 0/1 [00:00<?, ?it/s]\u001b[A\n",
      "Validation DataLoader 0: 100%|███████████████████████████████████████████████████████████████████████| 1/1 [00:00<00:00, 116.08it/s]\u001b[A\n",
      "Validation DataLoader 0:   0%|                                                                                | 0/1 [00:00<?, ?it/s]\u001b[A\n",
      "Validation DataLoader 1:   0%|                                                                                | 0/1 [00:00<?, ?it/s]\u001b[A\n",
      "Validation DataLoader 1: 100%|███████████████████████████████████████████████████████████████████████| 1/1 [00:00<00:00, 128.37it/s]\u001b[A\n",
      "Epoch 39: 100%|██████████████████████████| 1/1 [00:00<00:00, 34.74it/s, v_num=3, train/loss=0.761, train/loss_rec=0.761]            \u001b[A"
     ]
    },
    {
     "name": "stderr",
     "output_type": "stream",
     "text": [
      "Metric val/loss/dataloader_idx_0 improved by 0.008 >= min_delta = 0.0. New best score: 5.249\n"
     ]
    },
    {
     "name": "stdout",
     "output_type": "stream",
     "text": [
      "Epoch 40: 100%|█████████████████████████| 1/1 [00:00<00:00, 134.83it/s, v_num=3, train/loss=0.761, train/loss_rec=0.761]\n",
      "Validation: |                                                                                                 | 0/? [00:00<?, ?it/s]\u001b[A\n",
      "Validation:   0%|                                                                                             | 0/1 [00:00<?, ?it/s]\u001b[A\n",
      "Validation DataLoader 0:   0%|                                                                                | 0/1 [00:00<?, ?it/s]\u001b[A\n",
      "Validation DataLoader 0: 100%|███████████████████████████████████████████████████████████████████████| 1/1 [00:00<00:00, 114.65it/s]\u001b[A\n",
      "Validation DataLoader 0:   0%|                                                                                | 0/1 [00:00<?, ?it/s]\u001b[A\n",
      "Validation DataLoader 1:   0%|                                                                                | 0/1 [00:00<?, ?it/s]\u001b[A\n",
      "Validation DataLoader 1: 100%|███████████████████████████████████████████████████████████████████████| 1/1 [00:00<00:00, 128.41it/s]\u001b[A\n",
      "Epoch 40: 100%|██████████████████████████| 1/1 [00:00<00:00, 34.56it/s, v_num=3, train/loss=0.761, train/loss_rec=0.761]            \u001b[A"
     ]
    },
    {
     "name": "stderr",
     "output_type": "stream",
     "text": [
      "Metric val/loss/dataloader_idx_0 improved by 0.007 >= min_delta = 0.0. New best score: 5.242\n"
     ]
    },
    {
     "name": "stdout",
     "output_type": "stream",
     "text": [
      "Epoch 41: 100%|█████████████████████████| 1/1 [00:00<00:00, 132.27it/s, v_num=3, train/loss=0.761, train/loss_rec=0.761]\n",
      "Validation: |                                                                                                 | 0/? [00:00<?, ?it/s]\u001b[A\n",
      "Validation:   0%|                                                                                             | 0/1 [00:00<?, ?it/s]\u001b[A\n",
      "Validation DataLoader 0:   0%|                                                                                | 0/1 [00:00<?, ?it/s]\u001b[A\n",
      "Validation DataLoader 0: 100%|███████████████████████████████████████████████████████████████████████| 1/1 [00:00<00:00, 114.15it/s]\u001b[A\n",
      "Validation DataLoader 0:   0%|                                                                                | 0/1 [00:00<?, ?it/s]\u001b[A\n",
      "Validation DataLoader 1:   0%|                                                                                | 0/1 [00:00<?, ?it/s]\u001b[A\n",
      "Validation DataLoader 1: 100%|███████████████████████████████████████████████████████████████████████| 1/1 [00:00<00:00, 127.42it/s]\u001b[A\n",
      "Epoch 41: 100%|██████████████████████████| 1/1 [00:00<00:00, 34.20it/s, v_num=3, train/loss=0.761, train/loss_rec=0.761]            \u001b[A"
     ]
    },
    {
     "name": "stderr",
     "output_type": "stream",
     "text": [
      "Metric val/loss/dataloader_idx_0 improved by 0.007 >= min_delta = 0.0. New best score: 5.234\n"
     ]
    },
    {
     "name": "stdout",
     "output_type": "stream",
     "text": [
      "Epoch 42: 100%|█████████████████████████| 1/1 [00:00<00:00, 139.45it/s, v_num=3, train/loss=0.761, train/loss_rec=0.761]\n",
      "Validation: |                                                                                                 | 0/? [00:00<?, ?it/s]\u001b[A\n",
      "Validation:   0%|                                                                                             | 0/1 [00:00<?, ?it/s]\u001b[A\n",
      "Validation DataLoader 0:   0%|                                                                                | 0/1 [00:00<?, ?it/s]\u001b[A\n",
      "Validation DataLoader 0: 100%|███████████████████████████████████████████████████████████████████████| 1/1 [00:00<00:00, 115.31it/s]\u001b[A\n",
      "Validation DataLoader 0:   0%|                                                                                | 0/1 [00:00<?, ?it/s]\u001b[A\n",
      "Validation DataLoader 1:   0%|                                                                                | 0/1 [00:00<?, ?it/s]\u001b[A\n",
      "Validation DataLoader 1: 100%|███████████████████████████████████████████████████████████████████████| 1/1 [00:00<00:00, 126.34it/s]\u001b[A\n",
      "Epoch 42: 100%|██████████████████████████| 1/1 [00:00<00:00, 34.88it/s, v_num=3, train/loss=0.761, train/loss_rec=0.761]            \u001b[A"
     ]
    },
    {
     "name": "stderr",
     "output_type": "stream",
     "text": [
      "Metric val/loss/dataloader_idx_0 improved by 0.007 >= min_delta = 0.0. New best score: 5.228\n"
     ]
    },
    {
     "name": "stdout",
     "output_type": "stream",
     "text": [
      "Epoch 43: 100%|█████████████████████████| 1/1 [00:00<00:00, 134.37it/s, v_num=3, train/loss=0.760, train/loss_rec=0.760]\n",
      "Validation: |                                                                                                 | 0/? [00:00<?, ?it/s]\u001b[A\n",
      "Validation:   0%|                                                                                             | 0/1 [00:00<?, ?it/s]\u001b[A\n",
      "Validation DataLoader 0:   0%|                                                                                | 0/1 [00:00<?, ?it/s]\u001b[A\n",
      "Validation DataLoader 0: 100%|███████████████████████████████████████████████████████████████████████| 1/1 [00:00<00:00, 116.20it/s]\u001b[A\n",
      "Validation DataLoader 0:   0%|                                                                                | 0/1 [00:00<?, ?it/s]\u001b[A\n",
      "Validation DataLoader 1:   0%|                                                                                | 0/1 [00:00<?, ?it/s]\u001b[A\n",
      "Validation DataLoader 1: 100%|███████████████████████████████████████████████████████████████████████| 1/1 [00:00<00:00, 128.55it/s]\u001b[A\n",
      "Epoch 43: 100%|██████████████████████████| 1/1 [00:00<00:00, 34.84it/s, v_num=3, train/loss=0.760, train/loss_rec=0.760]            \u001b[A"
     ]
    },
    {
     "name": "stderr",
     "output_type": "stream",
     "text": [
      "Metric val/loss/dataloader_idx_0 improved by 0.004 >= min_delta = 0.0. New best score: 5.224\n"
     ]
    },
    {
     "name": "stdout",
     "output_type": "stream",
     "text": [
      "Epoch 44: 100%|█████████████████████████| 1/1 [00:00<00:00, 137.47it/s, v_num=3, train/loss=0.760, train/loss_rec=0.760]\n",
      "Validation: |                                                                                                 | 0/? [00:00<?, ?it/s]\u001b[A\n",
      "Validation:   0%|                                                                                             | 0/1 [00:00<?, ?it/s]\u001b[A\n",
      "Validation DataLoader 0:   0%|                                                                                | 0/1 [00:00<?, ?it/s]\u001b[A\n",
      "Validation DataLoader 0: 100%|███████████████████████████████████████████████████████████████████████| 1/1 [00:00<00:00, 115.10it/s]\u001b[A\n",
      "Validation DataLoader 0:   0%|                                                                                | 0/1 [00:00<?, ?it/s]\u001b[A\n",
      "Validation DataLoader 1:   0%|                                                                                | 0/1 [00:00<?, ?it/s]\u001b[A\n",
      "Validation DataLoader 1: 100%|███████████████████████████████████████████████████████████████████████| 1/1 [00:00<00:00, 127.07it/s]\u001b[A\n",
      "Epoch 44: 100%|██████████████████████████| 1/1 [00:00<00:00, 34.76it/s, v_num=3, train/loss=0.760, train/loss_rec=0.760]            \u001b[A"
     ]
    },
    {
     "name": "stderr",
     "output_type": "stream",
     "text": [
      "Metric val/loss/dataloader_idx_0 improved by 0.001 >= min_delta = 0.0. New best score: 5.222\n"
     ]
    },
    {
     "name": "stdout",
     "output_type": "stream",
     "text": [
      "Epoch 45: 100%|█████████████████████████| 1/1 [00:00<00:00, 138.43it/s, v_num=3, train/loss=0.760, train/loss_rec=0.760]\n",
      "Validation: |                                                                                                 | 0/? [00:00<?, ?it/s]\u001b[A\n",
      "Validation:   0%|                                                                                             | 0/1 [00:00<?, ?it/s]\u001b[A\n",
      "Validation DataLoader 0:   0%|                                                                                | 0/1 [00:00<?, ?it/s]\u001b[A\n",
      "Validation DataLoader 0: 100%|███████████████████████████████████████████████████████████████████████| 1/1 [00:00<00:00, 114.23it/s]\u001b[A\n",
      "Validation DataLoader 0:   0%|                                                                                | 0/1 [00:00<?, ?it/s]\u001b[A\n",
      "Validation DataLoader 1:   0%|                                                                                | 0/1 [00:00<?, ?it/s]\u001b[A\n",
      "Validation DataLoader 1: 100%|███████████████████████████████████████████████████████████████████████| 1/1 [00:00<00:00, 128.34it/s]\u001b[A\n",
      "Epoch 46: 100%|█████████████████████████| 1/1 [00:00<00:00, 136.25it/s, v_num=3, train/loss=0.760, train/loss_rec=0.760]            \u001b[A\n",
      "Validation: |                                                                                                 | 0/? [00:00<?, ?it/s]\u001b[A\n",
      "Validation:   0%|                                                                                             | 0/1 [00:00<?, ?it/s]\u001b[A\n",
      "Validation DataLoader 0:   0%|                                                                                | 0/1 [00:00<?, ?it/s]\u001b[A\n",
      "Validation DataLoader 0: 100%|███████████████████████████████████████████████████████████████████████| 1/1 [00:00<00:00, 115.86it/s]\u001b[A\n",
      "Validation DataLoader 0:   0%|                                                                                | 0/1 [00:00<?, ?it/s]\u001b[A\n",
      "Validation DataLoader 1:   0%|                                                                                | 0/1 [00:00<?, ?it/s]\u001b[A\n",
      "Validation DataLoader 1: 100%|███████████████████████████████████████████████████████████████████████| 1/1 [00:00<00:00, 127.35it/s]\u001b[A\n",
      "Epoch 47: 100%|█████████████████████████| 1/1 [00:00<00:00, 136.57it/s, v_num=3, train/loss=0.759, train/loss_rec=0.759]            \u001b[A\n",
      "Validation: |                                                                                                 | 0/? [00:00<?, ?it/s]\u001b[A\n",
      "Validation:   0%|                                                                                             | 0/1 [00:00<?, ?it/s]\u001b[A\n",
      "Validation DataLoader 0:   0%|                                                                                | 0/1 [00:00<?, ?it/s]\u001b[A\n",
      "Validation DataLoader 0: 100%|███████████████████████████████████████████████████████████████████████| 1/1 [00:00<00:00, 115.76it/s]\u001b[A\n",
      "Validation DataLoader 0:   0%|                                                                                | 0/1 [00:00<?, ?it/s]\u001b[A\n",
      "Validation DataLoader 1:   0%|                                                                                | 0/1 [00:00<?, ?it/s]\u001b[A\n",
      "Validation DataLoader 1: 100%|███████████████████████████████████████████████████████████████████████| 1/1 [00:00<00:00, 128.68it/s]\u001b[A\n",
      "Epoch 48: 100%|█████████████████████████| 1/1 [00:00<00:00, 138.25it/s, v_num=3, train/loss=0.759, train/loss_rec=0.759]            \u001b[A\n",
      "Validation: |                                                                                                 | 0/? [00:00<?, ?it/s]\u001b[A\n",
      "Validation:   0%|                                                                                             | 0/1 [00:00<?, ?it/s]\u001b[A\n",
      "Validation DataLoader 0:   0%|                                                                                | 0/1 [00:00<?, ?it/s]\u001b[A\n",
      "Validation DataLoader 0: 100%|███████████████████████████████████████████████████████████████████████| 1/1 [00:00<00:00, 115.77it/s]\u001b[A\n",
      "Validation DataLoader 0:   0%|                                                                                | 0/1 [00:00<?, ?it/s]\u001b[A\n",
      "Validation DataLoader 1:   0%|                                                                                | 0/1 [00:00<?, ?it/s]\u001b[A\n",
      "Validation DataLoader 1: 100%|███████████████████████████████████████████████████████████████████████| 1/1 [00:00<00:00, 128.44it/s]\u001b[A\n",
      "Epoch 49: 100%|█████████████████████████| 1/1 [00:00<00:00, 142.76it/s, v_num=3, train/loss=0.759, train/loss_rec=0.759]            \u001b[A\n",
      "Validation: |                                                                                                 | 0/? [00:00<?, ?it/s]\u001b[A\n",
      "Validation:   0%|                                                                                             | 0/1 [00:00<?, ?it/s]\u001b[A\n",
      "Validation DataLoader 0:   0%|                                                                                | 0/1 [00:00<?, ?it/s]\u001b[A\n",
      "Validation DataLoader 0: 100%|███████████████████████████████████████████████████████████████████████| 1/1 [00:00<00:00, 114.84it/s]\u001b[A\n",
      "Validation DataLoader 0:   0%|                                                                                | 0/1 [00:00<?, ?it/s]\u001b[A\n",
      "Validation DataLoader 1:   0%|                                                                                | 0/1 [00:00<?, ?it/s]\u001b[A\n",
      "Validation DataLoader 1: 100%|███████████████████████████████████████████████████████████████████████| 1/1 [00:00<00:00, 129.20it/s]\u001b[A\n",
      "Epoch 50: 100%|█████████████████████████| 1/1 [00:00<00:00, 131.95it/s, v_num=3, train/loss=0.758, train/loss_rec=0.758]            \u001b[A\n",
      "Validation: |                                                                                                 | 0/? [00:00<?, ?it/s]\u001b[A\n",
      "Validation:   0%|                                                                                             | 0/1 [00:00<?, ?it/s]\u001b[A\n",
      "Validation DataLoader 0:   0%|                                                                                | 0/1 [00:00<?, ?it/s]\u001b[A\n",
      "Validation DataLoader 0: 100%|███████████████████████████████████████████████████████████████████████| 1/1 [00:00<00:00, 113.69it/s]\u001b[A\n",
      "Validation DataLoader 0:   0%|                                                                                | 0/1 [00:00<?, ?it/s]\u001b[A\n",
      "Validation DataLoader 1:   0%|                                                                                | 0/1 [00:00<?, ?it/s]\u001b[A\n",
      "Validation DataLoader 1: 100%|███████████████████████████████████████████████████████████████████████| 1/1 [00:00<00:00, 127.37it/s]\u001b[A\n",
      "Epoch 51: 100%|█████████████████████████| 1/1 [00:00<00:00, 137.40it/s, v_num=3, train/loss=0.758, train/loss_rec=0.758]            \u001b[A\n",
      "Validation: |                                                                                                 | 0/? [00:00<?, ?it/s]\u001b[A\n",
      "Validation:   0%|                                                                                             | 0/1 [00:00<?, ?it/s]\u001b[A\n",
      "Validation DataLoader 0:   0%|                                                                                | 0/1 [00:00<?, ?it/s]\u001b[A\n",
      "Validation DataLoader 0: 100%|███████████████████████████████████████████████████████████████████████| 1/1 [00:00<00:00, 114.63it/s]\u001b[A\n",
      "Validation DataLoader 0:   0%|                                                                                | 0/1 [00:00<?, ?it/s]\u001b[A\n",
      "Validation DataLoader 1:   0%|                                                                                | 0/1 [00:00<?, ?it/s]\u001b[A\n",
      "Validation DataLoader 1: 100%|███████████████████████████████████████████████████████████████████████| 1/1 [00:00<00:00, 129.98it/s]\u001b[A\n",
      "Epoch 52: 100%|█████████████████████████| 1/1 [00:00<00:00, 139.46it/s, v_num=3, train/loss=0.758, train/loss_rec=0.758]            \u001b[A\n",
      "Validation: |                                                                                                 | 0/? [00:00<?, ?it/s]\u001b[A\n",
      "Validation:   0%|                                                                                             | 0/1 [00:00<?, ?it/s]\u001b[A\n",
      "Validation DataLoader 0:   0%|                                                                                | 0/1 [00:00<?, ?it/s]\u001b[A\n",
      "Validation DataLoader 0: 100%|███████████████████████████████████████████████████████████████████████| 1/1 [00:00<00:00, 116.66it/s]\u001b[A\n",
      "Validation DataLoader 0:   0%|                                                                                | 0/1 [00:00<?, ?it/s]\u001b[A\n",
      "Validation DataLoader 1:   0%|                                                                                | 0/1 [00:00<?, ?it/s]\u001b[A\n",
      "Validation DataLoader 1: 100%|███████████████████████████████████████████████████████████████████████| 1/1 [00:00<00:00, 130.63it/s]\u001b[A\n",
      "Epoch 53: 100%|█████████████████████████| 1/1 [00:00<00:00, 141.25it/s, v_num=3, train/loss=0.757, train/loss_rec=0.757]            \u001b[A\n",
      "Validation: |                                                                                                 | 0/? [00:00<?, ?it/s]\u001b[A\n",
      "Validation:   0%|                                                                                             | 0/1 [00:00<?, ?it/s]\u001b[A\n",
      "Validation DataLoader 0:   0%|                                                                                | 0/1 [00:00<?, ?it/s]\u001b[A\n",
      "Validation DataLoader 0: 100%|███████████████████████████████████████████████████████████████████████| 1/1 [00:00<00:00, 101.98it/s]\u001b[A\n",
      "Validation DataLoader 0:   0%|                                                                                | 0/1 [00:00<?, ?it/s]\u001b[A\n",
      "Validation DataLoader 1:   0%|                                                                                | 0/1 [00:00<?, ?it/s]\u001b[A\n",
      "Validation DataLoader 1: 100%|███████████████████████████████████████████████████████████████████████| 1/1 [00:00<00:00, 115.66it/s]\u001b[A\n",
      "Epoch 54: 100%|█████████████████████████| 1/1 [00:00<00:00, 130.74it/s, v_num=3, train/loss=0.757, train/loss_rec=0.757]            \u001b[A\n",
      "Validation: |                                                                                                 | 0/? [00:00<?, ?it/s]\u001b[A\n",
      "Validation:   0%|                                                                                             | 0/1 [00:00<?, ?it/s]\u001b[A\n",
      "Validation DataLoader 0:   0%|                                                                                | 0/1 [00:00<?, ?it/s]\u001b[A\n",
      "Validation DataLoader 0: 100%|███████████████████████████████████████████████████████████████████████| 1/1 [00:00<00:00, 108.61it/s]\u001b[A\n",
      "Validation DataLoader 0:   0%|                                                                                | 0/1 [00:00<?, ?it/s]\u001b[A\n",
      "Validation DataLoader 1:   0%|                                                                                | 0/1 [00:00<?, ?it/s]\u001b[A\n",
      "Validation DataLoader 1: 100%|████████████████████████████████████████████████████████████████████████| 1/1 [00:00<00:00, 61.21it/s]\u001b[A\n",
      "Epoch 55: 100%|█████████████████████████| 1/1 [00:00<00:00, 143.67it/s, v_num=3, train/loss=0.757, train/loss_rec=0.757]            \u001b[A\n",
      "Validation: |                                                                                                 | 0/? [00:00<?, ?it/s]\u001b[A\n",
      "Validation:   0%|                                                                                             | 0/1 [00:00<?, ?it/s]\u001b[A\n",
      "Validation DataLoader 0:   0%|                                                                                | 0/1 [00:00<?, ?it/s]\u001b[A\n",
      "Validation DataLoader 0: 100%|████████████████████████████████████████████████████████████████████████| 1/1 [00:00<00:00, 96.83it/s]\u001b[A\n",
      "Validation DataLoader 0:   0%|                                                                                | 0/1 [00:00<?, ?it/s]\u001b[A\n",
      "Validation DataLoader 1:   0%|                                                                                | 0/1 [00:00<?, ?it/s]\u001b[A\n",
      "Validation DataLoader 1: 100%|███████████████████████████████████████████████████████████████████████| 1/1 [00:00<00:00, 130.07it/s]\u001b[A\n",
      "Epoch 56: 100%|█████████████████████████| 1/1 [00:00<00:00, 145.21it/s, v_num=3, train/loss=0.756, train/loss_rec=0.756]            \u001b[A\n",
      "Validation: |                                                                                                 | 0/? [00:00<?, ?it/s]\u001b[A\n",
      "Validation:   0%|                                                                                             | 0/1 [00:00<?, ?it/s]\u001b[A\n",
      "Validation DataLoader 0:   0%|                                                                                | 0/1 [00:00<?, ?it/s]\u001b[A\n",
      "Validation DataLoader 0: 100%|███████████████████████████████████████████████████████████████████████| 1/1 [00:00<00:00, 117.55it/s]\u001b[A\n",
      "Validation DataLoader 0:   0%|                                                                                | 0/1 [00:00<?, ?it/s]\u001b[A\n",
      "Validation DataLoader 1:   0%|                                                                                | 0/1 [00:00<?, ?it/s]\u001b[A\n",
      "Validation DataLoader 1: 100%|███████████████████████████████████████████████████████████████████████| 1/1 [00:00<00:00, 132.12it/s]\u001b[A\n",
      "Epoch 57: 100%|█████████████████████████| 1/1 [00:00<00:00, 146.94it/s, v_num=3, train/loss=0.755, train/loss_rec=0.755]            \u001b[A\n",
      "Validation: |                                                                                                 | 0/? [00:00<?, ?it/s]\u001b[A\n",
      "Validation:   0%|                                                                                             | 0/1 [00:00<?, ?it/s]\u001b[A\n",
      "Validation DataLoader 0:   0%|                                                                                | 0/1 [00:00<?, ?it/s]\u001b[A\n",
      "Validation DataLoader 0: 100%|███████████████████████████████████████████████████████████████████████| 1/1 [00:00<00:00, 118.38it/s]\u001b[A\n",
      "Validation DataLoader 0:   0%|                                                                                | 0/1 [00:00<?, ?it/s]\u001b[A\n",
      "Validation DataLoader 1:   0%|                                                                                | 0/1 [00:00<?, ?it/s]\u001b[A\n",
      "Validation DataLoader 1: 100%|███████████████████████████████████████████████████████████████████████| 1/1 [00:00<00:00, 129.67it/s]\u001b[A\n",
      "Epoch 58: 100%|█████████████████████████| 1/1 [00:00<00:00, 148.59it/s, v_num=3, train/loss=0.755, train/loss_rec=0.755]            \u001b[A\n",
      "Validation: |                                                                                                 | 0/? [00:00<?, ?it/s]\u001b[A\n",
      "Validation:   0%|                                                                                             | 0/1 [00:00<?, ?it/s]\u001b[A\n",
      "Validation DataLoader 0:   0%|                                                                                | 0/1 [00:00<?, ?it/s]\u001b[A\n",
      "Validation DataLoader 0: 100%|███████████████████████████████████████████████████████████████████████| 1/1 [00:00<00:00, 117.66it/s]\u001b[A\n",
      "Validation DataLoader 0:   0%|                                                                                | 0/1 [00:00<?, ?it/s]\u001b[A\n",
      "Validation DataLoader 1:   0%|                                                                                | 0/1 [00:00<?, ?it/s]\u001b[A\n",
      "Validation DataLoader 1: 100%|███████████████████████████████████████████████████████████████████████| 1/1 [00:00<00:00, 131.98it/s]\u001b[A\n",
      "Epoch 59: 100%|█████████████████████████| 1/1 [00:00<00:00, 149.55it/s, v_num=3, train/loss=0.755, train/loss_rec=0.755]            \u001b[A\n",
      "Validation: |                                                                                                 | 0/? [00:00<?, ?it/s]\u001b[A\n",
      "Validation:   0%|                                                                                             | 0/1 [00:00<?, ?it/s]\u001b[A\n",
      "Validation DataLoader 0:   0%|                                                                                | 0/1 [00:00<?, ?it/s]\u001b[A\n",
      "Validation DataLoader 0: 100%|███████████████████████████████████████████████████████████████████████| 1/1 [00:00<00:00, 116.94it/s]\u001b[A\n",
      "Validation DataLoader 0:   0%|                                                                                | 0/1 [00:00<?, ?it/s]\u001b[A\n",
      "Validation DataLoader 1:   0%|                                                                                | 0/1 [00:00<?, ?it/s]\u001b[A\n",
      "Validation DataLoader 1: 100%|███████████████████████████████████████████████████████████████████████| 1/1 [00:00<00:00, 132.07it/s]\u001b[A\n",
      "Epoch 60: 100%|█████████████████████████| 1/1 [00:00<00:00, 141.05it/s, v_num=3, train/loss=0.754, train/loss_rec=0.754]            \u001b[A\n",
      "Validation: |                                                                                                 | 0/? [00:00<?, ?it/s]\u001b[A\n",
      "Validation:   0%|                                                                                             | 0/1 [00:00<?, ?it/s]\u001b[A\n",
      "Validation DataLoader 0:   0%|                                                                                | 0/1 [00:00<?, ?it/s]\u001b[A\n",
      "Validation DataLoader 0: 100%|███████████████████████████████████████████████████████████████████████| 1/1 [00:00<00:00, 118.00it/s]\u001b[A\n",
      "Validation DataLoader 0:   0%|                                                                                | 0/1 [00:00<?, ?it/s]\u001b[A\n",
      "Validation DataLoader 1:   0%|                                                                                | 0/1 [00:00<?, ?it/s]\u001b[A\n",
      "Validation DataLoader 1: 100%|███████████████████████████████████████████████████████████████████████| 1/1 [00:00<00:00, 131.78it/s]\u001b[A\n",
      "Epoch 61: 100%|█████████████████████████| 1/1 [00:00<00:00, 141.02it/s, v_num=3, train/loss=0.753, train/loss_rec=0.753]            \u001b[A\n",
      "Validation: |                                                                                                 | 0/? [00:00<?, ?it/s]\u001b[A\n",
      "Validation:   0%|                                                                                             | 0/1 [00:00<?, ?it/s]\u001b[A\n",
      "Validation DataLoader 0:   0%|                                                                                | 0/1 [00:00<?, ?it/s]\u001b[A\n",
      "Validation DataLoader 0: 100%|███████████████████████████████████████████████████████████████████████| 1/1 [00:00<00:00, 116.72it/s]\u001b[A\n",
      "Validation DataLoader 0:   0%|                                                                                | 0/1 [00:00<?, ?it/s]\u001b[A\n",
      "Validation DataLoader 1:   0%|                                                                                | 0/1 [00:00<?, ?it/s]\u001b[A\n",
      "Validation DataLoader 1: 100%|███████████████████████████████████████████████████████████████████████| 1/1 [00:00<00:00, 131.46it/s]\u001b[A\n",
      "Epoch 62: 100%|█████████████████████████| 1/1 [00:00<00:00, 146.49it/s, v_num=3, train/loss=0.752, train/loss_rec=0.752]            \u001b[A\n",
      "Validation: |                                                                                                 | 0/? [00:00<?, ?it/s]\u001b[A\n",
      "Validation:   0%|                                                                                             | 0/1 [00:00<?, ?it/s]\u001b[A\n",
      "Validation DataLoader 0:   0%|                                                                                | 0/1 [00:00<?, ?it/s]\u001b[A\n",
      "Validation DataLoader 0: 100%|███████████████████████████████████████████████████████████████████████| 1/1 [00:00<00:00, 118.17it/s]\u001b[A\n",
      "Validation DataLoader 0:   0%|                                                                                | 0/1 [00:00<?, ?it/s]\u001b[A\n",
      "Validation DataLoader 1:   0%|                                                                                | 0/1 [00:00<?, ?it/s]\u001b[A\n",
      "Validation DataLoader 1: 100%|███████████████████████████████████████████████████████████████████████| 1/1 [00:00<00:00, 123.08it/s]\u001b[A\n",
      "Epoch 63: 100%|█████████████████████████| 1/1 [00:00<00:00, 138.50it/s, v_num=3, train/loss=0.753, train/loss_rec=0.753]            \u001b[A\n",
      "Validation: |                                                                                                 | 0/? [00:00<?, ?it/s]\u001b[A\n",
      "Validation:   0%|                                                                                             | 0/1 [00:00<?, ?it/s]\u001b[A\n",
      "Validation DataLoader 0:   0%|                                                                                | 0/1 [00:00<?, ?it/s]\u001b[A\n",
      "Validation DataLoader 0: 100%|███████████████████████████████████████████████████████████████████████| 1/1 [00:00<00:00, 106.29it/s]\u001b[A\n",
      "Validation DataLoader 0:   0%|                                                                                | 0/1 [00:00<?, ?it/s]\u001b[A\n",
      "Validation DataLoader 1:   0%|                                                                                | 0/1 [00:00<?, ?it/s]\u001b[A\n",
      "Validation DataLoader 1: 100%|███████████████████████████████████████████████████████████████████████| 1/1 [00:00<00:00, 113.93it/s]\u001b[A\n",
      "Epoch 64: 100%|█████████████████████████| 1/1 [00:00<00:00, 134.46it/s, v_num=3, train/loss=0.752, train/loss_rec=0.752]            \u001b[A\n",
      "Validation: |                                                                                                 | 0/? [00:00<?, ?it/s]\u001b[A\n",
      "Validation:   0%|                                                                                             | 0/1 [00:00<?, ?it/s]\u001b[A\n",
      "Validation DataLoader 0:   0%|                                                                                | 0/1 [00:00<?, ?it/s]\u001b[A\n",
      "Validation DataLoader 0: 100%|███████████████████████████████████████████████████████████████████████| 1/1 [00:00<00:00, 104.08it/s]\u001b[A\n",
      "Validation DataLoader 0:   0%|                                                                                | 0/1 [00:00<?, ?it/s]\u001b[A\n",
      "Validation DataLoader 1:   0%|                                                                                | 0/1 [00:00<?, ?it/s]\u001b[A\n",
      "Validation DataLoader 1: 100%|███████████████████████████████████████████████████████████████████████| 1/1 [00:00<00:00, 113.72it/s]\u001b[A\n",
      "Epoch 65: 100%|█████████████████████████| 1/1 [00:00<00:00, 127.69it/s, v_num=3, train/loss=0.751, train/loss_rec=0.751]            \u001b[A\n",
      "Validation: |                                                                                                 | 0/? [00:00<?, ?it/s]\u001b[A\n",
      "Validation:   0%|                                                                                             | 0/1 [00:00<?, ?it/s]\u001b[A\n",
      "Validation DataLoader 0:   0%|                                                                                | 0/1 [00:00<?, ?it/s]\u001b[A\n",
      "Validation DataLoader 0: 100%|███████████████████████████████████████████████████████████████████████| 1/1 [00:00<00:00, 104.74it/s]\u001b[A\n",
      "Validation DataLoader 0:   0%|                                                                                | 0/1 [00:00<?, ?it/s]\u001b[A\n",
      "Validation DataLoader 1:   0%|                                                                                | 0/1 [00:00<?, ?it/s]\u001b[A\n",
      "Validation DataLoader 1: 100%|███████████████████████████████████████████████████████████████████████| 1/1 [00:00<00:00, 113.88it/s]\u001b[A\n",
      "Epoch 66: 100%|█████████████████████████| 1/1 [00:00<00:00, 131.73it/s, v_num=3, train/loss=0.752, train/loss_rec=0.752]            \u001b[A\n",
      "Validation: |                                                                                                 | 0/? [00:00<?, ?it/s]\u001b[A\n",
      "Validation:   0%|                                                                                             | 0/1 [00:00<?, ?it/s]\u001b[A\n",
      "Validation DataLoader 0:   0%|                                                                                | 0/1 [00:00<?, ?it/s]\u001b[A\n",
      "Validation DataLoader 0: 100%|███████████████████████████████████████████████████████████████████████| 1/1 [00:00<00:00, 104.88it/s]\u001b[A\n",
      "Validation DataLoader 0:   0%|                                                                                | 0/1 [00:00<?, ?it/s]\u001b[A\n",
      "Validation DataLoader 1:   0%|                                                                                | 0/1 [00:00<?, ?it/s]\u001b[A\n",
      "Validation DataLoader 1: 100%|███████████████████████████████████████████████████████████████████████| 1/1 [00:00<00:00, 114.19it/s]\u001b[A\n",
      "Epoch 67: 100%|█████████████████████████| 1/1 [00:00<00:00, 136.60it/s, v_num=3, train/loss=0.749, train/loss_rec=0.749]            \u001b[A\n",
      "Validation: |                                                                                                 | 0/? [00:00<?, ?it/s]\u001b[A\n",
      "Validation:   0%|                                                                                             | 0/1 [00:00<?, ?it/s]\u001b[A\n",
      "Validation DataLoader 0:   0%|                                                                                | 0/1 [00:00<?, ?it/s]\u001b[A\n",
      "Validation DataLoader 0: 100%|███████████████████████████████████████████████████████████████████████| 1/1 [00:00<00:00, 112.24it/s]\u001b[A\n",
      "Validation DataLoader 0:   0%|                                                                                | 0/1 [00:00<?, ?it/s]\u001b[A\n",
      "Validation DataLoader 1:   0%|                                                                                | 0/1 [00:00<?, ?it/s]\u001b[A\n",
      "Validation DataLoader 1: 100%|███████████████████████████████████████████████████████████████████████| 1/1 [00:00<00:00, 125.01it/s]\u001b[A\n",
      "Epoch 68: 100%|█████████████████████████| 1/1 [00:00<00:00, 136.87it/s, v_num=3, train/loss=0.749, train/loss_rec=0.749]            \u001b[A\n",
      "Validation: |                                                                                                 | 0/? [00:00<?, ?it/s]\u001b[A\n",
      "Validation:   0%|                                                                                             | 0/1 [00:00<?, ?it/s]\u001b[A\n",
      "Validation DataLoader 0:   0%|                                                                                | 0/1 [00:00<?, ?it/s]\u001b[A\n",
      "Validation DataLoader 0: 100%|███████████████████████████████████████████████████████████████████████| 1/1 [00:00<00:00, 108.84it/s]\u001b[A\n",
      "Validation DataLoader 0:   0%|                                                                                | 0/1 [00:00<?, ?it/s]\u001b[A\n",
      "Validation DataLoader 1:   0%|                                                                                | 0/1 [00:00<?, ?it/s]\u001b[A\n",
      "Validation DataLoader 1: 100%|███████████████████████████████████████████████████████████████████████| 1/1 [00:00<00:00, 122.79it/s]\u001b[A\n",
      "Epoch 69: 100%|█████████████████████████| 1/1 [00:00<00:00, 133.45it/s, v_num=3, train/loss=0.747, train/loss_rec=0.747]            \u001b[A\n",
      "Validation: |                                                                                                 | 0/? [00:00<?, ?it/s]\u001b[A\n",
      "Validation:   0%|                                                                                             | 0/1 [00:00<?, ?it/s]\u001b[A\n",
      "Validation DataLoader 0:   0%|                                                                                | 0/1 [00:00<?, ?it/s]\u001b[A\n",
      "Validation DataLoader 0: 100%|███████████████████████████████████████████████████████████████████████| 1/1 [00:00<00:00, 111.27it/s]\u001b[A\n",
      "Validation DataLoader 0:   0%|                                                                                | 0/1 [00:00<?, ?it/s]\u001b[A\n",
      "Validation DataLoader 1:   0%|                                                                                | 0/1 [00:00<?, ?it/s]\u001b[A\n",
      "Validation DataLoader 1: 100%|███████████████████████████████████████████████████████████████████████| 1/1 [00:00<00:00, 125.31it/s]\u001b[A\n",
      "Epoch 70: 100%|█████████████████████████| 1/1 [00:00<00:00, 130.01it/s, v_num=3, train/loss=0.746, train/loss_rec=0.746]            \u001b[A\n",
      "Validation: |                                                                                                 | 0/? [00:00<?, ?it/s]\u001b[A\n",
      "Validation:   0%|                                                                                             | 0/1 [00:00<?, ?it/s]\u001b[A\n",
      "Validation DataLoader 0:   0%|                                                                                | 0/1 [00:00<?, ?it/s]\u001b[A\n",
      "Validation DataLoader 0: 100%|███████████████████████████████████████████████████████████████████████| 1/1 [00:00<00:00, 104.80it/s]\u001b[A\n",
      "Validation DataLoader 0:   0%|                                                                                | 0/1 [00:00<?, ?it/s]\u001b[A\n",
      "Validation DataLoader 1:   0%|                                                                                | 0/1 [00:00<?, ?it/s]\u001b[A\n",
      "Validation DataLoader 1: 100%|███████████████████████████████████████████████████████████████████████| 1/1 [00:00<00:00, 114.27it/s]\u001b[A\n",
      "Epoch 71: 100%|█████████████████████████| 1/1 [00:00<00:00, 142.91it/s, v_num=3, train/loss=0.744, train/loss_rec=0.744]            \u001b[A\n",
      "Validation: |                                                                                                 | 0/? [00:00<?, ?it/s]\u001b[A\n",
      "Validation:   0%|                                                                                             | 0/1 [00:00<?, ?it/s]\u001b[A\n",
      "Validation DataLoader 0:   0%|                                                                                | 0/1 [00:00<?, ?it/s]\u001b[A\n",
      "Validation DataLoader 0: 100%|███████████████████████████████████████████████████████████████████████| 1/1 [00:00<00:00, 113.21it/s]\u001b[A\n",
      "Validation DataLoader 0:   0%|                                                                                | 0/1 [00:00<?, ?it/s]\u001b[A\n",
      "Validation DataLoader 1:   0%|                                                                                | 0/1 [00:00<?, ?it/s]\u001b[A\n",
      "Validation DataLoader 1: 100%|███████████████████████████████████████████████████████████████████████| 1/1 [00:00<00:00, 127.38it/s]\u001b[A\n",
      "Epoch 72: 100%|█████████████████████████| 1/1 [00:00<00:00, 149.99it/s, v_num=3, train/loss=0.745, train/loss_rec=0.745]            \u001b[A\n",
      "Validation: |                                                                                                 | 0/? [00:00<?, ?it/s]\u001b[A\n",
      "Validation:   0%|                                                                                             | 0/1 [00:00<?, ?it/s]\u001b[A\n",
      "Validation DataLoader 0:   0%|                                                                                | 0/1 [00:00<?, ?it/s]\u001b[A\n",
      "Validation DataLoader 0: 100%|███████████████████████████████████████████████████████████████████████| 1/1 [00:00<00:00, 118.45it/s]\u001b[A\n",
      "Validation DataLoader 0:   0%|                                                                                | 0/1 [00:00<?, ?it/s]\u001b[A\n",
      "Validation DataLoader 1:   0%|                                                                                | 0/1 [00:00<?, ?it/s]\u001b[A\n",
      "Validation DataLoader 1: 100%|███████████████████████████████████████████████████████████████████████| 1/1 [00:00<00:00, 131.90it/s]\u001b[A\n",
      "Epoch 73: 100%|█████████████████████████| 1/1 [00:00<00:00, 148.40it/s, v_num=3, train/loss=0.744, train/loss_rec=0.744]            \u001b[A\n",
      "Validation: |                                                                                                 | 0/? [00:00<?, ?it/s]\u001b[A\n",
      "Validation:   0%|                                                                                             | 0/1 [00:00<?, ?it/s]\u001b[A\n",
      "Validation DataLoader 0:   0%|                                                                                | 0/1 [00:00<?, ?it/s]\u001b[A\n",
      "Validation DataLoader 0: 100%|███████████████████████████████████████████████████████████████████████| 1/1 [00:00<00:00, 114.87it/s]\u001b[A\n",
      "Validation DataLoader 0:   0%|                                                                                | 0/1 [00:00<?, ?it/s]\u001b[A\n",
      "Validation DataLoader 1:   0%|                                                                                | 0/1 [00:00<?, ?it/s]\u001b[A\n",
      "Validation DataLoader 1: 100%|███████████████████████████████████████████████████████████████████████| 1/1 [00:00<00:00, 131.63it/s]\u001b[A\n",
      "Epoch 74: 100%|█████████████████████████| 1/1 [00:00<00:00, 149.81it/s, v_num=3, train/loss=0.742, train/loss_rec=0.742]            \u001b[A\n",
      "Validation: |                                                                                                 | 0/? [00:00<?, ?it/s]\u001b[A\n",
      "Validation:   0%|                                                                                             | 0/1 [00:00<?, ?it/s]\u001b[A\n",
      "Validation DataLoader 0:   0%|                                                                                | 0/1 [00:00<?, ?it/s]\u001b[A\n",
      "Validation DataLoader 0: 100%|███████████████████████████████████████████████████████████████████████| 1/1 [00:00<00:00, 116.90it/s]\u001b[A\n",
      "Validation DataLoader 0:   0%|                                                                                | 0/1 [00:00<?, ?it/s]\u001b[A\n",
      "Validation DataLoader 1:   0%|                                                                                | 0/1 [00:00<?, ?it/s]\u001b[A\n",
      "Validation DataLoader 1: 100%|███████████████████████████████████████████████████████████████████████| 1/1 [00:00<00:00, 131.26it/s]\u001b[A\n",
      "Epoch 75: 100%|█████████████████████████| 1/1 [00:00<00:00, 145.30it/s, v_num=3, train/loss=0.741, train/loss_rec=0.741]            \u001b[A\n",
      "Validation: |                                                                                                 | 0/? [00:00<?, ?it/s]\u001b[A\n",
      "Validation:   0%|                                                                                             | 0/1 [00:00<?, ?it/s]\u001b[A\n",
      "Validation DataLoader 0:   0%|                                                                                | 0/1 [00:00<?, ?it/s]\u001b[A\n",
      "Validation DataLoader 0: 100%|███████████████████████████████████████████████████████████████████████| 1/1 [00:00<00:00, 104.50it/s]\u001b[A\n",
      "Validation DataLoader 0:   0%|                                                                                | 0/1 [00:00<?, ?it/s]\u001b[A\n",
      "Validation DataLoader 1:   0%|                                                                                | 0/1 [00:00<?, ?it/s]\u001b[A\n",
      "Validation DataLoader 1: 100%|███████████████████████████████████████████████████████████████████████| 1/1 [00:00<00:00, 116.90it/s]\u001b[A\n",
      "Epoch 76: 100%|█████████████████████████| 1/1 [00:00<00:00, 130.52it/s, v_num=3, train/loss=0.740, train/loss_rec=0.740]            \u001b[A\n",
      "Validation: |                                                                                                 | 0/? [00:00<?, ?it/s]\u001b[A\n",
      "Validation:   0%|                                                                                             | 0/1 [00:00<?, ?it/s]\u001b[A\n",
      "Validation DataLoader 0:   0%|                                                                                | 0/1 [00:00<?, ?it/s]\u001b[A\n",
      "Validation DataLoader 0: 100%|███████████████████████████████████████████████████████████████████████| 1/1 [00:00<00:00, 108.69it/s]\u001b[A\n",
      "Validation DataLoader 0:   0%|                                                                                | 0/1 [00:00<?, ?it/s]\u001b[A\n",
      "Validation DataLoader 1:   0%|                                                                                | 0/1 [00:00<?, ?it/s]\u001b[A\n",
      "Validation DataLoader 1: 100%|███████████████████████████████████████████████████████████████████████| 1/1 [00:00<00:00, 118.18it/s]\u001b[A\n",
      "Epoch 77: 100%|█████████████████████████| 1/1 [00:00<00:00, 139.90it/s, v_num=3, train/loss=0.741, train/loss_rec=0.741]            \u001b[A\n",
      "Validation: |                                                                                                 | 0/? [00:00<?, ?it/s]\u001b[A\n",
      "Validation:   0%|                                                                                             | 0/1 [00:00<?, ?it/s]\u001b[A\n",
      "Validation DataLoader 0:   0%|                                                                                | 0/1 [00:00<?, ?it/s]\u001b[A\n",
      "Validation DataLoader 0: 100%|███████████████████████████████████████████████████████████████████████| 1/1 [00:00<00:00, 114.33it/s]\u001b[A\n",
      "Validation DataLoader 0:   0%|                                                                                | 0/1 [00:00<?, ?it/s]\u001b[A\n",
      "Validation DataLoader 1:   0%|                                                                                | 0/1 [00:00<?, ?it/s]\u001b[A\n",
      "Validation DataLoader 1: 100%|███████████████████████████████████████████████████████████████████████| 1/1 [00:00<00:00, 126.24it/s]\u001b[A\n",
      "Epoch 78: 100%|█████████████████████████| 1/1 [00:00<00:00, 148.56it/s, v_num=3, train/loss=0.737, train/loss_rec=0.737]            \u001b[A\n",
      "Validation: |                                                                                                 | 0/? [00:00<?, ?it/s]\u001b[A\n",
      "Validation:   0%|                                                                                             | 0/1 [00:00<?, ?it/s]\u001b[A\n",
      "Validation DataLoader 0:   0%|                                                                                | 0/1 [00:00<?, ?it/s]\u001b[A\n",
      "Validation DataLoader 0: 100%|███████████████████████████████████████████████████████████████████████| 1/1 [00:00<00:00, 116.76it/s]\u001b[A\n",
      "Validation DataLoader 0:   0%|                                                                                | 0/1 [00:00<?, ?it/s]\u001b[A\n",
      "Validation DataLoader 1:   0%|                                                                                | 0/1 [00:00<?, ?it/s]\u001b[A\n",
      "Validation DataLoader 1: 100%|███████████████████████████████████████████████████████████████████████| 1/1 [00:00<00:00, 129.14it/s]\u001b[A\n",
      "Epoch 79: 100%|█████████████████████████| 1/1 [00:00<00:00, 144.69it/s, v_num=3, train/loss=0.737, train/loss_rec=0.737]            \u001b[A\n",
      "Validation: |                                                                                                 | 0/? [00:00<?, ?it/s]\u001b[A\n",
      "Validation:   0%|                                                                                             | 0/1 [00:00<?, ?it/s]\u001b[A\n",
      "Validation DataLoader 0:   0%|                                                                                | 0/1 [00:00<?, ?it/s]\u001b[A\n",
      "Validation DataLoader 0: 100%|███████████████████████████████████████████████████████████████████████| 1/1 [00:00<00:00, 116.29it/s]\u001b[A\n",
      "Validation DataLoader 0:   0%|                                                                                | 0/1 [00:00<?, ?it/s]\u001b[A\n",
      "Validation DataLoader 1:   0%|                                                                                | 0/1 [00:00<?, ?it/s]\u001b[A\n",
      "Validation DataLoader 1: 100%|███████████████████████████████████████████████████████████████████████| 1/1 [00:00<00:00, 128.99it/s]\u001b[A\n",
      "Epoch 80: 100%|█████████████████████████| 1/1 [00:00<00:00, 148.40it/s, v_num=3, train/loss=0.737, train/loss_rec=0.737]            \u001b[A\n",
      "Validation: |                                                                                                 | 0/? [00:00<?, ?it/s]\u001b[A\n",
      "Validation:   0%|                                                                                             | 0/1 [00:00<?, ?it/s]\u001b[A\n",
      "Validation DataLoader 0:   0%|                                                                                | 0/1 [00:00<?, ?it/s]\u001b[A\n",
      "Validation DataLoader 0: 100%|███████████████████████████████████████████████████████████████████████| 1/1 [00:00<00:00, 114.81it/s]\u001b[A\n",
      "Validation DataLoader 0:   0%|                                                                                | 0/1 [00:00<?, ?it/s]\u001b[A\n",
      "Validation DataLoader 1:   0%|                                                                                | 0/1 [00:00<?, ?it/s]\u001b[A\n",
      "Validation DataLoader 1: 100%|███████████████████████████████████████████████████████████████████████| 1/1 [00:00<00:00, 126.16it/s]\u001b[A\n",
      "Epoch 81: 100%|█████████████████████████| 1/1 [00:00<00:00, 142.28it/s, v_num=3, train/loss=0.734, train/loss_rec=0.734]            \u001b[A\n",
      "Validation: |                                                                                                 | 0/? [00:00<?, ?it/s]\u001b[A\n",
      "Validation:   0%|                                                                                             | 0/1 [00:00<?, ?it/s]\u001b[A\n",
      "Validation DataLoader 0:   0%|                                                                                | 0/1 [00:00<?, ?it/s]\u001b[A\n",
      "Validation DataLoader 0: 100%|███████████████████████████████████████████████████████████████████████| 1/1 [00:00<00:00, 114.54it/s]\u001b[A\n",
      "Validation DataLoader 0:   0%|                                                                                | 0/1 [00:00<?, ?it/s]\u001b[A\n",
      "Validation DataLoader 1:   0%|                                                                                | 0/1 [00:00<?, ?it/s]\u001b[A\n",
      "Validation DataLoader 1: 100%|███████████████████████████████████████████████████████████████████████| 1/1 [00:00<00:00, 128.62it/s]\u001b[A\n",
      "Epoch 82: 100%|█████████████████████████| 1/1 [00:00<00:00, 144.66it/s, v_num=3, train/loss=0.738, train/loss_rec=0.738]            \u001b[A\n",
      "Validation: |                                                                                                 | 0/? [00:00<?, ?it/s]\u001b[A\n",
      "Validation:   0%|                                                                                             | 0/1 [00:00<?, ?it/s]\u001b[A\n",
      "Validation DataLoader 0:   0%|                                                                                | 0/1 [00:00<?, ?it/s]\u001b[A\n",
      "Validation DataLoader 0: 100%|███████████████████████████████████████████████████████████████████████| 1/1 [00:00<00:00, 115.42it/s]\u001b[A\n",
      "Validation DataLoader 0:   0%|                                                                                | 0/1 [00:00<?, ?it/s]\u001b[A\n",
      "Validation DataLoader 1:   0%|                                                                                | 0/1 [00:00<?, ?it/s]\u001b[A\n",
      "Validation DataLoader 1: 100%|███████████████████████████████████████████████████████████████████████| 1/1 [00:00<00:00, 128.57it/s]\u001b[A\n",
      "Epoch 83: 100%|█████████████████████████| 1/1 [00:00<00:00, 139.12it/s, v_num=3, train/loss=0.735, train/loss_rec=0.735]            \u001b[A\n",
      "Validation: |                                                                                                 | 0/? [00:00<?, ?it/s]\u001b[A\n",
      "Validation:   0%|                                                                                             | 0/1 [00:00<?, ?it/s]\u001b[A\n",
      "Validation DataLoader 0:   0%|                                                                                | 0/1 [00:00<?, ?it/s]\u001b[A\n",
      "Validation DataLoader 0: 100%|███████████████████████████████████████████████████████████████████████| 1/1 [00:00<00:00, 116.30it/s]\u001b[A\n",
      "Validation DataLoader 0:   0%|                                                                                | 0/1 [00:00<?, ?it/s]\u001b[A\n",
      "Validation DataLoader 1:   0%|                                                                                | 0/1 [00:00<?, ?it/s]\u001b[A\n",
      "Validation DataLoader 1: 100%|███████████████████████████████████████████████████████████████████████| 1/1 [00:00<00:00, 129.08it/s]\u001b[A\n",
      "Epoch 84: 100%|█████████████████████████| 1/1 [00:00<00:00, 144.84it/s, v_num=3, train/loss=0.732, train/loss_rec=0.732]            \u001b[A\n",
      "Validation: |                                                                                                 | 0/? [00:00<?, ?it/s]\u001b[A\n",
      "Validation:   0%|                                                                                             | 0/1 [00:00<?, ?it/s]\u001b[A\n",
      "Validation DataLoader 0:   0%|                                                                                | 0/1 [00:00<?, ?it/s]\u001b[A\n",
      "Validation DataLoader 0: 100%|███████████████████████████████████████████████████████████████████████| 1/1 [00:00<00:00, 115.14it/s]\u001b[A\n",
      "Validation DataLoader 0:   0%|                                                                                | 0/1 [00:00<?, ?it/s]\u001b[A\n",
      "Validation DataLoader 1:   0%|                                                                                | 0/1 [00:00<?, ?it/s]\u001b[A\n",
      "Validation DataLoader 1: 100%|███████████████████████████████████████████████████████████████████████| 1/1 [00:00<00:00, 127.79it/s]\u001b[A\n",
      "Epoch 85: 100%|█████████████████████████| 1/1 [00:00<00:00, 144.26it/s, v_num=3, train/loss=0.731, train/loss_rec=0.731]            \u001b[A\n",
      "Validation: |                                                                                                 | 0/? [00:00<?, ?it/s]\u001b[A\n",
      "Validation:   0%|                                                                                             | 0/1 [00:00<?, ?it/s]\u001b[A\n",
      "Validation DataLoader 0:   0%|                                                                                | 0/1 [00:00<?, ?it/s]\u001b[A\n",
      "Validation DataLoader 0: 100%|███████████████████████████████████████████████████████████████████████| 1/1 [00:00<00:00, 114.98it/s]\u001b[A\n",
      "Validation DataLoader 0:   0%|                                                                                | 0/1 [00:00<?, ?it/s]\u001b[A\n",
      "Validation DataLoader 1:   0%|                                                                                | 0/1 [00:00<?, ?it/s]\u001b[A\n",
      "Validation DataLoader 1: 100%|███████████████████████████████████████████████████████████████████████| 1/1 [00:00<00:00, 126.40it/s]\u001b[A\n",
      "Epoch 86: 100%|█████████████████████████| 1/1 [00:00<00:00, 145.42it/s, v_num=3, train/loss=0.734, train/loss_rec=0.734]            \u001b[A\n",
      "Validation: |                                                                                                 | 0/? [00:00<?, ?it/s]\u001b[A\n",
      "Validation:   0%|                                                                                             | 0/1 [00:00<?, ?it/s]\u001b[A\n",
      "Validation DataLoader 0:   0%|                                                                                | 0/1 [00:00<?, ?it/s]\u001b[A\n",
      "Validation DataLoader 0: 100%|███████████████████████████████████████████████████████████████████████| 1/1 [00:00<00:00, 114.00it/s]\u001b[A\n",
      "Validation DataLoader 0:   0%|                                                                                | 0/1 [00:00<?, ?it/s]\u001b[A\n",
      "Validation DataLoader 1:   0%|                                                                                | 0/1 [00:00<?, ?it/s]\u001b[A\n",
      "Validation DataLoader 1: 100%|███████████████████████████████████████████████████████████████████████| 1/1 [00:00<00:00, 127.93it/s]\u001b[A\n",
      "Epoch 87: 100%|█████████████████████████| 1/1 [00:00<00:00, 145.63it/s, v_num=3, train/loss=0.728, train/loss_rec=0.728]            \u001b[A\n",
      "Validation: |                                                                                                 | 0/? [00:00<?, ?it/s]\u001b[A\n",
      "Validation:   0%|                                                                                             | 0/1 [00:00<?, ?it/s]\u001b[A\n",
      "Validation DataLoader 0:   0%|                                                                                | 0/1 [00:00<?, ?it/s]\u001b[A\n",
      "Validation DataLoader 0: 100%|███████████████████████████████████████████████████████████████████████| 1/1 [00:00<00:00, 114.70it/s]\u001b[A\n",
      "Validation DataLoader 0:   0%|                                                                                | 0/1 [00:00<?, ?it/s]\u001b[A\n",
      "Validation DataLoader 1:   0%|                                                                                | 0/1 [00:00<?, ?it/s]\u001b[A\n",
      "Validation DataLoader 1: 100%|███████████████████████████████████████████████████████████████████████| 1/1 [00:00<00:00, 126.94it/s]\u001b[A\n",
      "Epoch 88: 100%|█████████████████████████| 1/1 [00:00<00:00, 144.74it/s, v_num=3, train/loss=0.730, train/loss_rec=0.730]            \u001b[A\n",
      "Validation: |                                                                                                 | 0/? [00:00<?, ?it/s]\u001b[A\n",
      "Validation:   0%|                                                                                             | 0/1 [00:00<?, ?it/s]\u001b[A\n",
      "Validation DataLoader 0:   0%|                                                                                | 0/1 [00:00<?, ?it/s]\u001b[A\n",
      "Validation DataLoader 0: 100%|███████████████████████████████████████████████████████████████████████| 1/1 [00:00<00:00, 114.48it/s]\u001b[A\n",
      "Validation DataLoader 0:   0%|                                                                                | 0/1 [00:00<?, ?it/s]\u001b[A\n",
      "Validation DataLoader 1:   0%|                                                                                | 0/1 [00:00<?, ?it/s]\u001b[A\n",
      "Validation DataLoader 1: 100%|███████████████████████████████████████████████████████████████████████| 1/1 [00:00<00:00, 111.49it/s]\u001b[A\n",
      "Epoch 89: 100%|█████████████████████████| 1/1 [00:00<00:00, 139.26it/s, v_num=3, train/loss=0.731, train/loss_rec=0.731]            \u001b[A\n",
      "Validation: |                                                                                                 | 0/? [00:00<?, ?it/s]\u001b[A\n",
      "Validation:   0%|                                                                                             | 0/1 [00:00<?, ?it/s]\u001b[A\n",
      "Validation DataLoader 0:   0%|                                                                                | 0/1 [00:00<?, ?it/s]\u001b[A\n",
      "Validation DataLoader 0: 100%|███████████████████████████████████████████████████████████████████████| 1/1 [00:00<00:00, 116.76it/s]\u001b[A\n",
      "Validation DataLoader 0:   0%|                                                                                | 0/1 [00:00<?, ?it/s]\u001b[A\n",
      "Validation DataLoader 1:   0%|                                                                                | 0/1 [00:00<?, ?it/s]\u001b[A\n",
      "Validation DataLoader 1: 100%|███████████████████████████████████████████████████████████████████████| 1/1 [00:00<00:00, 129.63it/s]\u001b[A\n",
      "Epoch 90: 100%|█████████████████████████| 1/1 [00:00<00:00, 146.16it/s, v_num=3, train/loss=0.729, train/loss_rec=0.729]            \u001b[A\n",
      "Validation: |                                                                                                 | 0/? [00:00<?, ?it/s]\u001b[A\n",
      "Validation:   0%|                                                                                             | 0/1 [00:00<?, ?it/s]\u001b[A\n",
      "Validation DataLoader 0:   0%|                                                                                | 0/1 [00:00<?, ?it/s]\u001b[A\n",
      "Validation DataLoader 0: 100%|███████████████████████████████████████████████████████████████████████| 1/1 [00:00<00:00, 115.75it/s]\u001b[A\n",
      "Validation DataLoader 0:   0%|                                                                                | 0/1 [00:00<?, ?it/s]\u001b[A\n",
      "Validation DataLoader 1:   0%|                                                                                | 0/1 [00:00<?, ?it/s]\u001b[A\n",
      "Validation DataLoader 1: 100%|███████████████████████████████████████████████████████████████████████| 1/1 [00:00<00:00, 127.65it/s]\u001b[A\n",
      "Epoch 91: 100%|█████████████████████████| 1/1 [00:00<00:00, 141.74it/s, v_num=3, train/loss=0.729, train/loss_rec=0.729]            \u001b[A\n",
      "Validation: |                                                                                                 | 0/? [00:00<?, ?it/s]\u001b[A\n",
      "Validation:   0%|                                                                                             | 0/1 [00:00<?, ?it/s]\u001b[A\n",
      "Validation DataLoader 0:   0%|                                                                                | 0/1 [00:00<?, ?it/s]\u001b[A\n",
      "Validation DataLoader 0: 100%|███████████████████████████████████████████████████████████████████████| 1/1 [00:00<00:00, 115.96it/s]\u001b[A\n",
      "Validation DataLoader 0:   0%|                                                                                | 0/1 [00:00<?, ?it/s]\u001b[A\n",
      "Validation DataLoader 1:   0%|                                                                                | 0/1 [00:00<?, ?it/s]\u001b[A\n",
      "Validation DataLoader 1: 100%|███████████████████████████████████████████████████████████████████████| 1/1 [00:00<00:00, 127.82it/s]\u001b[A\n",
      "Epoch 92: 100%|█████████████████████████| 1/1 [00:00<00:00, 144.30it/s, v_num=3, train/loss=0.728, train/loss_rec=0.728]            \u001b[A\n",
      "Validation: |                                                                                                 | 0/? [00:00<?, ?it/s]\u001b[A\n",
      "Validation:   0%|                                                                                             | 0/1 [00:00<?, ?it/s]\u001b[A\n",
      "Validation DataLoader 0:   0%|                                                                                | 0/1 [00:00<?, ?it/s]\u001b[A\n",
      "Validation DataLoader 0: 100%|███████████████████████████████████████████████████████████████████████| 1/1 [00:00<00:00, 114.73it/s]\u001b[A\n",
      "Validation DataLoader 0:   0%|                                                                                | 0/1 [00:00<?, ?it/s]\u001b[A\n",
      "Validation DataLoader 1:   0%|                                                                                | 0/1 [00:00<?, ?it/s]\u001b[A\n",
      "Validation DataLoader 1: 100%|███████████████████████████████████████████████████████████████████████| 1/1 [00:00<00:00, 128.38it/s]\u001b[A\n",
      "Epoch 93: 100%|█████████████████████████| 1/1 [00:00<00:00, 140.47it/s, v_num=3, train/loss=0.728, train/loss_rec=0.728]            \u001b[A\n",
      "Validation: |                                                                                                 | 0/? [00:00<?, ?it/s]\u001b[A\n",
      "Validation:   0%|                                                                                             | 0/1 [00:00<?, ?it/s]\u001b[A\n",
      "Validation DataLoader 0:   0%|                                                                                | 0/1 [00:00<?, ?it/s]\u001b[A\n",
      "Validation DataLoader 0: 100%|███████████████████████████████████████████████████████████████████████| 1/1 [00:00<00:00, 114.32it/s]\u001b[A\n",
      "Validation DataLoader 0:   0%|                                                                                | 0/1 [00:00<?, ?it/s]\u001b[A\n",
      "Validation DataLoader 1:   0%|                                                                                | 0/1 [00:00<?, ?it/s]\u001b[A\n",
      "Validation DataLoader 1: 100%|███████████████████████████████████████████████████████████████████████| 1/1 [00:00<00:00, 126.52it/s]\u001b[A\n",
      "Epoch 94: 100%|█████████████████████████| 1/1 [00:00<00:00, 145.39it/s, v_num=3, train/loss=0.723, train/loss_rec=0.723]            \u001b[A\n",
      "Validation: |                                                                                                 | 0/? [00:00<?, ?it/s]\u001b[A\n",
      "Validation:   0%|                                                                                             | 0/1 [00:00<?, ?it/s]\u001b[A\n",
      "Validation DataLoader 0:   0%|                                                                                | 0/1 [00:00<?, ?it/s]\u001b[A\n",
      "Validation DataLoader 0: 100%|███████████████████████████████████████████████████████████████████████| 1/1 [00:00<00:00, 114.96it/s]\u001b[A\n",
      "Validation DataLoader 0:   0%|                                                                                | 0/1 [00:00<?, ?it/s]\u001b[A\n",
      "Validation DataLoader 1:   0%|                                                                                | 0/1 [00:00<?, ?it/s]\u001b[A\n",
      "Validation DataLoader 1: 100%|███████████████████████████████████████████████████████████████████████| 1/1 [00:00<00:00, 124.85it/s]\u001b[A\n",
      "Epoch 95: 100%|█████████████████████████| 1/1 [00:00<00:00, 144.53it/s, v_num=3, train/loss=0.722, train/loss_rec=0.722]            \u001b[A\n",
      "Validation: |                                                                                                 | 0/? [00:00<?, ?it/s]\u001b[A\n",
      "Validation:   0%|                                                                                             | 0/1 [00:00<?, ?it/s]\u001b[A\n",
      "Validation DataLoader 0:   0%|                                                                                | 0/1 [00:00<?, ?it/s]\u001b[A\n",
      "Validation DataLoader 0: 100%|███████████████████████████████████████████████████████████████████████| 1/1 [00:00<00:00, 110.96it/s]\u001b[A\n",
      "Validation DataLoader 0:   0%|                                                                                | 0/1 [00:00<?, ?it/s]\u001b[A\n",
      "Validation DataLoader 1:   0%|                                                                                | 0/1 [00:00<?, ?it/s]\u001b[A\n",
      "Validation DataLoader 1: 100%|███████████████████████████████████████████████████████████████████████| 1/1 [00:00<00:00, 125.45it/s]\u001b[A\n",
      "Epoch 96: 100%|█████████████████████████| 1/1 [00:00<00:00, 146.44it/s, v_num=3, train/loss=0.721, train/loss_rec=0.721]            \u001b[A\n",
      "Validation: |                                                                                                 | 0/? [00:00<?, ?it/s]\u001b[A\n",
      "Validation:   0%|                                                                                             | 0/1 [00:00<?, ?it/s]\u001b[A\n",
      "Validation DataLoader 0:   0%|                                                                                | 0/1 [00:00<?, ?it/s]\u001b[A\n",
      "Validation DataLoader 0: 100%|███████████████████████████████████████████████████████████████████████| 1/1 [00:00<00:00, 114.30it/s]\u001b[A\n",
      "Validation DataLoader 0:   0%|                                                                                | 0/1 [00:00<?, ?it/s]\u001b[A\n",
      "Validation DataLoader 1:   0%|                                                                                | 0/1 [00:00<?, ?it/s]\u001b[A\n",
      "Validation DataLoader 1: 100%|███████████████████████████████████████████████████████████████████████| 1/1 [00:00<00:00, 128.80it/s]\u001b[A\n",
      "Epoch 97: 100%|█████████████████████████| 1/1 [00:00<00:00, 143.26it/s, v_num=3, train/loss=0.721, train/loss_rec=0.721]            \u001b[A\n",
      "Validation: |                                                                                                 | 0/? [00:00<?, ?it/s]\u001b[A\n",
      "Validation:   0%|                                                                                             | 0/1 [00:00<?, ?it/s]\u001b[A\n",
      "Validation DataLoader 0:   0%|                                                                                | 0/1 [00:00<?, ?it/s]\u001b[A\n",
      "Validation DataLoader 0: 100%|███████████████████████████████████████████████████████████████████████| 1/1 [00:00<00:00, 114.89it/s]\u001b[A\n",
      "Validation DataLoader 0:   0%|                                                                                | 0/1 [00:00<?, ?it/s]\u001b[A\n",
      "Validation DataLoader 1:   0%|                                                                                | 0/1 [00:00<?, ?it/s]\u001b[A\n",
      "Validation DataLoader 1: 100%|███████████████████████████████████████████████████████████████████████| 1/1 [00:00<00:00, 127.89it/s]\u001b[A\n",
      "Epoch 98: 100%|█████████████████████████| 1/1 [00:00<00:00, 148.26it/s, v_num=3, train/loss=0.724, train/loss_rec=0.724]            \u001b[A\n",
      "Validation: |                                                                                                 | 0/? [00:00<?, ?it/s]\u001b[A\n",
      "Validation:   0%|                                                                                             | 0/1 [00:00<?, ?it/s]\u001b[A\n",
      "Validation DataLoader 0:   0%|                                                                                | 0/1 [00:00<?, ?it/s]\u001b[A\n",
      "Validation DataLoader 0: 100%|███████████████████████████████████████████████████████████████████████| 1/1 [00:00<00:00, 114.63it/s]\u001b[A\n",
      "Validation DataLoader 0:   0%|                                                                                | 0/1 [00:00<?, ?it/s]\u001b[A\n",
      "Validation DataLoader 1:   0%|                                                                                | 0/1 [00:00<?, ?it/s]\u001b[A\n",
      "Validation DataLoader 1: 100%|███████████████████████████████████████████████████████████████████████| 1/1 [00:00<00:00, 127.99it/s]\u001b[A\n",
      "Epoch 99: 100%|█████████████████████████| 1/1 [00:00<00:00, 137.88it/s, v_num=3, train/loss=0.725, train/loss_rec=0.725]            \u001b[A\n",
      "Validation: |                                                                                                 | 0/? [00:00<?, ?it/s]\u001b[A\n",
      "Validation:   0%|                                                                                             | 0/1 [00:00<?, ?it/s]\u001b[A\n",
      "Validation DataLoader 0:   0%|                                                                                | 0/1 [00:00<?, ?it/s]\u001b[A\n",
      "Validation DataLoader 0: 100%|███████████████████████████████████████████████████████████████████████| 1/1 [00:00<00:00, 116.00it/s]\u001b[A\n",
      "Validation DataLoader 0:   0%|                                                                                | 0/1 [00:00<?, ?it/s]\u001b[A\n",
      "Validation DataLoader 1:   0%|                                                                                | 0/1 [00:00<?, ?it/s]\u001b[A\n",
      "Validation DataLoader 1: 100%|███████████████████████████████████████████████████████████████████████| 1/1 [00:00<00:00, 129.40it/s]\u001b[A\n",
      "Epoch 100: 100%|████████████████████████| 1/1 [00:00<00:00, 147.29it/s, v_num=3, train/loss=0.721, train/loss_rec=0.721]            \u001b[A\n",
      "Validation: |                                                                                                 | 0/? [00:00<?, ?it/s]\u001b[A\n",
      "Validation:   0%|                                                                                             | 0/1 [00:00<?, ?it/s]\u001b[A\n",
      "Validation DataLoader 0:   0%|                                                                                | 0/1 [00:00<?, ?it/s]\u001b[A\n",
      "Validation DataLoader 0: 100%|███████████████████████████████████████████████████████████████████████| 1/1 [00:00<00:00, 114.48it/s]\u001b[A\n",
      "Validation DataLoader 0:   0%|                                                                                | 0/1 [00:00<?, ?it/s]\u001b[A\n",
      "Validation DataLoader 1:   0%|                                                                                | 0/1 [00:00<?, ?it/s]\u001b[A\n",
      "Validation DataLoader 1: 100%|███████████████████████████████████████████████████████████████████████| 1/1 [00:00<00:00, 128.14it/s]\u001b[A\n",
      "Epoch 101: 100%|████████████████████████| 1/1 [00:00<00:00, 144.37it/s, v_num=3, train/loss=0.723, train/loss_rec=0.723]            \u001b[A\n",
      "Validation: |                                                                                                 | 0/? [00:00<?, ?it/s]\u001b[A\n",
      "Validation:   0%|                                                                                             | 0/1 [00:00<?, ?it/s]\u001b[A\n",
      "Validation DataLoader 0:   0%|                                                                                | 0/1 [00:00<?, ?it/s]\u001b[A\n",
      "Validation DataLoader 0: 100%|███████████████████████████████████████████████████████████████████████| 1/1 [00:00<00:00, 113.69it/s]\u001b[A\n",
      "Validation DataLoader 0:   0%|                                                                                | 0/1 [00:00<?, ?it/s]\u001b[A\n",
      "Validation DataLoader 1:   0%|                                                                                | 0/1 [00:00<?, ?it/s]\u001b[A\n",
      "Validation DataLoader 1: 100%|███████████████████████████████████████████████████████████████████████| 1/1 [00:00<00:00, 126.83it/s]\u001b[A\n",
      "Epoch 102: 100%|████████████████████████| 1/1 [00:00<00:00, 144.65it/s, v_num=3, train/loss=0.723, train/loss_rec=0.723]            \u001b[A\n",
      "Validation: |                                                                                                 | 0/? [00:00<?, ?it/s]\u001b[A\n",
      "Validation:   0%|                                                                                             | 0/1 [00:00<?, ?it/s]\u001b[A\n",
      "Validation DataLoader 0:   0%|                                                                                | 0/1 [00:00<?, ?it/s]\u001b[A\n",
      "Validation DataLoader 0: 100%|███████████████████████████████████████████████████████████████████████| 1/1 [00:00<00:00, 113.14it/s]\u001b[A\n",
      "Validation DataLoader 0:   0%|                                                                                | 0/1 [00:00<?, ?it/s]\u001b[A\n",
      "Validation DataLoader 1:   0%|                                                                                | 0/1 [00:00<?, ?it/s]\u001b[A\n",
      "Validation DataLoader 1: 100%|███████████████████████████████████████████████████████████████████████| 1/1 [00:00<00:00, 128.08it/s]\u001b[A\n",
      "Epoch 103: 100%|████████████████████████| 1/1 [00:00<00:00, 145.42it/s, v_num=3, train/loss=0.718, train/loss_rec=0.718]            \u001b[A\n",
      "Validation: |                                                                                                 | 0/? [00:00<?, ?it/s]\u001b[A\n",
      "Validation:   0%|                                                                                             | 0/1 [00:00<?, ?it/s]\u001b[A\n",
      "Validation DataLoader 0:   0%|                                                                                | 0/1 [00:00<?, ?it/s]\u001b[A\n",
      "Validation DataLoader 0: 100%|███████████████████████████████████████████████████████████████████████| 1/1 [00:00<00:00, 116.17it/s]\u001b[A\n",
      "Validation DataLoader 0:   0%|                                                                                | 0/1 [00:00<?, ?it/s]\u001b[A\n",
      "Validation DataLoader 1:   0%|                                                                                | 0/1 [00:00<?, ?it/s]\u001b[A\n",
      "Validation DataLoader 1: 100%|███████████████████████████████████████████████████████████████████████| 1/1 [00:00<00:00, 127.90it/s]\u001b[A\n",
      "Epoch 104: 100%|████████████████████████| 1/1 [00:00<00:00, 150.02it/s, v_num=3, train/loss=0.722, train/loss_rec=0.722]            \u001b[A\n",
      "Validation: |                                                                                                 | 0/? [00:00<?, ?it/s]\u001b[A\n",
      "Validation:   0%|                                                                                             | 0/1 [00:00<?, ?it/s]\u001b[A\n",
      "Validation DataLoader 0:   0%|                                                                                | 0/1 [00:00<?, ?it/s]\u001b[A\n",
      "Validation DataLoader 0: 100%|███████████████████████████████████████████████████████████████████████| 1/1 [00:00<00:00, 116.22it/s]\u001b[A\n",
      "Validation DataLoader 0:   0%|                                                                                | 0/1 [00:00<?, ?it/s]\u001b[A\n",
      "Validation DataLoader 1:   0%|                                                                                | 0/1 [00:00<?, ?it/s]\u001b[A\n",
      "Validation DataLoader 1: 100%|███████████████████████████████████████████████████████████████████████| 1/1 [00:00<00:00, 128.51it/s]\u001b[A\n",
      "Epoch 105: 100%|████████████████████████| 1/1 [00:00<00:00, 147.32it/s, v_num=3, train/loss=0.716, train/loss_rec=0.716]            \u001b[A\n",
      "Validation: |                                                                                                 | 0/? [00:00<?, ?it/s]\u001b[A\n",
      "Validation:   0%|                                                                                             | 0/1 [00:00<?, ?it/s]\u001b[A\n",
      "Validation DataLoader 0:   0%|                                                                                | 0/1 [00:00<?, ?it/s]\u001b[A\n",
      "Validation DataLoader 0: 100%|███████████████████████████████████████████████████████████████████████| 1/1 [00:00<00:00, 115.46it/s]\u001b[A\n",
      "Validation DataLoader 0:   0%|                                                                                | 0/1 [00:00<?, ?it/s]\u001b[A\n",
      "Validation DataLoader 1:   0%|                                                                                | 0/1 [00:00<?, ?it/s]\u001b[A\n",
      "Validation DataLoader 1: 100%|███████████████████████████████████████████████████████████████████████| 1/1 [00:00<00:00, 130.07it/s]\u001b[A\n",
      "Epoch 106: 100%|████████████████████████| 1/1 [00:00<00:00, 145.00it/s, v_num=3, train/loss=0.718, train/loss_rec=0.718]            \u001b[A\n",
      "Validation: |                                                                                                 | 0/? [00:00<?, ?it/s]\u001b[A\n",
      "Validation:   0%|                                                                                             | 0/1 [00:00<?, ?it/s]\u001b[A\n",
      "Validation DataLoader 0:   0%|                                                                                | 0/1 [00:00<?, ?it/s]\u001b[A\n",
      "Validation DataLoader 0: 100%|███████████████████████████████████████████████████████████████████████| 1/1 [00:00<00:00, 116.99it/s]\u001b[A\n",
      "Validation DataLoader 0:   0%|                                                                                | 0/1 [00:00<?, ?it/s]\u001b[A\n",
      "Validation DataLoader 1:   0%|                                                                                | 0/1 [00:00<?, ?it/s]\u001b[A\n",
      "Validation DataLoader 1: 100%|███████████████████████████████████████████████████████████████████████| 1/1 [00:00<00:00, 129.28it/s]\u001b[A\n",
      "Epoch 107: 100%|████████████████████████| 1/1 [00:00<00:00, 144.25it/s, v_num=3, train/loss=0.716, train/loss_rec=0.716]            \u001b[A\n",
      "Validation: |                                                                                                 | 0/? [00:00<?, ?it/s]\u001b[A\n",
      "Validation:   0%|                                                                                             | 0/1 [00:00<?, ?it/s]\u001b[A\n",
      "Validation DataLoader 0:   0%|                                                                                | 0/1 [00:00<?, ?it/s]\u001b[A\n",
      "Validation DataLoader 0: 100%|███████████████████████████████████████████████████████████████████████| 1/1 [00:00<00:00, 116.49it/s]\u001b[A\n",
      "Validation DataLoader 0:   0%|                                                                                | 0/1 [00:00<?, ?it/s]\u001b[A\n",
      "Validation DataLoader 1:   0%|                                                                                | 0/1 [00:00<?, ?it/s]\u001b[A\n",
      "Validation DataLoader 1: 100%|███████████████████████████████████████████████████████████████████████| 1/1 [00:00<00:00, 127.39it/s]\u001b[A\n",
      "Epoch 108: 100%|████████████████████████| 1/1 [00:00<00:00, 141.58it/s, v_num=3, train/loss=0.718, train/loss_rec=0.718]            \u001b[A\n",
      "Validation: |                                                                                                 | 0/? [00:00<?, ?it/s]\u001b[A\n",
      "Validation:   0%|                                                                                             | 0/1 [00:00<?, ?it/s]\u001b[A\n",
      "Validation DataLoader 0:   0%|                                                                                | 0/1 [00:00<?, ?it/s]\u001b[A\n",
      "Validation DataLoader 0: 100%|███████████████████████████████████████████████████████████████████████| 1/1 [00:00<00:00, 116.13it/s]\u001b[A\n",
      "Validation DataLoader 0:   0%|                                                                                | 0/1 [00:00<?, ?it/s]\u001b[A\n",
      "Validation DataLoader 1:   0%|                                                                                | 0/1 [00:00<?, ?it/s]\u001b[A\n",
      "Validation DataLoader 1: 100%|███████████████████████████████████████████████████████████████████████| 1/1 [00:00<00:00, 128.04it/s]\u001b[A\n",
      "Epoch 109: 100%|████████████████████████| 1/1 [00:00<00:00, 143.85it/s, v_num=3, train/loss=0.714, train/loss_rec=0.714]            \u001b[A\n",
      "Validation: |                                                                                                 | 0/? [00:00<?, ?it/s]\u001b[A\n",
      "Validation:   0%|                                                                                             | 0/1 [00:00<?, ?it/s]\u001b[A\n",
      "Validation DataLoader 0:   0%|                                                                                | 0/1 [00:00<?, ?it/s]\u001b[A\n",
      "Validation DataLoader 0: 100%|███████████████████████████████████████████████████████████████████████| 1/1 [00:00<00:00, 115.52it/s]\u001b[A\n",
      "Validation DataLoader 0:   0%|                                                                                | 0/1 [00:00<?, ?it/s]\u001b[A\n",
      "Validation DataLoader 1:   0%|                                                                                | 0/1 [00:00<?, ?it/s]\u001b[A\n",
      "Validation DataLoader 1: 100%|███████████████████████████████████████████████████████████████████████| 1/1 [00:00<00:00, 127.45it/s]\u001b[A\n",
      "Epoch 110: 100%|████████████████████████| 1/1 [00:00<00:00, 140.17it/s, v_num=3, train/loss=0.715, train/loss_rec=0.715]            \u001b[A\n",
      "Validation: |                                                                                                 | 0/? [00:00<?, ?it/s]\u001b[A\n",
      "Validation:   0%|                                                                                             | 0/1 [00:00<?, ?it/s]\u001b[A\n",
      "Validation DataLoader 0:   0%|                                                                                | 0/1 [00:00<?, ?it/s]\u001b[A\n",
      "Validation DataLoader 0: 100%|███████████████████████████████████████████████████████████████████████| 1/1 [00:00<00:00, 115.54it/s]\u001b[A\n",
      "Validation DataLoader 0:   0%|                                                                                | 0/1 [00:00<?, ?it/s]\u001b[A\n",
      "Validation DataLoader 1:   0%|                                                                                | 0/1 [00:00<?, ?it/s]\u001b[A\n",
      "Validation DataLoader 1: 100%|███████████████████████████████████████████████████████████████████████| 1/1 [00:00<00:00, 127.77it/s]\u001b[A\n",
      "Epoch 111: 100%|████████████████████████| 1/1 [00:00<00:00, 141.62it/s, v_num=3, train/loss=0.714, train/loss_rec=0.714]            \u001b[A\n",
      "Validation: |                                                                                                 | 0/? [00:00<?, ?it/s]\u001b[A\n",
      "Validation:   0%|                                                                                             | 0/1 [00:00<?, ?it/s]\u001b[A\n",
      "Validation DataLoader 0:   0%|                                                                                | 0/1 [00:00<?, ?it/s]\u001b[A\n",
      "Validation DataLoader 0: 100%|███████████████████████████████████████████████████████████████████████| 1/1 [00:00<00:00, 117.10it/s]\u001b[A\n",
      "Validation DataLoader 0:   0%|                                                                                | 0/1 [00:00<?, ?it/s]\u001b[A\n",
      "Validation DataLoader 1:   0%|                                                                                | 0/1 [00:00<?, ?it/s]\u001b[A\n",
      "Validation DataLoader 1: 100%|███████████████████████████████████████████████████████████████████████| 1/1 [00:00<00:00, 130.65it/s]\u001b[A\n",
      "Epoch 112: 100%|████████████████████████| 1/1 [00:00<00:00, 141.56it/s, v_num=3, train/loss=0.710, train/loss_rec=0.710]            \u001b[A\n",
      "Validation: |                                                                                                 | 0/? [00:00<?, ?it/s]\u001b[A\n",
      "Validation:   0%|                                                                                             | 0/1 [00:00<?, ?it/s]\u001b[A\n",
      "Validation DataLoader 0:   0%|                                                                                | 0/1 [00:00<?, ?it/s]\u001b[A\n",
      "Validation DataLoader 0: 100%|███████████████████████████████████████████████████████████████████████| 1/1 [00:00<00:00, 114.64it/s]\u001b[A\n",
      "Validation DataLoader 0:   0%|                                                                                | 0/1 [00:00<?, ?it/s]\u001b[A\n",
      "Validation DataLoader 1:   0%|                                                                                | 0/1 [00:00<?, ?it/s]\u001b[A\n",
      "Validation DataLoader 1: 100%|███████████████████████████████████████████████████████████████████████| 1/1 [00:00<00:00, 129.40it/s]\u001b[A\n",
      "Epoch 113: 100%|████████████████████████| 1/1 [00:00<00:00, 144.59it/s, v_num=3, train/loss=0.715, train/loss_rec=0.715]            \u001b[A\n",
      "Validation: |                                                                                                 | 0/? [00:00<?, ?it/s]\u001b[A\n",
      "Validation:   0%|                                                                                             | 0/1 [00:00<?, ?it/s]\u001b[A\n",
      "Validation DataLoader 0:   0%|                                                                                | 0/1 [00:00<?, ?it/s]\u001b[A\n",
      "Validation DataLoader 0: 100%|███████████████████████████████████████████████████████████████████████| 1/1 [00:00<00:00, 114.68it/s]\u001b[A\n",
      "Validation DataLoader 0:   0%|                                                                                | 0/1 [00:00<?, ?it/s]\u001b[A\n",
      "Validation DataLoader 1:   0%|                                                                                | 0/1 [00:00<?, ?it/s]\u001b[A\n",
      "Validation DataLoader 1: 100%|███████████████████████████████████████████████████████████████████████| 1/1 [00:00<00:00, 126.01it/s]\u001b[A\n",
      "Epoch 114: 100%|████████████████████████| 1/1 [00:00<00:00, 145.65it/s, v_num=3, train/loss=0.713, train/loss_rec=0.713]            \u001b[A\n",
      "Validation: |                                                                                                 | 0/? [00:00<?, ?it/s]\u001b[A\n",
      "Validation:   0%|                                                                                             | 0/1 [00:00<?, ?it/s]\u001b[A\n",
      "Validation DataLoader 0:   0%|                                                                                | 0/1 [00:00<?, ?it/s]\u001b[A\n",
      "Validation DataLoader 0: 100%|███████████████████████████████████████████████████████████████████████| 1/1 [00:00<00:00, 115.35it/s]\u001b[A\n",
      "Validation DataLoader 0:   0%|                                                                                | 0/1 [00:00<?, ?it/s]\u001b[A\n",
      "Validation DataLoader 1:   0%|                                                                                | 0/1 [00:00<?, ?it/s]\u001b[A\n",
      "Validation DataLoader 1: 100%|███████████████████████████████████████████████████████████████████████| 1/1 [00:00<00:00, 127.79it/s]\u001b[A\n",
      "Epoch 115: 100%|████████████████████████| 1/1 [00:00<00:00, 135.67it/s, v_num=3, train/loss=0.712, train/loss_rec=0.712]            \u001b[A\n",
      "Validation: |                                                                                                 | 0/? [00:00<?, ?it/s]\u001b[A\n",
      "Validation:   0%|                                                                                             | 0/1 [00:00<?, ?it/s]\u001b[A\n",
      "Validation DataLoader 0:   0%|                                                                                | 0/1 [00:00<?, ?it/s]\u001b[A\n",
      "Validation DataLoader 0: 100%|███████████████████████████████████████████████████████████████████████| 1/1 [00:00<00:00, 116.67it/s]\u001b[A\n",
      "Validation DataLoader 0:   0%|                                                                                | 0/1 [00:00<?, ?it/s]\u001b[A\n",
      "Validation DataLoader 1:   0%|                                                                                | 0/1 [00:00<?, ?it/s]\u001b[A\n",
      "Validation DataLoader 1: 100%|███████████████████████████████████████████████████████████████████████| 1/1 [00:00<00:00, 129.45it/s]\u001b[A\n",
      "Epoch 116: 100%|████████████████████████| 1/1 [00:00<00:00, 140.15it/s, v_num=3, train/loss=0.710, train/loss_rec=0.710]            \u001b[A\n",
      "Validation: |                                                                                                 | 0/? [00:00<?, ?it/s]\u001b[A\n",
      "Validation:   0%|                                                                                             | 0/1 [00:00<?, ?it/s]\u001b[A\n",
      "Validation DataLoader 0:   0%|                                                                                | 0/1 [00:00<?, ?it/s]\u001b[A\n",
      "Validation DataLoader 0: 100%|███████████████████████████████████████████████████████████████████████| 1/1 [00:00<00:00, 115.62it/s]\u001b[A\n",
      "Validation DataLoader 0:   0%|                                                                                | 0/1 [00:00<?, ?it/s]\u001b[A\n",
      "Validation DataLoader 1:   0%|                                                                                | 0/1 [00:00<?, ?it/s]\u001b[A\n",
      "Validation DataLoader 1: 100%|███████████████████████████████████████████████████████████████████████| 1/1 [00:00<00:00, 128.95it/s]\u001b[A\n",
      "Epoch 117: 100%|████████████████████████| 1/1 [00:00<00:00, 146.31it/s, v_num=3, train/loss=0.712, train/loss_rec=0.712]            \u001b[A\n",
      "Validation: |                                                                                                 | 0/? [00:00<?, ?it/s]\u001b[A\n",
      "Validation:   0%|                                                                                             | 0/1 [00:00<?, ?it/s]\u001b[A\n",
      "Validation DataLoader 0:   0%|                                                                                | 0/1 [00:00<?, ?it/s]\u001b[A\n",
      "Validation DataLoader 0: 100%|███████████████████████████████████████████████████████████████████████| 1/1 [00:00<00:00, 116.72it/s]\u001b[A\n",
      "Validation DataLoader 0:   0%|                                                                                | 0/1 [00:00<?, ?it/s]\u001b[A\n",
      "Validation DataLoader 1:   0%|                                                                                | 0/1 [00:00<?, ?it/s]\u001b[A\n",
      "Validation DataLoader 1: 100%|███████████████████████████████████████████████████████████████████████| 1/1 [00:00<00:00, 130.35it/s]\u001b[A\n",
      "Epoch 118: 100%|████████████████████████| 1/1 [00:00<00:00, 145.53it/s, v_num=3, train/loss=0.712, train/loss_rec=0.712]            \u001b[A\n",
      "Validation: |                                                                                                 | 0/? [00:00<?, ?it/s]\u001b[A\n",
      "Validation:   0%|                                                                                             | 0/1 [00:00<?, ?it/s]\u001b[A\n",
      "Validation DataLoader 0:   0%|                                                                                | 0/1 [00:00<?, ?it/s]\u001b[A\n",
      "Validation DataLoader 0: 100%|███████████████████████████████████████████████████████████████████████| 1/1 [00:00<00:00, 116.39it/s]\u001b[A\n",
      "Validation DataLoader 0:   0%|                                                                                | 0/1 [00:00<?, ?it/s]\u001b[A\n",
      "Validation DataLoader 1:   0%|                                                                                | 0/1 [00:00<?, ?it/s]\u001b[A\n",
      "Validation DataLoader 1: 100%|███████████████████████████████████████████████████████████████████████| 1/1 [00:00<00:00, 128.42it/s]\u001b[A\n",
      "Epoch 119: 100%|████████████████████████| 1/1 [00:00<00:00, 145.88it/s, v_num=3, train/loss=0.710, train/loss_rec=0.710]            \u001b[A\n",
      "Validation: |                                                                                                 | 0/? [00:00<?, ?it/s]\u001b[A\n",
      "Validation:   0%|                                                                                             | 0/1 [00:00<?, ?it/s]\u001b[A\n",
      "Validation DataLoader 0:   0%|                                                                                | 0/1 [00:00<?, ?it/s]\u001b[A\n",
      "Validation DataLoader 0: 100%|███████████████████████████████████████████████████████████████████████| 1/1 [00:00<00:00, 116.73it/s]\u001b[A\n",
      "Validation DataLoader 0:   0%|                                                                                | 0/1 [00:00<?, ?it/s]\u001b[A\n",
      "Validation DataLoader 1:   0%|                                                                                | 0/1 [00:00<?, ?it/s]\u001b[A\n",
      "Validation DataLoader 1: 100%|███████████████████████████████████████████████████████████████████████| 1/1 [00:00<00:00, 127.90it/s]\u001b[A\n",
      "Epoch 120: 100%|████████████████████████| 1/1 [00:00<00:00, 145.69it/s, v_num=3, train/loss=0.706, train/loss_rec=0.706]            \u001b[A\n",
      "Validation: |                                                                                                 | 0/? [00:00<?, ?it/s]\u001b[A\n",
      "Validation:   0%|                                                                                             | 0/1 [00:00<?, ?it/s]\u001b[A\n",
      "Validation DataLoader 0:   0%|                                                                                | 0/1 [00:00<?, ?it/s]\u001b[A\n",
      "Validation DataLoader 0: 100%|███████████████████████████████████████████████████████████████████████| 1/1 [00:00<00:00, 116.93it/s]\u001b[A\n",
      "Validation DataLoader 0:   0%|                                                                                | 0/1 [00:00<?, ?it/s]\u001b[A\n",
      "Validation DataLoader 1:   0%|                                                                                | 0/1 [00:00<?, ?it/s]\u001b[A\n",
      "Validation DataLoader 1: 100%|███████████████████████████████████████████████████████████████████████| 1/1 [00:00<00:00, 128.55it/s]\u001b[A\n",
      "Epoch 121: 100%|████████████████████████| 1/1 [00:00<00:00, 143.02it/s, v_num=3, train/loss=0.713, train/loss_rec=0.713]            \u001b[A\n",
      "Validation: |                                                                                                 | 0/? [00:00<?, ?it/s]\u001b[A\n",
      "Validation:   0%|                                                                                             | 0/1 [00:00<?, ?it/s]\u001b[A\n",
      "Validation DataLoader 0:   0%|                                                                                | 0/1 [00:00<?, ?it/s]\u001b[A\n",
      "Validation DataLoader 0: 100%|███████████████████████████████████████████████████████████████████████| 1/1 [00:00<00:00, 115.10it/s]\u001b[A\n",
      "Validation DataLoader 0:   0%|                                                                                | 0/1 [00:00<?, ?it/s]\u001b[A\n",
      "Validation DataLoader 1:   0%|                                                                                | 0/1 [00:00<?, ?it/s]\u001b[A\n",
      "Validation DataLoader 1: 100%|███████████████████████████████████████████████████████████████████████| 1/1 [00:00<00:00, 128.69it/s]\u001b[A\n",
      "Epoch 122: 100%|████████████████████████| 1/1 [00:00<00:00, 135.93it/s, v_num=3, train/loss=0.708, train/loss_rec=0.708]            \u001b[A\n",
      "Validation: |                                                                                                 | 0/? [00:00<?, ?it/s]\u001b[A\n",
      "Validation:   0%|                                                                                             | 0/1 [00:00<?, ?it/s]\u001b[A\n",
      "Validation DataLoader 0:   0%|                                                                                | 0/1 [00:00<?, ?it/s]\u001b[A\n",
      "Validation DataLoader 0: 100%|███████████████████████████████████████████████████████████████████████| 1/1 [00:00<00:00, 115.11it/s]\u001b[A\n",
      "Validation DataLoader 0:   0%|                                                                                | 0/1 [00:00<?, ?it/s]\u001b[A\n",
      "Validation DataLoader 1:   0%|                                                                                | 0/1 [00:00<?, ?it/s]\u001b[A\n",
      "Validation DataLoader 1: 100%|███████████████████████████████████████████████████████████████████████| 1/1 [00:00<00:00, 129.04it/s]\u001b[A\n",
      "Epoch 123: 100%|████████████████████████| 1/1 [00:00<00:00, 146.29it/s, v_num=3, train/loss=0.708, train/loss_rec=0.708]            \u001b[A\n",
      "Validation: |                                                                                                 | 0/? [00:00<?, ?it/s]\u001b[A\n",
      "Validation:   0%|                                                                                             | 0/1 [00:00<?, ?it/s]\u001b[A\n",
      "Validation DataLoader 0:   0%|                                                                                | 0/1 [00:00<?, ?it/s]\u001b[A\n",
      "Validation DataLoader 0: 100%|███████████████████████████████████████████████████████████████████████| 1/1 [00:00<00:00, 116.10it/s]\u001b[A\n",
      "Validation DataLoader 0:   0%|                                                                                | 0/1 [00:00<?, ?it/s]\u001b[A\n",
      "Validation DataLoader 1:   0%|                                                                                | 0/1 [00:00<?, ?it/s]\u001b[A\n",
      "Validation DataLoader 1: 100%|███████████████████████████████████████████████████████████████████████| 1/1 [00:00<00:00, 129.55it/s]\u001b[A\n",
      "Epoch 124: 100%|████████████████████████| 1/1 [00:00<00:00, 142.51it/s, v_num=3, train/loss=0.705, train/loss_rec=0.705]            \u001b[A\n",
      "Validation: |                                                                                                 | 0/? [00:00<?, ?it/s]\u001b[A\n",
      "Validation:   0%|                                                                                             | 0/1 [00:00<?, ?it/s]\u001b[A\n",
      "Validation DataLoader 0:   0%|                                                                                | 0/1 [00:00<?, ?it/s]\u001b[A\n",
      "Validation DataLoader 0: 100%|███████████████████████████████████████████████████████████████████████| 1/1 [00:00<00:00, 116.34it/s]\u001b[A\n",
      "Validation DataLoader 0:   0%|                                                                                | 0/1 [00:00<?, ?it/s]\u001b[A\n",
      "Validation DataLoader 1:   0%|                                                                                | 0/1 [00:00<?, ?it/s]\u001b[A\n",
      "Validation DataLoader 1: 100%|███████████████████████████████████████████████████████████████████████| 1/1 [00:00<00:00, 127.94it/s]\u001b[A\n",
      "Epoch 125: 100%|████████████████████████| 1/1 [00:00<00:00, 135.90it/s, v_num=3, train/loss=0.712, train/loss_rec=0.712]            \u001b[A\n",
      "Validation: |                                                                                                 | 0/? [00:00<?, ?it/s]\u001b[A\n",
      "Validation:   0%|                                                                                             | 0/1 [00:00<?, ?it/s]\u001b[A\n",
      "Validation DataLoader 0:   0%|                                                                                | 0/1 [00:00<?, ?it/s]\u001b[A\n",
      "Validation DataLoader 0: 100%|███████████████████████████████████████████████████████████████████████| 1/1 [00:00<00:00, 115.60it/s]\u001b[A\n",
      "Validation DataLoader 0:   0%|                                                                                | 0/1 [00:00<?, ?it/s]\u001b[A\n",
      "Validation DataLoader 1:   0%|                                                                                | 0/1 [00:00<?, ?it/s]\u001b[A\n",
      "Validation DataLoader 1: 100%|███████████████████████████████████████████████████████████████████████| 1/1 [00:00<00:00, 128.79it/s]\u001b[A\n",
      "Epoch 126: 100%|████████████████████████| 1/1 [00:00<00:00, 146.22it/s, v_num=3, train/loss=0.710, train/loss_rec=0.710]            \u001b[A\n",
      "Validation: |                                                                                                 | 0/? [00:00<?, ?it/s]\u001b[A\n",
      "Validation:   0%|                                                                                             | 0/1 [00:00<?, ?it/s]\u001b[A\n",
      "Validation DataLoader 0:   0%|                                                                                | 0/1 [00:00<?, ?it/s]\u001b[A\n",
      "Validation DataLoader 0: 100%|███████████████████████████████████████████████████████████████████████| 1/1 [00:00<00:00, 115.06it/s]\u001b[A\n",
      "Validation DataLoader 0:   0%|                                                                                | 0/1 [00:00<?, ?it/s]\u001b[A\n",
      "Validation DataLoader 1:   0%|                                                                                | 0/1 [00:00<?, ?it/s]\u001b[A\n",
      "Validation DataLoader 1: 100%|███████████████████████████████████████████████████████████████████████| 1/1 [00:00<00:00, 127.55it/s]\u001b[A\n",
      "Epoch 127: 100%|████████████████████████| 1/1 [00:00<00:00, 144.74it/s, v_num=3, train/loss=0.709, train/loss_rec=0.709]            \u001b[A\n",
      "Validation: |                                                                                                 | 0/? [00:00<?, ?it/s]\u001b[A\n",
      "Validation:   0%|                                                                                             | 0/1 [00:00<?, ?it/s]\u001b[A\n",
      "Validation DataLoader 0:   0%|                                                                                | 0/1 [00:00<?, ?it/s]\u001b[A\n",
      "Validation DataLoader 0: 100%|███████████████████████████████████████████████████████████████████████| 1/1 [00:00<00:00, 115.61it/s]\u001b[A\n",
      "Validation DataLoader 0:   0%|                                                                                | 0/1 [00:00<?, ?it/s]\u001b[A\n",
      "Validation DataLoader 1:   0%|                                                                                | 0/1 [00:00<?, ?it/s]\u001b[A\n",
      "Validation DataLoader 1: 100%|███████████████████████████████████████████████████████████████████████| 1/1 [00:00<00:00, 128.04it/s]\u001b[A\n",
      "Epoch 128: 100%|████████████████████████| 1/1 [00:00<00:00, 144.85it/s, v_num=3, train/loss=0.708, train/loss_rec=0.708]            \u001b[A\n",
      "Validation: |                                                                                                 | 0/? [00:00<?, ?it/s]\u001b[A\n",
      "Validation:   0%|                                                                                             | 0/1 [00:00<?, ?it/s]\u001b[A\n",
      "Validation DataLoader 0:   0%|                                                                                | 0/1 [00:00<?, ?it/s]\u001b[A\n",
      "Validation DataLoader 0: 100%|███████████████████████████████████████████████████████████████████████| 1/1 [00:00<00:00, 115.01it/s]\u001b[A\n",
      "Validation DataLoader 0:   0%|                                                                                | 0/1 [00:00<?, ?it/s]\u001b[A\n",
      "Validation DataLoader 1:   0%|                                                                                | 0/1 [00:00<?, ?it/s]\u001b[A\n",
      "Validation DataLoader 1: 100%|███████████████████████████████████████████████████████████████████████| 1/1 [00:00<00:00, 128.98it/s]\u001b[A\n",
      "Epoch 129: 100%|████████████████████████| 1/1 [00:00<00:00, 149.44it/s, v_num=3, train/loss=0.714, train/loss_rec=0.714]            \u001b[A\n",
      "Validation: |                                                                                                 | 0/? [00:00<?, ?it/s]\u001b[A\n",
      "Validation:   0%|                                                                                             | 0/1 [00:00<?, ?it/s]\u001b[A\n",
      "Validation DataLoader 0:   0%|                                                                                | 0/1 [00:00<?, ?it/s]\u001b[A\n",
      "Validation DataLoader 0: 100%|███████████████████████████████████████████████████████████████████████| 1/1 [00:00<00:00, 113.11it/s]\u001b[A\n",
      "Validation DataLoader 0:   0%|                                                                                | 0/1 [00:00<?, ?it/s]\u001b[A\n",
      "Validation DataLoader 1:   0%|                                                                                | 0/1 [00:00<?, ?it/s]\u001b[A\n",
      "Validation DataLoader 1: 100%|███████████████████████████████████████████████████████████████████████| 1/1 [00:00<00:00, 126.30it/s]\u001b[A\n",
      "Epoch 130: 100%|████████████████████████| 1/1 [00:00<00:00, 149.40it/s, v_num=3, train/loss=0.703, train/loss_rec=0.703]            \u001b[A\n",
      "Validation: |                                                                                                 | 0/? [00:00<?, ?it/s]\u001b[A\n",
      "Validation:   0%|                                                                                             | 0/1 [00:00<?, ?it/s]\u001b[A\n",
      "Validation DataLoader 0:   0%|                                                                                | 0/1 [00:00<?, ?it/s]\u001b[A\n",
      "Validation DataLoader 0: 100%|███████████████████████████████████████████████████████████████████████| 1/1 [00:00<00:00, 116.19it/s]\u001b[A\n",
      "Validation DataLoader 0:   0%|                                                                                | 0/1 [00:00<?, ?it/s]\u001b[A\n",
      "Validation DataLoader 1:   0%|                                                                                | 0/1 [00:00<?, ?it/s]\u001b[A\n",
      "Validation DataLoader 1: 100%|███████████████████████████████████████████████████████████████████████| 1/1 [00:00<00:00, 130.47it/s]\u001b[A\n",
      "Epoch 131: 100%|████████████████████████| 1/1 [00:00<00:00, 144.69it/s, v_num=3, train/loss=0.705, train/loss_rec=0.705]            \u001b[A\n",
      "Validation: |                                                                                                 | 0/? [00:00<?, ?it/s]\u001b[A\n",
      "Validation:   0%|                                                                                             | 0/1 [00:00<?, ?it/s]\u001b[A\n",
      "Validation DataLoader 0:   0%|                                                                                | 0/1 [00:00<?, ?it/s]\u001b[A\n",
      "Validation DataLoader 0: 100%|███████████████████████████████████████████████████████████████████████| 1/1 [00:00<00:00, 117.25it/s]\u001b[A\n",
      "Validation DataLoader 0:   0%|                                                                                | 0/1 [00:00<?, ?it/s]\u001b[A\n",
      "Validation DataLoader 1:   0%|                                                                                | 0/1 [00:00<?, ?it/s]\u001b[A\n",
      "Validation DataLoader 1: 100%|███████████████████████████████████████████████████████████████████████| 1/1 [00:00<00:00, 130.66it/s]\u001b[A\n",
      "Epoch 132: 100%|█████████████████████████| 1/1 [00:00<00:00, 92.52it/s, v_num=3, train/loss=0.706, train/loss_rec=0.706]            \u001b[A\n",
      "Validation: |                                                                                                 | 0/? [00:00<?, ?it/s]\u001b[A\n",
      "Validation:   0%|                                                                                             | 0/1 [00:00<?, ?it/s]\u001b[A\n",
      "Validation DataLoader 0:   0%|                                                                                | 0/1 [00:00<?, ?it/s]\u001b[A\n",
      "Validation DataLoader 0: 100%|███████████████████████████████████████████████████████████████████████| 1/1 [00:00<00:00, 118.55it/s]\u001b[A\n",
      "Validation DataLoader 0:   0%|                                                                                | 0/1 [00:00<?, ?it/s]\u001b[A\n",
      "Validation DataLoader 1:   0%|                                                                                | 0/1 [00:00<?, ?it/s]\u001b[A\n",
      "Validation DataLoader 1: 100%|███████████████████████████████████████████████████████████████████████| 1/1 [00:00<00:00, 131.99it/s]\u001b[A\n",
      "Epoch 133: 100%|████████████████████████| 1/1 [00:00<00:00, 149.11it/s, v_num=3, train/loss=0.707, train/loss_rec=0.707]            \u001b[A\n",
      "Validation: |                                                                                                 | 0/? [00:00<?, ?it/s]\u001b[A\n",
      "Validation:   0%|                                                                                             | 0/1 [00:00<?, ?it/s]\u001b[A\n",
      "Validation DataLoader 0:   0%|                                                                                | 0/1 [00:00<?, ?it/s]\u001b[A\n",
      "Validation DataLoader 0: 100%|███████████████████████████████████████████████████████████████████████| 1/1 [00:00<00:00, 117.84it/s]\u001b[A\n",
      "Validation DataLoader 0:   0%|                                                                                | 0/1 [00:00<?, ?it/s]\u001b[A\n",
      "Validation DataLoader 1:   0%|                                                                                | 0/1 [00:00<?, ?it/s]\u001b[A\n",
      "Validation DataLoader 1: 100%|███████████████████████████████████████████████████████████████████████| 1/1 [00:00<00:00, 129.16it/s]\u001b[A\n",
      "Epoch 134: 100%|████████████████████████| 1/1 [00:00<00:00, 149.99it/s, v_num=3, train/loss=0.703, train/loss_rec=0.703]            \u001b[A\n",
      "Validation: |                                                                                                 | 0/? [00:00<?, ?it/s]\u001b[A\n",
      "Validation:   0%|                                                                                             | 0/1 [00:00<?, ?it/s]\u001b[A\n",
      "Validation DataLoader 0:   0%|                                                                                | 0/1 [00:00<?, ?it/s]\u001b[A\n",
      "Validation DataLoader 0: 100%|███████████████████████████████████████████████████████████████████████| 1/1 [00:00<00:00, 117.44it/s]\u001b[A\n",
      "Validation DataLoader 0:   0%|                                                                                | 0/1 [00:00<?, ?it/s]\u001b[A\n",
      "Validation DataLoader 1:   0%|                                                                                | 0/1 [00:00<?, ?it/s]\u001b[A\n",
      "Validation DataLoader 1: 100%|███████████████████████████████████████████████████████████████████████| 1/1 [00:00<00:00, 130.21it/s]\u001b[A\n",
      "Epoch 135: 100%|████████████████████████| 1/1 [00:00<00:00, 146.62it/s, v_num=3, train/loss=0.701, train/loss_rec=0.701]            \u001b[A\n",
      "Validation: |                                                                                                 | 0/? [00:00<?, ?it/s]\u001b[A\n",
      "Validation:   0%|                                                                                             | 0/1 [00:00<?, ?it/s]\u001b[A\n",
      "Validation DataLoader 0:   0%|                                                                                | 0/1 [00:00<?, ?it/s]\u001b[A\n",
      "Validation DataLoader 0: 100%|███████████████████████████████████████████████████████████████████████| 1/1 [00:00<00:00, 117.35it/s]\u001b[A\n",
      "Validation DataLoader 0:   0%|                                                                                | 0/1 [00:00<?, ?it/s]\u001b[A\n",
      "Validation DataLoader 1:   0%|                                                                                | 0/1 [00:00<?, ?it/s]\u001b[A\n",
      "Validation DataLoader 1: 100%|███████████████████████████████████████████████████████████████████████| 1/1 [00:00<00:00, 130.47it/s]\u001b[A\n",
      "Epoch 136: 100%|████████████████████████| 1/1 [00:00<00:00, 143.66it/s, v_num=3, train/loss=0.701, train/loss_rec=0.701]            \u001b[A\n",
      "Validation: |                                                                                                 | 0/? [00:00<?, ?it/s]\u001b[A\n",
      "Validation:   0%|                                                                                             | 0/1 [00:00<?, ?it/s]\u001b[A\n",
      "Validation DataLoader 0:   0%|                                                                                | 0/1 [00:00<?, ?it/s]\u001b[A\n",
      "Validation DataLoader 0: 100%|███████████████████████████████████████████████████████████████████████| 1/1 [00:00<00:00, 117.44it/s]\u001b[A\n",
      "Validation DataLoader 0:   0%|                                                                                | 0/1 [00:00<?, ?it/s]\u001b[A\n",
      "Validation DataLoader 1:   0%|                                                                                | 0/1 [00:00<?, ?it/s]\u001b[A\n",
      "Validation DataLoader 1: 100%|███████████████████████████████████████████████████████████████████████| 1/1 [00:00<00:00, 131.06it/s]\u001b[A\n",
      "Epoch 137: 100%|████████████████████████| 1/1 [00:00<00:00, 144.39it/s, v_num=3, train/loss=0.699, train/loss_rec=0.699]            \u001b[A\n",
      "Validation: |                                                                                                 | 0/? [00:00<?, ?it/s]\u001b[A\n",
      "Validation:   0%|                                                                                             | 0/1 [00:00<?, ?it/s]\u001b[A\n",
      "Validation DataLoader 0:   0%|                                                                                | 0/1 [00:00<?, ?it/s]\u001b[A\n",
      "Validation DataLoader 0: 100%|███████████████████████████████████████████████████████████████████████| 1/1 [00:00<00:00, 116.89it/s]\u001b[A\n",
      "Validation DataLoader 0:   0%|                                                                                | 0/1 [00:00<?, ?it/s]\u001b[A\n",
      "Validation DataLoader 1:   0%|                                                                                | 0/1 [00:00<?, ?it/s]\u001b[A\n",
      "Validation DataLoader 1: 100%|███████████████████████████████████████████████████████████████████████| 1/1 [00:00<00:00, 131.30it/s]\u001b[A\n",
      "Epoch 138: 100%|████████████████████████| 1/1 [00:00<00:00, 145.97it/s, v_num=3, train/loss=0.703, train/loss_rec=0.703]            \u001b[A\n",
      "Validation: |                                                                                                 | 0/? [00:00<?, ?it/s]\u001b[A\n",
      "Validation:   0%|                                                                                             | 0/1 [00:00<?, ?it/s]\u001b[A\n",
      "Validation DataLoader 0:   0%|                                                                                | 0/1 [00:00<?, ?it/s]\u001b[A\n",
      "Validation DataLoader 0: 100%|███████████████████████████████████████████████████████████████████████| 1/1 [00:00<00:00, 117.47it/s]\u001b[A\n",
      "Validation DataLoader 0:   0%|                                                                                | 0/1 [00:00<?, ?it/s]\u001b[A\n",
      "Validation DataLoader 1:   0%|                                                                                | 0/1 [00:00<?, ?it/s]\u001b[A\n",
      "Validation DataLoader 1: 100%|███████████████████████████████████████████████████████████████████████| 1/1 [00:00<00:00, 130.73it/s]\u001b[A\n",
      "Epoch 139: 100%|████████████████████████| 1/1 [00:00<00:00, 130.23it/s, v_num=3, train/loss=0.702, train/loss_rec=0.702]            \u001b[A\n",
      "Validation: |                                                                                                 | 0/? [00:00<?, ?it/s]\u001b[A\n",
      "Validation:   0%|                                                                                             | 0/1 [00:00<?, ?it/s]\u001b[A\n",
      "Validation DataLoader 0:   0%|                                                                                | 0/1 [00:00<?, ?it/s]\u001b[A\n",
      "Validation DataLoader 0: 100%|███████████████████████████████████████████████████████████████████████| 1/1 [00:00<00:00, 110.11it/s]\u001b[A\n",
      "Validation DataLoader 0:   0%|                                                                                | 0/1 [00:00<?, ?it/s]\u001b[A\n",
      "Validation DataLoader 1:   0%|                                                                                | 0/1 [00:00<?, ?it/s]\u001b[A\n",
      "Validation DataLoader 1: 100%|███████████████████████████████████████████████████████████████████████| 1/1 [00:00<00:00, 119.27it/s]\u001b[A\n",
      "Epoch 140: 100%|████████████████████████| 1/1 [00:00<00:00, 125.62it/s, v_num=3, train/loss=0.700, train/loss_rec=0.700]            \u001b[A\n",
      "Validation: |                                                                                                 | 0/? [00:00<?, ?it/s]\u001b[A\n",
      "Validation:   0%|                                                                                             | 0/1 [00:00<?, ?it/s]\u001b[A\n",
      "Validation DataLoader 0:   0%|                                                                                | 0/1 [00:00<?, ?it/s]\u001b[A\n",
      "Validation DataLoader 0: 100%|███████████████████████████████████████████████████████████████████████| 1/1 [00:00<00:00, 103.34it/s]\u001b[A\n",
      "Validation DataLoader 0:   0%|                                                                                | 0/1 [00:00<?, ?it/s]\u001b[A\n",
      "Validation DataLoader 1:   0%|                                                                                | 0/1 [00:00<?, ?it/s]\u001b[A\n",
      "Validation DataLoader 1: 100%|███████████████████████████████████████████████████████████████████████| 1/1 [00:00<00:00, 113.26it/s]\u001b[A\n",
      "Epoch 141: 100%|█████████████████████████| 1/1 [00:00<00:00, 77.17it/s, v_num=3, train/loss=0.701, train/loss_rec=0.701]            \u001b[A\n",
      "Validation: |                                                                                                 | 0/? [00:00<?, ?it/s]\u001b[A\n",
      "Validation:   0%|                                                                                             | 0/1 [00:00<?, ?it/s]\u001b[A\n",
      "Validation DataLoader 0:   0%|                                                                                | 0/1 [00:00<?, ?it/s]\u001b[A\n",
      "Validation DataLoader 0: 100%|███████████████████████████████████████████████████████████████████████| 1/1 [00:00<00:00, 104.79it/s]\u001b[A\n",
      "Validation DataLoader 0:   0%|                                                                                | 0/1 [00:00<?, ?it/s]\u001b[A\n",
      "Validation DataLoader 1:   0%|                                                                                | 0/1 [00:00<?, ?it/s]\u001b[A\n",
      "Validation DataLoader 1: 100%|███████████████████████████████████████████████████████████████████████| 1/1 [00:00<00:00, 114.93it/s]\u001b[A\n",
      "Epoch 142: 100%|████████████████████████| 1/1 [00:00<00:00, 132.29it/s, v_num=3, train/loss=0.700, train/loss_rec=0.700]            \u001b[A\n",
      "Validation: |                                                                                                 | 0/? [00:00<?, ?it/s]\u001b[A\n",
      "Validation:   0%|                                                                                             | 0/1 [00:00<?, ?it/s]\u001b[A\n",
      "Validation DataLoader 0:   0%|                                                                                | 0/1 [00:00<?, ?it/s]\u001b[A\n",
      "Validation DataLoader 0: 100%|███████████████████████████████████████████████████████████████████████| 1/1 [00:00<00:00, 105.46it/s]\u001b[A\n",
      "Validation DataLoader 0:   0%|                                                                                | 0/1 [00:00<?, ?it/s]\u001b[A\n",
      "Validation DataLoader 1:   0%|                                                                                | 0/1 [00:00<?, ?it/s]\u001b[A\n",
      "Validation DataLoader 1: 100%|███████████████████████████████████████████████████████████████████████| 1/1 [00:00<00:00, 112.07it/s]\u001b[A\n",
      "Epoch 143: 100%|████████████████████████| 1/1 [00:00<00:00, 136.06it/s, v_num=3, train/loss=0.701, train/loss_rec=0.701]            \u001b[A\n",
      "Validation: |                                                                                                 | 0/? [00:00<?, ?it/s]\u001b[A\n",
      "Validation:   0%|                                                                                             | 0/1 [00:00<?, ?it/s]\u001b[A\n",
      "Validation DataLoader 0:   0%|                                                                                | 0/1 [00:00<?, ?it/s]\u001b[A\n",
      "Validation DataLoader 0: 100%|███████████████████████████████████████████████████████████████████████| 1/1 [00:00<00:00, 105.92it/s]\u001b[A\n",
      "Validation DataLoader 0:   0%|                                                                                | 0/1 [00:00<?, ?it/s]\u001b[A\n",
      "Validation DataLoader 1:   0%|                                                                                | 0/1 [00:00<?, ?it/s]\u001b[A\n",
      "Validation DataLoader 1: 100%|███████████████████████████████████████████████████████████████████████| 1/1 [00:00<00:00, 114.98it/s]\u001b[A\n",
      "Epoch 144: 100%|████████████████████████| 1/1 [00:00<00:00, 137.95it/s, v_num=3, train/loss=0.700, train/loss_rec=0.700]            \u001b[A\n",
      "Validation: |                                                                                                 | 0/? [00:00<?, ?it/s]\u001b[A\n",
      "Validation:   0%|                                                                                             | 0/1 [00:00<?, ?it/s]\u001b[A\n",
      "Validation DataLoader 0:   0%|                                                                                | 0/1 [00:00<?, ?it/s]\u001b[A\n",
      "Validation DataLoader 0: 100%|███████████████████████████████████████████████████████████████████████| 1/1 [00:00<00:00, 113.57it/s]\u001b[A\n",
      "Validation DataLoader 0:   0%|                                                                                | 0/1 [00:00<?, ?it/s]\u001b[A\n",
      "Validation DataLoader 1:   0%|                                                                                | 0/1 [00:00<?, ?it/s]\u001b[A\n",
      "Validation DataLoader 1: 100%|███████████████████████████████████████████████████████████████████████| 1/1 [00:00<00:00, 125.80it/s]\u001b[A\n",
      "Epoch 144: 100%|█████████████████████████| 1/1 [00:00<00:00, 34.35it/s, v_num=3, train/loss=0.700, train/loss_rec=0.700]            \u001b[A"
     ]
    },
    {
     "name": "stderr",
     "output_type": "stream",
     "text": [
      "Monitored metric val/loss/dataloader_idx_0 did not improve in the last 100 records. Best score: 5.222. Signaling Trainer to stop.\n"
     ]
    },
    {
     "name": "stdout",
     "output_type": "stream",
     "text": [
      "Epoch 144: 100%|█████████████████████████| 1/1 [00:00<00:00, 18.84it/s, v_num=3, train/loss=0.700, train/loss_rec=0.700]\n"
     ]
    },
    {
     "name": "stderr",
     "output_type": "stream",
     "text": [
      "LOCAL_RANK: 0 - CUDA_VISIBLE_DEVICES: [0]\n",
      "/home/lcc/miniconda3/envs/scMultiomeGRN/lib/python3.10/site-packages/pytorch_lightning/trainer/connectors/data_connector.py:424: The 'test_dataloader' does not have many workers which may be a bottleneck. Consider increasing the value of the `num_workers` argument` to `num_workers=18` in the `DataLoader` to improve performance.\n"
     ]
    },
    {
     "name": "stdout",
     "output_type": "stream",
     "text": [
      "Testing DataLoader 0: 100%|███████████████████████████████████████████████████████████████████████████| 1/1 [00:00<00:00, 70.23it/s]\n",
      "────────────────────────────────────────────────────────────────────────────────────────────────────────────────────────\n",
      "       Test metric             DataLoader 0\n",
      "────────────────────────────────────────────────────────────────────────────────────────────────────────────────────────\n",
      "   test/last_test/acc       0.6382978558540344\n",
      "    test/last_test/ap       0.6349620223045349\n",
      "   test/last_test/aupr      0.6212827563285828\n",
      "  test/last_test/auroc      0.5966500639915466\n",
      "   test/last_test/loss       1.791685428516311\n",
      " test/last_test/loss_rec     1.791685428516311\n",
      "test/last_test/precision    0.6382978558540344\n",
      "  test/last_test/recall     0.6382978558540344\n",
      "test/last_test/threshold    0.05733952671289444\n",
      "────────────────────────────────────────────────────────────────────────────────────────────────────────────────────────\n"
     ]
    },
    {
     "name": "stderr",
     "output_type": "stream",
     "text": [
      "LOCAL_RANK: 0 - CUDA_VISIBLE_DEVICES: [0]\n",
      "/home/lcc/miniconda3/envs/scMultiomeGRN/lib/python3.10/site-packages/pytorch_lightning/trainer/connectors/data_connector.py:424: The 'test_dataloader' does not have many workers which may be a bottleneck. Consider increasing the value of the `num_workers` argument` to `num_workers=18` in the `DataLoader` to improve performance.\n"
     ]
    },
    {
     "name": "stdout",
     "output_type": "stream",
     "text": [
      "Testing DataLoader 0: 100%|███████████████████████████████████████████████████████████████████████████| 1/1 [00:00<00:00, 21.61it/s]\n",
      "────────────────────────────────────────────────────────────────────────────────────────────────────────────────────────\n",
      "       Test metric             DataLoader 0\n",
      "────────────────────────────────────────────────────────────────────────────────────────────────────────────────────────\n",
      "    test/last_all/acc       0.6500198245048523\n",
      "    test/last_all/ap         0.287090003490448\n",
      "   test/last_all/aupr       0.2854768633842468\n",
      "   test/last_all/auroc      0.6627837419509888\n",
      "   test/last_all/loss       0.7417356701421579\n",
      " test/last_all/loss_rec     0.7417356701421579\n",
      " test/last_all/precision    0.2042229026556015\n",
      "  test/last_all/recall      0.6276595592498779\n",
      " test/last_all/threshold    0.05733952671289444\n",
      "────────────────────────────────────────────────────────────────────────────────────────────────────────────────────────\n"
     ]
    },
    {
     "name": "stderr",
     "output_type": "stream",
     "text": [
      "Restoring states from the checkpoint path at lightning_logs/B_naive/scMultiomeGRN/test/split_1/lightning_logs/version_3/checkpoints/epoch=44-step=45.ckpt\n",
      "LOCAL_RANK: 0 - CUDA_VISIBLE_DEVICES: [0]\n",
      "Loaded model weights from the checkpoint at lightning_logs/B_naive/scMultiomeGRN/test/split_1/lightning_logs/version_3/checkpoints/epoch=44-step=45.ckpt\n",
      "/home/lcc/miniconda3/envs/scMultiomeGRN/lib/python3.10/site-packages/pytorch_lightning/trainer/connectors/data_connector.py:424: The 'test_dataloader' does not have many workers which may be a bottleneck. Consider increasing the value of the `num_workers` argument` to `num_workers=18` in the `DataLoader` to improve performance.\n"
     ]
    },
    {
     "name": "stdout",
     "output_type": "stream",
     "text": [
      "Testing DataLoader 0: 100%|███████████████████████████████████████████████████████████████████████████| 1/1 [00:00<00:00, 64.46it/s]\n",
      "────────────────────────────────────────────────────────────────────────────────────────────────────────────────────────\n",
      "       Test metric             DataLoader 0\n",
      "────────────────────────────────────────────────────────────────────────────────────────────────────────────────────────\n",
      "   test/best_test/acc       0.7446808218955994\n",
      "    test/best_test/ap       0.8161128163337708\n",
      "   test/best_test/aupr      0.8137375116348267\n",
      "  test/best_test/auroc      0.8107740879058838\n",
      "   test/best_test/loss      1.4928151278127075\n",
      " test/best_test/loss_rec    1.4928151278127075\n",
      "test/best_test/precision    0.7446808218955994\n",
      "  test/best_test/recall     0.7446808218955994\n",
      "test/best_test/threshold    0.5835816860198975\n",
      "────────────────────────────────────────────────────────────────────────────────────────────────────────────────────────\n"
     ]
    },
    {
     "name": "stderr",
     "output_type": "stream",
     "text": [
      "Restoring states from the checkpoint path at lightning_logs/B_naive/scMultiomeGRN/test/split_1/lightning_logs/version_3/checkpoints/epoch=44-step=45.ckpt\n",
      "LOCAL_RANK: 0 - CUDA_VISIBLE_DEVICES: [0]\n",
      "Loaded model weights from the checkpoint at lightning_logs/B_naive/scMultiomeGRN/test/split_1/lightning_logs/version_3/checkpoints/epoch=44-step=45.ckpt\n",
      "/home/lcc/miniconda3/envs/scMultiomeGRN/lib/python3.10/site-packages/pytorch_lightning/trainer/connectors/data_connector.py:424: The 'test_dataloader' does not have many workers which may be a bottleneck. Consider increasing the value of the `num_workers` argument` to `num_workers=18` in the `DataLoader` to improve performance.\n"
     ]
    },
    {
     "name": "stdout",
     "output_type": "stream",
     "text": [
      "Testing DataLoader 0: 100%|███████████████████████████████████████████████████████████████████████████| 1/1 [00:00<00:00,  8.17it/s]\n",
      "────────────────────────────────────────────────────────────────────────────────────────────────────────────────────────\n",
      "       Test metric             DataLoader 0\n",
      "────────────────────────────────────────────────────────────────────────────────────────────────────────────────────────\n",
      "    test/best_all/acc       0.7624521255493164\n",
      "    test/best_all/ap        0.47304728627204895\n",
      "   test/best_all/aupr       0.47085925936698914\n",
      "   test/best_all/auroc      0.8355786800384521\n",
      "   test/best_all/loss       0.7885730070194796\n",
      " test/best_all/loss_rec     0.7885730070194796\n",
      " test/best_all/precision    0.3142857253551483\n",
      "  test/best_all/recall      0.7723404169082642\n",
      " test/best_all/threshold    0.5835816860198975\n",
      "────────────────────────────────────────────────────────────────────────────────────────────────────────────────────────\n",
      "lightning_logs/B_naive/scMultiomeGRN/test/split_1/lightning_logs/version_3/checkpoints/epoch=44-step=45.ckpt\n"
     ]
    },
    {
     "data": {
      "text/plain": [
       "'lightning_logs/B_naive/scMultiomeGRN/test/split_1/lightning_logs/version_3'"
      ]
     },
     "execution_count": 16,
     "metadata": {},
     "output_type": "execute_result"
    }
   ],
   "source": [
    "Trainer.run_single_fold(**vars(config))"
   ]
  },
  {
   "cell_type": "code",
   "execution_count": null,
   "id": "dd895e7f-4ec6-4198-8764-9880bcaa48d3",
   "metadata": {},
   "outputs": [],
   "source": [
    "# Trainer.run_all_fold(**vars(config))"
   ]
  }
 ],
 "metadata": {
  "kernelspec": {
   "display_name": "scMultiomeGRN",
   "language": "python",
   "name": "scmultiomegrn"
  },
  "language_info": {
   "codemirror_mode": {
    "name": "ipython",
    "version": 3
   },
   "file_extension": ".py",
   "mimetype": "text/x-python",
   "name": "python",
   "nbconvert_exporter": "python",
   "pygments_lexer": "ipython3",
   "version": "3.10.13"
  }
 },
 "nbformat": 4,
 "nbformat_minor": 5
}
